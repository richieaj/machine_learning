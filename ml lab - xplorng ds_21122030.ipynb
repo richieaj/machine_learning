{
 "cells": [
  {
   "cell_type": "markdown",
   "id": "db92c81a",
   "metadata": {},
   "source": [
    "# LAB 3 - Prediction of Numeric Values"
   ]
  },
  {
   "cell_type": "markdown",
   "id": "834cbe98",
   "metadata": {},
   "source": [
    "## By\n",
    " - Name: JOLINSON RICHI \n",
    " - Register Number: 21122030\n",
    " - Class: 2MscDs"
   ]
  },
  {
   "cell_type": "markdown",
   "id": "3985e447",
   "metadata": {},
   "source": [
    "# Lab Overview"
   ]
  },
  {
   "cell_type": "markdown",
   "id": "8582d447",
   "metadata": {},
   "source": [
    "# Problem Definition\n",
    "\n",
    "**Common Instructions**\n",
    " - Use Pandas to Import the Dataset\n",
    " - Do the necessary Exploratory Data Analysis\n",
    " - Use the train_test_split method available in SCIKIT to split the dataset into Train Dataset and Test Dataset.\n",
    " - Show the Regression Score, Intercept and other parameters etc in the Output\n",
    " - Use visualizations and plots wherever possible\n",
    " - Format the outputs neatly; Do Documentation, Data Set Description, Objectives, Observations, Conclusions etc as you have done in your previous lab\n",
    " \n",
    "**Questions**\n",
    "1. What are your observations on the Dataset?\n",
    "2. What are the different Error Measures (Evaluation Metrics) in relation to Linear Regression? How much do you get in the above cases?\n",
    "3. Note down the errors/losses when the train-test ratio is 50:50, 60:40, 70:30, and 80:20\n",
    "4. During LinearRegression() process, what is the impact of giving TRUE/FALSE as the value for Normalize Parameter?\n",
    "\n",
    "**Cases\n",
    "Try to predict the rent of the below houses -**\n",
    "1. 1 BHK with 2 Baths in Portofino Street\n",
    "2. Fully Furnished 2 BHK in School Street\n",
    "3. Single Room anywhere in Lavasa"
   ]
  },
  {
   "cell_type": "markdown",
   "id": "866a72b3",
   "metadata": {},
   "source": [
    "# Objective\n",
    " - Understand the dataset and features.\n",
    " - Analyse the dataset.\n",
    " - Exploring the given insight."
   ]
  },
  {
   "cell_type": "markdown",
   "id": "759506a2",
   "metadata": {},
   "source": [
    "# Approach\n",
    " - Importing all libraries which we needed.\n",
    " - Perform data preprocessing technique to get balanced structured data.\n",
    " - Perform statistical data analysis and derive valuable inference.\n",
    " - perform exploratory data analysis and derive valuable inference.\n",
    " - Visualizing things with some plot and derive valuable inference.\n",
    " - Train and test through LinearRegression models for better prediction."
   ]
  },
  {
   "cell_type": "markdown",
   "id": "ef6ba10c",
   "metadata": {},
   "source": [
    "**Common Instructions**\n",
    " - Use Pandas to Import the Dataset\n",
    " - Do the necessary Exploratory Data Analysis\n",
    " - Use the train_test_split method available in SCIKIT to split the dataset into Train Dataset and Test Dataset.\n",
    " - Show the Regression Score, Intercept and other parameters etc in the Output\n",
    " - Use visualizations and plots wherever possible\n",
    " - Format the outputs neatly; Do Documentation, Data Set Description, Objectives, Observations, Conclusions etc as you have done in your previous lab"
   ]
  },
  {
   "cell_type": "markdown",
   "id": "ac122ea0",
   "metadata": {},
   "source": [
    "### Importing libraries"
   ]
  },
  {
   "cell_type": "code",
   "execution_count": 45,
   "id": "b25e8793",
   "metadata": {
    "scrolled": true
   },
   "outputs": [],
   "source": [
    "import pandas as pd\n",
    "import seaborn as sns\n",
    "import matplotlib.pyplot as plt\n",
    "import numpy as np\n",
    "import random\n",
    "import plotly.express as px\n",
    "from sklearn.model_selection import train_test_split\n",
    "from sklearn.linear_model import LinearRegression\n",
    "from sklearn.metrics import mean_absolute_error, mean_squared_error, r2_score"
   ]
  },
  {
   "cell_type": "code",
   "execution_count": 14,
   "id": "8d7bff79",
   "metadata": {},
   "outputs": [
    {
     "data": {
      "text/html": [
       "<div>\n",
       "<style scoped>\n",
       "    .dataframe tbody tr th:only-of-type {\n",
       "        vertical-align: middle;\n",
       "    }\n",
       "\n",
       "    .dataframe tbody tr th {\n",
       "        vertical-align: top;\n",
       "    }\n",
       "\n",
       "    .dataframe thead th {\n",
       "        text-align: right;\n",
       "    }\n",
       "</style>\n",
       "<table border=\"1\" class=\"dataframe\">\n",
       "  <thead>\n",
       "    <tr style=\"text-align: right;\">\n",
       "      <th></th>\n",
       "      <th>BuildingType</th>\n",
       "      <th>Location</th>\n",
       "      <th>Size</th>\n",
       "      <th>AreaSqFt</th>\n",
       "      <th>NoOfBath</th>\n",
       "      <th>NoOfPeople</th>\n",
       "      <th>NoOfBalcony</th>\n",
       "      <th>RentPerMonth</th>\n",
       "    </tr>\n",
       "  </thead>\n",
       "  <tbody>\n",
       "    <tr>\n",
       "      <th>0</th>\n",
       "      <td>Minimum Budget Rooms</td>\n",
       "      <td>Portofino H</td>\n",
       "      <td>1 BHK</td>\n",
       "      <td>400.0</td>\n",
       "      <td>1</td>\n",
       "      <td>1</td>\n",
       "      <td>1</td>\n",
       "      <td>1100.0</td>\n",
       "    </tr>\n",
       "    <tr>\n",
       "      <th>1</th>\n",
       "      <td>Minimum Budget Rooms</td>\n",
       "      <td>Portofino H</td>\n",
       "      <td>1 BHK</td>\n",
       "      <td>450.0</td>\n",
       "      <td>1</td>\n",
       "      <td>1</td>\n",
       "      <td>1</td>\n",
       "      <td>1100.0</td>\n",
       "    </tr>\n",
       "    <tr>\n",
       "      <th>2</th>\n",
       "      <td>Minimum Budget Rooms</td>\n",
       "      <td>School Street</td>\n",
       "      <td>1 BHK</td>\n",
       "      <td>530.0</td>\n",
       "      <td>1</td>\n",
       "      <td>1</td>\n",
       "      <td>0</td>\n",
       "      <td>1166.0</td>\n",
       "    </tr>\n",
       "    <tr>\n",
       "      <th>3</th>\n",
       "      <td>Minimum Budget Rooms</td>\n",
       "      <td>Portofino B</td>\n",
       "      <td>1 BHK</td>\n",
       "      <td>400.0</td>\n",
       "      <td>1</td>\n",
       "      <td>1</td>\n",
       "      <td>0</td>\n",
       "      <td>1400.0</td>\n",
       "    </tr>\n",
       "    <tr>\n",
       "      <th>4</th>\n",
       "      <td>Minimum Budget Rooms</td>\n",
       "      <td>School Street</td>\n",
       "      <td>2 BHK</td>\n",
       "      <td>460.0</td>\n",
       "      <td>1</td>\n",
       "      <td>1</td>\n",
       "      <td>0</td>\n",
       "      <td>1500.0</td>\n",
       "    </tr>\n",
       "    <tr>\n",
       "      <th>...</th>\n",
       "      <td>...</td>\n",
       "      <td>...</td>\n",
       "      <td>...</td>\n",
       "      <td>...</td>\n",
       "      <td>...</td>\n",
       "      <td>...</td>\n",
       "      <td>...</td>\n",
       "      <td>...</td>\n",
       "    </tr>\n",
       "    <tr>\n",
       "      <th>995</th>\n",
       "      <td>Super Furnished Villa</td>\n",
       "      <td>Portofino D</td>\n",
       "      <td>4 BHK</td>\n",
       "      <td>4900.0</td>\n",
       "      <td>4</td>\n",
       "      <td>6</td>\n",
       "      <td>3</td>\n",
       "      <td>70000.0</td>\n",
       "    </tr>\n",
       "    <tr>\n",
       "      <th>996</th>\n",
       "      <td>Super Furnished Villa</td>\n",
       "      <td>Portofino B</td>\n",
       "      <td>4 BHK</td>\n",
       "      <td>3750.0</td>\n",
       "      <td>4</td>\n",
       "      <td>5</td>\n",
       "      <td>0</td>\n",
       "      <td>76000.0</td>\n",
       "    </tr>\n",
       "    <tr>\n",
       "      <th>997</th>\n",
       "      <td>Super Furnished Villa</td>\n",
       "      <td>School Street</td>\n",
       "      <td>4 BHK</td>\n",
       "      <td>5270.0</td>\n",
       "      <td>4</td>\n",
       "      <td>5</td>\n",
       "      <td>3</td>\n",
       "      <td>80000.0</td>\n",
       "    </tr>\n",
       "    <tr>\n",
       "      <th>998</th>\n",
       "      <td>Super Furnished Villa</td>\n",
       "      <td>Portofino B</td>\n",
       "      <td>6 BHK</td>\n",
       "      <td>5100.0</td>\n",
       "      <td>7</td>\n",
       "      <td>6</td>\n",
       "      <td>3</td>\n",
       "      <td>90000.0</td>\n",
       "    </tr>\n",
       "    <tr>\n",
       "      <th>999</th>\n",
       "      <td>Super Furnished Villa</td>\n",
       "      <td>Portofino B</td>\n",
       "      <td>7 BHK</td>\n",
       "      <td>6300.0</td>\n",
       "      <td>6</td>\n",
       "      <td>6</td>\n",
       "      <td>3</td>\n",
       "      <td>96000.0</td>\n",
       "    </tr>\n",
       "  </tbody>\n",
       "</table>\n",
       "<p>1000 rows × 8 columns</p>\n",
       "</div>"
      ],
      "text/plain": [
       "              BuildingType       Location   Size  AreaSqFt  NoOfBath  \\\n",
       "0     Minimum Budget Rooms    Portofino H  1 BHK     400.0         1   \n",
       "1     Minimum Budget Rooms    Portofino H  1 BHK     450.0         1   \n",
       "2     Minimum Budget Rooms  School Street  1 BHK     530.0         1   \n",
       "3     Minimum Budget Rooms    Portofino B  1 BHK     400.0         1   \n",
       "4     Minimum Budget Rooms  School Street  2 BHK     460.0         1   \n",
       "..                     ...            ...    ...       ...       ...   \n",
       "995  Super Furnished Villa    Portofino D  4 BHK    4900.0         4   \n",
       "996  Super Furnished Villa    Portofino B  4 BHK    3750.0         4   \n",
       "997  Super Furnished Villa  School Street  4 BHK    5270.0         4   \n",
       "998  Super Furnished Villa    Portofino B  6 BHK    5100.0         7   \n",
       "999  Super Furnished Villa    Portofino B  7 BHK    6300.0         6   \n",
       "\n",
       "     NoOfPeople  NoOfBalcony  RentPerMonth  \n",
       "0             1            1        1100.0  \n",
       "1             1            1        1100.0  \n",
       "2             1            0        1166.0  \n",
       "3             1            0        1400.0  \n",
       "4             1            0        1500.0  \n",
       "..          ...          ...           ...  \n",
       "995           6            3       70000.0  \n",
       "996           5            0       76000.0  \n",
       "997           5            3       80000.0  \n",
       "998           6            3       90000.0  \n",
       "999           6            3       96000.0  \n",
       "\n",
       "[1000 rows x 8 columns]"
      ]
     },
     "execution_count": 14,
     "metadata": {},
     "output_type": "execute_result"
    }
   ],
   "source": [
    "hbk = pd.read_csv(\"D:\\AJR\\machine learning\\HousePrices.csv\")\n",
    "hbk"
   ]
  },
  {
   "cell_type": "code",
   "execution_count": 3,
   "id": "e7eeff4a",
   "metadata": {
    "scrolled": true
   },
   "outputs": [
    {
     "data": {
      "text/html": [
       "<div>\n",
       "<style scoped>\n",
       "    .dataframe tbody tr th:only-of-type {\n",
       "        vertical-align: middle;\n",
       "    }\n",
       "\n",
       "    .dataframe tbody tr th {\n",
       "        vertical-align: top;\n",
       "    }\n",
       "\n",
       "    .dataframe thead th {\n",
       "        text-align: right;\n",
       "    }\n",
       "</style>\n",
       "<table border=\"1\" class=\"dataframe\">\n",
       "  <thead>\n",
       "    <tr style=\"text-align: right;\">\n",
       "      <th></th>\n",
       "      <th>AreaSqFt</th>\n",
       "      <th>NoOfBath</th>\n",
       "      <th>NoOfPeople</th>\n",
       "      <th>NoOfBalcony</th>\n",
       "      <th>RentPerMonth</th>\n",
       "    </tr>\n",
       "  </thead>\n",
       "  <tbody>\n",
       "    <tr>\n",
       "      <th>count</th>\n",
       "      <td>1000.000000</td>\n",
       "      <td>1000.000000</td>\n",
       "      <td>1000.000000</td>\n",
       "      <td>1000.000000</td>\n",
       "      <td>1000.000000</td>\n",
       "    </tr>\n",
       "    <tr>\n",
       "      <th>mean</th>\n",
       "      <td>1548.270010</td>\n",
       "      <td>2.661000</td>\n",
       "      <td>2.168000</td>\n",
       "      <td>1.544000</td>\n",
       "      <td>10476.633500</td>\n",
       "    </tr>\n",
       "    <tr>\n",
       "      <th>std</th>\n",
       "      <td>1345.141175</td>\n",
       "      <td>1.247251</td>\n",
       "      <td>0.959529</td>\n",
       "      <td>0.838312</td>\n",
       "      <td>10509.508971</td>\n",
       "    </tr>\n",
       "    <tr>\n",
       "      <th>min</th>\n",
       "      <td>375.000000</td>\n",
       "      <td>1.000000</td>\n",
       "      <td>1.000000</td>\n",
       "      <td>0.000000</td>\n",
       "      <td>1100.000000</td>\n",
       "    </tr>\n",
       "    <tr>\n",
       "      <th>25%</th>\n",
       "      <td>1090.000000</td>\n",
       "      <td>2.000000</td>\n",
       "      <td>2.000000</td>\n",
       "      <td>1.000000</td>\n",
       "      <td>4890.500000</td>\n",
       "    </tr>\n",
       "    <tr>\n",
       "      <th>50%</th>\n",
       "      <td>1270.000000</td>\n",
       "      <td>2.000000</td>\n",
       "      <td>2.000000</td>\n",
       "      <td>2.000000</td>\n",
       "      <td>7000.000000</td>\n",
       "    </tr>\n",
       "    <tr>\n",
       "      <th>75%</th>\n",
       "      <td>1664.250000</td>\n",
       "      <td>3.000000</td>\n",
       "      <td>2.000000</td>\n",
       "      <td>2.000000</td>\n",
       "      <td>11925.000000</td>\n",
       "    </tr>\n",
       "    <tr>\n",
       "      <th>max</th>\n",
       "      <td>35000.000000</td>\n",
       "      <td>11.000000</td>\n",
       "      <td>6.000000</td>\n",
       "      <td>3.000000</td>\n",
       "      <td>96000.000000</td>\n",
       "    </tr>\n",
       "  </tbody>\n",
       "</table>\n",
       "</div>"
      ],
      "text/plain": [
       "           AreaSqFt     NoOfBath   NoOfPeople  NoOfBalcony  RentPerMonth\n",
       "count   1000.000000  1000.000000  1000.000000  1000.000000   1000.000000\n",
       "mean    1548.270010     2.661000     2.168000     1.544000  10476.633500\n",
       "std     1345.141175     1.247251     0.959529     0.838312  10509.508971\n",
       "min      375.000000     1.000000     1.000000     0.000000   1100.000000\n",
       "25%     1090.000000     2.000000     2.000000     1.000000   4890.500000\n",
       "50%     1270.000000     2.000000     2.000000     2.000000   7000.000000\n",
       "75%     1664.250000     3.000000     2.000000     2.000000  11925.000000\n",
       "max    35000.000000    11.000000     6.000000     3.000000  96000.000000"
      ]
     },
     "execution_count": 3,
     "metadata": {},
     "output_type": "execute_result"
    }
   ],
   "source": [
    "hbk.describe()"
   ]
  },
  {
   "cell_type": "code",
   "execution_count": 4,
   "id": "313d4c00",
   "metadata": {},
   "outputs": [
    {
     "data": {
      "text/plain": [
       "<bound method DataFrame.info of               BuildingType       Location   Size  AreaSqFt  NoOfBath  \\\n",
       "0     Minimum Budget Rooms    Portofino H  1 BHK     400.0         1   \n",
       "1     Minimum Budget Rooms    Portofino H  1 BHK     450.0         1   \n",
       "2     Minimum Budget Rooms  School Street  1 BHK     530.0         1   \n",
       "3     Minimum Budget Rooms    Portofino B  1 BHK     400.0         1   \n",
       "4     Minimum Budget Rooms  School Street  2 BHK     460.0         1   \n",
       "..                     ...            ...    ...       ...       ...   \n",
       "995  Super Furnished Villa    Portofino D  4 BHK    4900.0         4   \n",
       "996  Super Furnished Villa    Portofino B  4 BHK    3750.0         4   \n",
       "997  Super Furnished Villa  School Street  4 BHK    5270.0         4   \n",
       "998  Super Furnished Villa    Portofino B  6 BHK    5100.0         7   \n",
       "999  Super Furnished Villa    Portofino B  7 BHK    6300.0         6   \n",
       "\n",
       "     NoOfPeople  NoOfBalcony  RentPerMonth  \n",
       "0             1            1        1100.0  \n",
       "1             1            1        1100.0  \n",
       "2             1            0        1166.0  \n",
       "3             1            0        1400.0  \n",
       "4             1            0        1500.0  \n",
       "..          ...          ...           ...  \n",
       "995           6            3       70000.0  \n",
       "996           5            0       76000.0  \n",
       "997           5            3       80000.0  \n",
       "998           6            3       90000.0  \n",
       "999           6            3       96000.0  \n",
       "\n",
       "[1000 rows x 8 columns]>"
      ]
     },
     "execution_count": 4,
     "metadata": {},
     "output_type": "execute_result"
    }
   ],
   "source": [
    "hbk.info"
   ]
  },
  {
   "cell_type": "code",
   "execution_count": 21,
   "id": "e13db097",
   "metadata": {},
   "outputs": [
    {
     "data": {
      "text/plain": [
       "BuildingType    0\n",
       "Location        0\n",
       "Size            0\n",
       "AreaSqFt        0\n",
       "NoOfBath        0\n",
       "NoOfPeople      0\n",
       "NoOfBalcony     0\n",
       "RentPerMonth    0\n",
       "dtype: int64"
      ]
     },
     "execution_count": 21,
     "metadata": {},
     "output_type": "execute_result"
    }
   ],
   "source": [
    "hbk.isnull().sum()"
   ]
  },
  {
   "cell_type": "code",
   "execution_count": 23,
   "id": "538353d6",
   "metadata": {},
   "outputs": [
    {
     "data": {
      "text/plain": [
       "Size\n",
       "1 BHK     670.294118\n",
       "1 RK      477.500000\n",
       "2 BHK    1132.487203\n",
       "3 BHK    1753.385269\n",
       "4 BHK    2644.805825\n",
       "5 BHK    2331.090909\n",
       "6 BHK    1829.238095\n",
       "7 BHK    2660.714286\n",
       "8 BHK    2093.750000\n",
       "9 BHK    2715.000000\n",
       "Name: AreaSqFt, dtype: float64"
      ]
     },
     "execution_count": 23,
     "metadata": {},
     "output_type": "execute_result"
    }
   ],
   "source": [
    "hbk.groupby('Size')['AreaSqFt'].mean()"
   ]
  },
  {
   "cell_type": "code",
   "execution_count": 25,
   "id": "b17a9afb",
   "metadata": {},
   "outputs": [
    {
     "data": {
      "text/plain": [
       "6"
      ]
     },
     "execution_count": 25,
     "metadata": {},
     "output_type": "execute_result"
    }
   ],
   "source": [
    "hbk.duplicated().sum()"
   ]
  },
  {
   "cell_type": "code",
   "execution_count": 27,
   "id": "facea067",
   "metadata": {
    "scrolled": false
   },
   "outputs": [
    {
     "data": {
      "text/plain": [
       "AreaSqFt        16.025687\n",
       "NoOfBath         2.119702\n",
       "NoOfPeople       1.600491\n",
       "NoOfBalcony     -0.011505\n",
       "RentPerMonth     3.477116\n",
       "dtype: float64"
      ]
     },
     "execution_count": 27,
     "metadata": {},
     "output_type": "execute_result"
    }
   ],
   "source": [
    "hbk.skew()"
   ]
  },
  {
   "cell_type": "code",
   "execution_count": 28,
   "id": "1eb349be",
   "metadata": {
    "scrolled": true
   },
   "outputs": [
    {
     "data": {
      "text/html": [
       "<div>\n",
       "<style scoped>\n",
       "    .dataframe tbody tr th:only-of-type {\n",
       "        vertical-align: middle;\n",
       "    }\n",
       "\n",
       "    .dataframe tbody tr th {\n",
       "        vertical-align: top;\n",
       "    }\n",
       "\n",
       "    .dataframe thead th {\n",
       "        text-align: right;\n",
       "    }\n",
       "</style>\n",
       "<table border=\"1\" class=\"dataframe\">\n",
       "  <thead>\n",
       "    <tr style=\"text-align: right;\">\n",
       "      <th></th>\n",
       "      <th>AreaSqFt</th>\n",
       "      <th>NoOfBath</th>\n",
       "      <th>NoOfPeople</th>\n",
       "      <th>NoOfBalcony</th>\n",
       "      <th>RentPerMonth</th>\n",
       "    </tr>\n",
       "  </thead>\n",
       "  <tbody>\n",
       "    <tr>\n",
       "      <th>AreaSqFt</th>\n",
       "      <td>1.000000</td>\n",
       "      <td>0.375791</td>\n",
       "      <td>0.374907</td>\n",
       "      <td>0.206123</td>\n",
       "      <td>0.473022</td>\n",
       "    </tr>\n",
       "    <tr>\n",
       "      <th>NoOfBath</th>\n",
       "      <td>0.375791</td>\n",
       "      <td>1.000000</td>\n",
       "      <td>0.480063</td>\n",
       "      <td>0.258885</td>\n",
       "      <td>0.579693</td>\n",
       "    </tr>\n",
       "    <tr>\n",
       "      <th>NoOfPeople</th>\n",
       "      <td>0.374907</td>\n",
       "      <td>0.480063</td>\n",
       "      <td>1.000000</td>\n",
       "      <td>0.184932</td>\n",
       "      <td>0.782853</td>\n",
       "    </tr>\n",
       "    <tr>\n",
       "      <th>NoOfBalcony</th>\n",
       "      <td>0.206123</td>\n",
       "      <td>0.258885</td>\n",
       "      <td>0.184932</td>\n",
       "      <td>1.000000</td>\n",
       "      <td>0.193619</td>\n",
       "    </tr>\n",
       "    <tr>\n",
       "      <th>RentPerMonth</th>\n",
       "      <td>0.473022</td>\n",
       "      <td>0.579693</td>\n",
       "      <td>0.782853</td>\n",
       "      <td>0.193619</td>\n",
       "      <td>1.000000</td>\n",
       "    </tr>\n",
       "  </tbody>\n",
       "</table>\n",
       "</div>"
      ],
      "text/plain": [
       "              AreaSqFt  NoOfBath  NoOfPeople  NoOfBalcony  RentPerMonth\n",
       "AreaSqFt      1.000000  0.375791    0.374907     0.206123      0.473022\n",
       "NoOfBath      0.375791  1.000000    0.480063     0.258885      0.579693\n",
       "NoOfPeople    0.374907  0.480063    1.000000     0.184932      0.782853\n",
       "NoOfBalcony   0.206123  0.258885    0.184932     1.000000      0.193619\n",
       "RentPerMonth  0.473022  0.579693    0.782853     0.193619      1.000000"
      ]
     },
     "execution_count": 28,
     "metadata": {},
     "output_type": "execute_result"
    }
   ],
   "source": [
    "hbk.corr()"
   ]
  },
  {
   "cell_type": "code",
   "execution_count": 33,
   "id": "b77f0535",
   "metadata": {},
   "outputs": [
    {
     "data": {
      "text/plain": [
       "[]"
      ]
     },
     "execution_count": 33,
     "metadata": {},
     "output_type": "execute_result"
    },
    {
     "data": {
      "image/png": "[encoded data removed]",
      "text/plain": [
       "<Figure size 720x432 with 1 Axes>"
      ]
     },
     "metadata": {
      "needs_background": "light"
     },
     "output_type": "display_data"
    }
   ],
   "source": [
    "fig=plt.figure(figsize=(10,6))\n",
    "hbk.boxplot(column=['AreaSqFt'])\n",
    "plt.semilogy()"
   ]
  },
  {
   "cell_type": "code",
   "execution_count": 35,
   "id": "fe63d6c4",
   "metadata": {
    "scrolled": true
   },
   "outputs": [
    {
     "data": {
      "image/png": "[encoded data removed]",
      "text/plain": [
       "<Figure size 432x288 with 1 Axes>"
      ]
     },
     "metadata": {
      "needs_background": "light"
     },
     "output_type": "display_data"
    }
   ],
   "source": [
    "plt=sns.countplot(x='NoOfBalcony',data=hbk)"
   ]
  },
  {
   "cell_type": "code",
   "execution_count": 41,
   "id": "4550f798",
   "metadata": {},
   "outputs": [
    {
     "data": {
      "image/png": "[encoded data removed]",
      "text/plain": [
       "<Figure size 1872x720 with 1 Axes>"
      ]
     },
     "metadata": {
      "needs_background": "light"
     },
     "output_type": "display_data"
    }
   ],
   "source": [
    "plt.figure(figsize = [26,10])\n",
    "sns.countplot(x = 'BuildingType', palette = \"dark\", alpha = 1, data = hbk)\n",
    "sns.despine()"
   ]
  },
  {
   "cell_type": "code",
   "execution_count": 12,
   "id": "9fcddd7f",
   "metadata": {
    "scrolled": false
   },
   "outputs": [
    {
     "data": {
      "image/png": "[encoded data removed]",
      "text/plain": [
       "<Figure size 1440x720 with 1 Axes>"
      ]
     },
     "metadata": {},
     "output_type": "display_data"
    }
   ],
   "source": [
    "plt=sns.countplot(x='Location',data=hbk)\n",
    "sns.set(rc = {'figure.figsize':(15,10)})"
   ]
  },
  {
   "cell_type": "code",
   "execution_count": 50,
   "id": "c1c38e9c",
   "metadata": {},
   "outputs": [
    {
     "data": {
      "application/vnd.plotly.v1+json": {
       "config": {
        "plotlyServerURL": "https://plot.ly"
       },
       "data": [
        {
         "customdata": [
          [
           0.274
          ],
          [
           0.246
          ],
          [
           0.153
          ],
          [
           0.146
          ],
          [
           0.063
          ],
          [
           0.041
          ],
          [
           0.025
          ],
          [
           0.021
          ],
          [
           0.019
          ],
          [
           0.012
          ]
         ],
         "domain": {
          "x": [
           0,
           1
          ],
          "y": [
           0,
           1
          ]
         },
         "hovertemplate": "BuildingType=%{label}<br>Percent=%{customdata[0]}<extra></extra>",
         "labels": [
          "Semi Furnished Single Room",
          "Semi Furnished Flat",
          "Fully Furnished Single Room",
          "Minimum Budget Rooms",
          "Semi Furnished Villa",
          "Fully Furnished Flat",
          "Super Furnished Single Room",
          "Super Furnished Villa",
          "Fully Furnished Villa",
          "Super Furnished Flat"
         ],
         "legendgroup": "",
         "marker": {
          "colors": [
           "rgb(103,0,31)",
           "rgb(178,24,43)",
           "rgb(214,96,77)",
           "rgb(244,165,130)",
           "rgb(253,219,199)",
           "rgb(247,247,247)",
           "rgb(209,229,240)",
           "rgb(146,197,222)",
           "rgb(67,147,195)",
           "rgb(33,102,172)"
          ]
         },
         "name": "",
         "showlegend": true,
         "type": "pie",
         "values": [
          0.274,
          0.246,
          0.153,
          0.146,
          0.063,
          0.041,
          0.025,
          0.021,
          0.019,
          0.012
         ]
        }
       ],
       "layout": {
        "legend": {
         "tracegroupgap": 0
        },
        "piecolorway": [
         "rgb(103,0,31)",
         "rgb(178,24,43)",
         "rgb(214,96,77)",
         "rgb(244,165,130)",
         "rgb(253,219,199)",
         "rgb(247,247,247)",
         "rgb(209,229,240)",
         "rgb(146,197,222)",
         "rgb(67,147,195)",
         "rgb(33,102,172)",
         "rgb(5,48,97)"
        ],
        "template": {
         "data": {
          "bar": [
           {
            "error_x": {
             "color": "#2a3f5f"
            },
            "error_y": {
             "color": "#2a3f5f"
            },
            "marker": {
             "line": {
              "color": "#E5ECF6",
              "width": 0.5
             },
             "pattern": {
              "fillmode": "overlay",
              "size": 10,
              "solidity": 0.2
             }
            },
            "type": "bar"
           }
          ],
          "barpolar": [
           {
            "marker": {
             "line": {
              "color": "#E5ECF6",
              "width": 0.5
             },
             "pattern": {
              "fillmode": "overlay",
              "size": 10,
              "solidity": 0.2
             }
            },
            "type": "barpolar"
           }
          ],
          "carpet": [
           {
            "aaxis": {
             "endlinecolor": "#2a3f5f",
             "gridcolor": "white",
             "linecolor": "white",
             "minorgridcolor": "white",
             "startlinecolor": "#2a3f5f"
            },
            "baxis": {
             "endlinecolor": "#2a3f5f",
             "gridcolor": "white",
             "linecolor": "white",
             "minorgridcolor": "white",
             "startlinecolor": "#2a3f5f"
            },
            "type": "carpet"
           }
          ],
          "choropleth": [
           {
            "colorbar": {
             "outlinewidth": 0,
             "ticks": ""
            },
            "type": "choropleth"
           }
          ],
          "contour": [
           {
            "colorbar": {
             "outlinewidth": 0,
             "ticks": ""
            },
            "colorscale": [
             [
              0,
              "#0d0887"
             ],
             [
              0.1111111111111111,
              "#46039f"
             ],
             [
              0.2222222222222222,
              "#7201a8"
             ],
             [
              0.3333333333333333,
              "#9c179e"
             ],
             [
              0.4444444444444444,
              "#bd3786"
             ],
             [
              0.5555555555555556,
              "#d8576b"
             ],
             [
              0.6666666666666666,
              "#ed7953"
             ],
             [
              0.7777777777777778,
              "#fb9f3a"
             ],
             [
              0.8888888888888888,
              "#fdca26"
             ],
             [
              1,
              "#f0f921"
             ]
            ],
            "type": "contour"
           }
          ],
          "contourcarpet": [
           {
            "colorbar": {
             "outlinewidth": 0,
             "ticks": ""
            },
            "type": "contourcarpet"
           }
          ],
          "heatmap": [
           {
            "colorbar": {
             "outlinewidth": 0,
             "ticks": ""
            },
            "colorscale": [
             [
              0,
              "#0d0887"
             ],
             [
              0.1111111111111111,
              "#46039f"
             ],
             [
              0.2222222222222222,
              "#7201a8"
             ],
             [
              0.3333333333333333,
              "#9c179e"
             ],
             [
              0.4444444444444444,
              "#bd3786"
             ],
             [
              0.5555555555555556,
              "#d8576b"
             ],
             [
              0.6666666666666666,
              "#ed7953"
             ],
             [
              0.7777777777777778,
              "#fb9f3a"
             ],
             [
              0.8888888888888888,
              "#fdca26"
             ],
             [
              1,
              "#f0f921"
             ]
            ],
            "type": "heatmap"
           }
          ],
          "heatmapgl": [
           {
            "colorbar": {
             "outlinewidth": 0,
             "ticks": ""
            },
            "colorscale": [
             [
              0,
              "#0d0887"
             ],
             [
              0.1111111111111111,
              "#46039f"
             ],
             [
              0.2222222222222222,
              "#7201a8"
             ],
             [
              0.3333333333333333,
              "#9c179e"
             ],
             [
              0.4444444444444444,
              "#bd3786"
             ],
             [
              0.5555555555555556,
              "#d8576b"
             ],
             [
              0.6666666666666666,
              "#ed7953"
             ],
             [
              0.7777777777777778,
              "#fb9f3a"
             ],
             [
              0.8888888888888888,
              "#fdca26"
             ],
             [
              1,
              "#f0f921"
             ]
            ],
            "type": "heatmapgl"
           }
          ],
          "histogram": [
           {
            "marker": {
             "pattern": {
              "fillmode": "overlay",
              "size": 10,
              "solidity": 0.2
             }
            },
            "type": "histogram"
           }
          ],
          "histogram2d": [
           {
            "colorbar": {
             "outlinewidth": 0,
             "ticks": ""
            },
            "colorscale": [
             [
              0,
              "#0d0887"
             ],
             [
              0.1111111111111111,
              "#46039f"
             ],
             [
              0.2222222222222222,
              "#7201a8"
             ],
             [
              0.3333333333333333,
              "#9c179e"
             ],
             [
              0.4444444444444444,
              "#bd3786"
             ],
             [
              0.5555555555555556,
              "#d8576b"
             ],
             [
              0.6666666666666666,
              "#ed7953"
             ],
             [
              0.7777777777777778,
              "#fb9f3a"
             ],
             [
              0.8888888888888888,
              "#fdca26"
             ],
             [
              1,
              "#f0f921"
             ]
            ],
            "type": "histogram2d"
           }
          ],
          "histogram2dcontour": [
           {
            "colorbar": {
             "outlinewidth": 0,
             "ticks": ""
            },
            "colorscale": [
             [
              0,
              "#0d0887"
             ],
             [
              0.1111111111111111,
              "#46039f"
             ],
             [
              0.2222222222222222,
              "#7201a8"
             ],
             [
              0.3333333333333333,
              "#9c179e"
             ],
             [
              0.4444444444444444,
              "#bd3786"
             ],
             [
              0.5555555555555556,
              "#d8576b"
             ],
             [
              0.6666666666666666,
              "#ed7953"
             ],
             [
              0.7777777777777778,
              "#fb9f3a"
             ],
             [
              0.8888888888888888,
              "#fdca26"
             ],
             [
              1,
              "#f0f921"
             ]
            ],
            "type": "histogram2dcontour"
           }
          ],
          "mesh3d": [
           {
            "colorbar": {
             "outlinewidth": 0,
             "ticks": ""
            },
            "type": "mesh3d"
           }
          ],
          "parcoords": [
           {
            "line": {
             "colorbar": {
              "outlinewidth": 0,
              "ticks": ""
             }
            },
            "type": "parcoords"
           }
          ],
          "pie": [
           {
            "automargin": true,
            "type": "pie"
           }
          ],
          "scatter": [
           {
            "marker": {
             "colorbar": {
              "outlinewidth": 0,
              "ticks": ""
             }
            },
            "type": "scatter"
           }
          ],
          "scatter3d": [
           {
            "line": {
             "colorbar": {
              "outlinewidth": 0,
              "ticks": ""
             }
            },
            "marker": {
             "colorbar": {
              "outlinewidth": 0,
              "ticks": ""
             }
            },
            "type": "scatter3d"
           }
          ],
          "scattercarpet": [
           {
            "marker": {
             "colorbar": {
              "outlinewidth": 0,
              "ticks": ""
             }
            },
            "type": "scattercarpet"
           }
          ],
          "scattergeo": [
           {
            "marker": {
             "colorbar": {
              "outlinewidth": 0,
              "ticks": ""
             }
            },
            "type": "scattergeo"
           }
          ],
          "scattergl": [
           {
            "marker": {
             "colorbar": {
              "outlinewidth": 0,
              "ticks": ""
             }
            },
            "type": "scattergl"
           }
          ],
          "scattermapbox": [
           {
            "marker": {
             "colorbar": {
              "outlinewidth": 0,
              "ticks": ""
             }
            },
            "type": "scattermapbox"
           }
          ],
          "scatterpolar": [
           {
            "marker": {
             "colorbar": {
              "outlinewidth": 0,
              "ticks": ""
             }
            },
            "type": "scatterpolar"
           }
          ],
          "scatterpolargl": [
           {
            "marker": {
             "colorbar": {
              "outlinewidth": 0,
              "ticks": ""
             }
            },
            "type": "scatterpolargl"
           }
          ],
          "scatterternary": [
           {
            "marker": {
             "colorbar": {
              "outlinewidth": 0,
              "ticks": ""
             }
            },
            "type": "scatterternary"
           }
          ],
          "surface": [
           {
            "colorbar": {
             "outlinewidth": 0,
             "ticks": ""
            },
            "colorscale": [
             [
              0,
              "#0d0887"
             ],
             [
              0.1111111111111111,
              "#46039f"
             ],
             [
              0.2222222222222222,
              "#7201a8"
             ],
             [
              0.3333333333333333,
              "#9c179e"
             ],
             [
              0.4444444444444444,
              "#bd3786"
             ],
             [
              0.5555555555555556,
              "#d8576b"
             ],
             [
              0.6666666666666666,
              "#ed7953"
             ],
             [
              0.7777777777777778,
              "#fb9f3a"
             ],
             [
              0.8888888888888888,
              "#fdca26"
             ],
             [
              1,
              "#f0f921"
             ]
            ],
            "type": "surface"
           }
          ],
          "table": [
           {
            "cells": {
             "fill": {
              "color": "#EBF0F8"
             },
             "line": {
              "color": "white"
             }
            },
            "header": {
             "fill": {
              "color": "#C8D4E3"
             },
             "line": {
              "color": "white"
             }
            },
            "type": "table"
           }
          ]
         },
         "layout": {
          "annotationdefaults": {
           "arrowcolor": "#2a3f5f",
           "arrowhead": 0,
           "arrowwidth": 1
          },
          "autotypenumbers": "strict",
          "coloraxis": {
           "colorbar": {
            "outlinewidth": 0,
            "ticks": ""
           }
          },
          "colorscale": {
           "diverging": [
            [
             0,
             "#8e0152"
            ],
            [
             0.1,
             "#c51b7d"
            ],
            [
             0.2,
             "#de77ae"
            ],
            [
             0.3,
             "#f1b6da"
            ],
            [
             0.4,
             "#fde0ef"
            ],
            [
             0.5,
             "#f7f7f7"
            ],
            [
             0.6,
             "#e6f5d0"
            ],
            [
             0.7,
             "#b8e186"
            ],
            [
             0.8,
             "#7fbc41"
            ],
            [
             0.9,
             "#4d9221"
            ],
            [
             1,
             "#276419"
            ]
           ],
           "sequential": [
            [
             0,
             "#0d0887"
            ],
            [
             0.1111111111111111,
             "#46039f"
            ],
            [
             0.2222222222222222,
             "#7201a8"
            ],
            [
             0.3333333333333333,
             "#9c179e"
            ],
            [
             0.4444444444444444,
             "#bd3786"
            ],
            [
             0.5555555555555556,
             "#d8576b"
            ],
            [
             0.6666666666666666,
             "#ed7953"
            ],
            [
             0.7777777777777778,
             "#fb9f3a"
            ],
            [
             0.8888888888888888,
             "#fdca26"
            ],
            [
             1,
             "#f0f921"
            ]
           ],
           "sequentialminus": [
            [
             0,
             "#0d0887"
            ],
            [
             0.1111111111111111,
             "#46039f"
            ],
            [
             0.2222222222222222,
             "#7201a8"
            ],
            [
             0.3333333333333333,
             "#9c179e"
            ],
            [
             0.4444444444444444,
             "#bd3786"
            ],
            [
             0.5555555555555556,
             "#d8576b"
            ],
            [
             0.6666666666666666,
             "#ed7953"
            ],
            [
             0.7777777777777778,
             "#fb9f3a"
            ],
            [
             0.8888888888888888,
             "#fdca26"
            ],
            [
             1,
             "#f0f921"
            ]
           ]
          },
          "colorway": [
           "#636efa",
           "#EF553B",
           "#00cc96",
           "#ab63fa",
           "#FFA15A",
           "#19d3f3",
           "#FF6692",
           "#B6E880",
           "#FF97FF",
           "#FECB52"
          ],
          "font": {
           "color": "#2a3f5f"
          },
          "geo": {
           "bgcolor": "white",
           "lakecolor": "white",
           "landcolor": "#E5ECF6",
           "showlakes": true,
           "showland": true,
           "subunitcolor": "white"
          },
          "hoverlabel": {
           "align": "left"
          },
          "hovermode": "closest",
          "mapbox": {
           "style": "light"
          },
          "paper_bgcolor": "white",
          "plot_bgcolor": "#E5ECF6",
          "polar": {
           "angularaxis": {
            "gridcolor": "white",
            "linecolor": "white",
            "ticks": ""
           },
           "bgcolor": "#E5ECF6",
           "radialaxis": {
            "gridcolor": "white",
            "linecolor": "white",
            "ticks": ""
           }
          },
          "scene": {
           "xaxis": {
            "backgroundcolor": "#E5ECF6",
            "gridcolor": "white",
            "gridwidth": 2,
            "linecolor": "white",
            "showbackground": true,
            "ticks": "",
            "zerolinecolor": "white"
           },
           "yaxis": {
            "backgroundcolor": "#E5ECF6",
            "gridcolor": "white",
            "gridwidth": 2,
            "linecolor": "white",
            "showbackground": true,
            "ticks": "",
            "zerolinecolor": "white"
           },
           "zaxis": {
            "backgroundcolor": "#E5ECF6",
            "gridcolor": "white",
            "gridwidth": 2,
            "linecolor": "white",
            "showbackground": true,
            "ticks": "",
            "zerolinecolor": "white"
           }
          },
          "shapedefaults": {
           "line": {
            "color": "#2a3f5f"
           }
          },
          "ternary": {
           "aaxis": {
            "gridcolor": "white",
            "linecolor": "white",
            "ticks": ""
           },
           "baxis": {
            "gridcolor": "white",
            "linecolor": "white",
            "ticks": ""
           },
           "bgcolor": "#E5ECF6",
           "caxis": {
            "gridcolor": "white",
            "linecolor": "white",
            "ticks": ""
           }
          },
          "title": {
           "x": 0.05
          },
          "xaxis": {
           "automargin": true,
           "gridcolor": "white",
           "linecolor": "white",
           "ticks": "",
           "title": {
            "standoff": 15
           },
           "zerolinecolor": "white",
           "zerolinewidth": 2
          },
          "yaxis": {
           "automargin": true,
           "gridcolor": "white",
           "linecolor": "white",
           "ticks": "",
           "title": {
            "standoff": 15
           },
           "zerolinecolor": "white",
           "zerolinewidth": 2
          }
         }
        },
        "title": {
         "text": "BuildingType"
        }
       }
      },
      "text/html": [
       "<div>                            <div id=\"f5479067-b3ba-4d35-9aa3-d824f9d933a0\" class=\"plotly-graph-div\" style=\"height:525px; width:100%;\"></div>            <script type=\"text/javascript\">                require([\"plotly\"], function(Plotly) {                    window.PLOTLYENV=window.PLOTLYENV || {};                                    if (document.getElementById(\"f5479067-b3ba-4d35-9aa3-d824f9d933a0\")) {                    Plotly.newPlot(                        \"f5479067-b3ba-4d35-9aa3-d824f9d933a0\",                        [{\"customdata\":[[0.274],[0.246],[0.153],[0.146],[0.063],[0.041],[0.025],[0.021],[0.019],[0.012]],\"domain\":{\"x\":[0.0,1.0],\"y\":[0.0,1.0]},\"hovertemplate\":\"BuildingType=%{label}<br>Percent=%{customdata[0]}<extra></extra>\",\"labels\":[\"Semi Furnished Single Room\",\"Semi Furnished Flat\",\"Fully Furnished Single Room\",\"Minimum Budget Rooms\",\"Semi Furnished Villa\",\"Fully Furnished Flat\",\"Super Furnished Single Room\",\"Super Furnished Villa\",\"Fully Furnished Villa\",\"Super Furnished Flat\"],\"legendgroup\":\"\",\"marker\":{\"colors\":[\"rgb(103,0,31)\",\"rgb(178,24,43)\",\"rgb(214,96,77)\",\"rgb(244,165,130)\",\"rgb(253,219,199)\",\"rgb(247,247,247)\",\"rgb(209,229,240)\",\"rgb(146,197,222)\",\"rgb(67,147,195)\",\"rgb(33,102,172)\"]},\"name\":\"\",\"showlegend\":true,\"values\":[0.274,0.246,0.153,0.146,0.063,0.041,0.025,0.021,0.019,0.012],\"type\":\"pie\"}],                        {\"template\":{\"data\":{\"bar\":[{\"error_x\":{\"color\":\"#2a3f5f\"},\"error_y\":{\"color\":\"#2a3f5f\"},\"marker\":{\"line\":{\"color\":\"#E5ECF6\",\"width\":0.5},\"pattern\":{\"fillmode\":\"overlay\",\"size\":10,\"solidity\":0.2}},\"type\":\"bar\"}],\"barpolar\":[{\"marker\":{\"line\":{\"color\":\"#E5ECF6\",\"width\":0.5},\"pattern\":{\"fillmode\":\"overlay\",\"size\":10,\"solidity\":0.2}},\"type\":\"barpolar\"}],\"carpet\":[{\"aaxis\":{\"endlinecolor\":\"#2a3f5f\",\"gridcolor\":\"white\",\"linecolor\":\"white\",\"minorgridcolor\":\"white\",\"startlinecolor\":\"#2a3f5f\"},\"baxis\":{\"endlinecolor\":\"#2a3f5f\",\"gridcolor\":\"white\",\"linecolor\":\"white\",\"minorgridcolor\":\"white\",\"startlinecolor\":\"#2a3f5f\"},\"type\":\"carpet\"}],\"choropleth\":[{\"colorbar\":{\"outlinewidth\":0,\"ticks\":\"\"},\"type\":\"choropleth\"}],\"contour\":[{\"colorbar\":{\"outlinewidth\":0,\"ticks\":\"\"},\"colorscale\":[[0.0,\"#0d0887\"],[0.1111111111111111,\"#46039f\"],[0.2222222222222222,\"#7201a8\"],[0.3333333333333333,\"#9c179e\"],[0.4444444444444444,\"#bd3786\"],[0.5555555555555556,\"#d8576b\"],[0.6666666666666666,\"#ed7953\"],[0.7777777777777778,\"#fb9f3a\"],[0.8888888888888888,\"#fdca26\"],[1.0,\"#f0f921\"]],\"type\":\"contour\"}],\"contourcarpet\":[{\"colorbar\":{\"outlinewidth\":0,\"ticks\":\"\"},\"type\":\"contourcarpet\"}],\"heatmap\":[{\"colorbar\":{\"outlinewidth\":0,\"ticks\":\"\"},\"colorscale\":[[0.0,\"#0d0887\"],[0.1111111111111111,\"#46039f\"],[0.2222222222222222,\"#7201a8\"],[0.3333333333333333,\"#9c179e\"],[0.4444444444444444,\"#bd3786\"],[0.5555555555555556,\"#d8576b\"],[0.6666666666666666,\"#ed7953\"],[0.7777777777777778,\"#fb9f3a\"],[0.8888888888888888,\"#fdca26\"],[1.0,\"#f0f921\"]],\"type\":\"heatmap\"}],\"heatmapgl\":[{\"colorbar\":{\"outlinewidth\":0,\"ticks\":\"\"},\"colorscale\":[[0.0,\"#0d0887\"],[0.1111111111111111,\"#46039f\"],[0.2222222222222222,\"#7201a8\"],[0.3333333333333333,\"#9c179e\"],[0.4444444444444444,\"#bd3786\"],[0.5555555555555556,\"#d8576b\"],[0.6666666666666666,\"#ed7953\"],[0.7777777777777778,\"#fb9f3a\"],[0.8888888888888888,\"#fdca26\"],[1.0,\"#f0f921\"]],\"type\":\"heatmapgl\"}],\"histogram\":[{\"marker\":{\"pattern\":{\"fillmode\":\"overlay\",\"size\":10,\"solidity\":0.2}},\"type\":\"histogram\"}],\"histogram2d\":[{\"colorbar\":{\"outlinewidth\":0,\"ticks\":\"\"},\"colorscale\":[[0.0,\"#0d0887\"],[0.1111111111111111,\"#46039f\"],[0.2222222222222222,\"#7201a8\"],[0.3333333333333333,\"#9c179e\"],[0.4444444444444444,\"#bd3786\"],[0.5555555555555556,\"#d8576b\"],[0.6666666666666666,\"#ed7953\"],[0.7777777777777778,\"#fb9f3a\"],[0.8888888888888888,\"#fdca26\"],[1.0,\"#f0f921\"]],\"type\":\"histogram2d\"}],\"histogram2dcontour\":[{\"colorbar\":{\"outlinewidth\":0,\"ticks\":\"\"},\"colorscale\":[[0.0,\"#0d0887\"],[0.1111111111111111,\"#46039f\"],[0.2222222222222222,\"#7201a8\"],[0.3333333333333333,\"#9c179e\"],[0.4444444444444444,\"#bd3786\"],[0.5555555555555556,\"#d8576b\"],[0.6666666666666666,\"#ed7953\"],[0.7777777777777778,\"#fb9f3a\"],[0.8888888888888888,\"#fdca26\"],[1.0,\"#f0f921\"]],\"type\":\"histogram2dcontour\"}],\"mesh3d\":[{\"colorbar\":{\"outlinewidth\":0,\"ticks\":\"\"},\"type\":\"mesh3d\"}],\"parcoords\":[{\"line\":{\"colorbar\":{\"outlinewidth\":0,\"ticks\":\"\"}},\"type\":\"parcoords\"}],\"pie\":[{\"automargin\":true,\"type\":\"pie\"}],\"scatter\":[{\"marker\":{\"colorbar\":{\"outlinewidth\":0,\"ticks\":\"\"}},\"type\":\"scatter\"}],\"scatter3d\":[{\"line\":{\"colorbar\":{\"outlinewidth\":0,\"ticks\":\"\"}},\"marker\":{\"colorbar\":{\"outlinewidth\":0,\"ticks\":\"\"}},\"type\":\"scatter3d\"}],\"scattercarpet\":[{\"marker\":{\"colorbar\":{\"outlinewidth\":0,\"ticks\":\"\"}},\"type\":\"scattercarpet\"}],\"scattergeo\":[{\"marker\":{\"colorbar\":{\"outlinewidth\":0,\"ticks\":\"\"}},\"type\":\"scattergeo\"}],\"scattergl\":[{\"marker\":{\"colorbar\":{\"outlinewidth\":0,\"ticks\":\"\"}},\"type\":\"scattergl\"}],\"scattermapbox\":[{\"marker\":{\"colorbar\":{\"outlinewidth\":0,\"ticks\":\"\"}},\"type\":\"scattermapbox\"}],\"scatterpolar\":[{\"marker\":{\"colorbar\":{\"outlinewidth\":0,\"ticks\":\"\"}},\"type\":\"scatterpolar\"}],\"scatterpolargl\":[{\"marker\":{\"colorbar\":{\"outlinewidth\":0,\"ticks\":\"\"}},\"type\":\"scatterpolargl\"}],\"scatterternary\":[{\"marker\":{\"colorbar\":{\"outlinewidth\":0,\"ticks\":\"\"}},\"type\":\"scatterternary\"}],\"surface\":[{\"colorbar\":{\"outlinewidth\":0,\"ticks\":\"\"},\"colorscale\":[[0.0,\"#0d0887\"],[0.1111111111111111,\"#46039f\"],[0.2222222222222222,\"#7201a8\"],[0.3333333333333333,\"#9c179e\"],[0.4444444444444444,\"#bd3786\"],[0.5555555555555556,\"#d8576b\"],[0.6666666666666666,\"#ed7953\"],[0.7777777777777778,\"#fb9f3a\"],[0.8888888888888888,\"#fdca26\"],[1.0,\"#f0f921\"]],\"type\":\"surface\"}],\"table\":[{\"cells\":{\"fill\":{\"color\":\"#EBF0F8\"},\"line\":{\"color\":\"white\"}},\"header\":{\"fill\":{\"color\":\"#C8D4E3\"},\"line\":{\"color\":\"white\"}},\"type\":\"table\"}]},\"layout\":{\"annotationdefaults\":{\"arrowcolor\":\"#2a3f5f\",\"arrowhead\":0,\"arrowwidth\":1},\"autotypenumbers\":\"strict\",\"coloraxis\":{\"colorbar\":{\"outlinewidth\":0,\"ticks\":\"\"}},\"colorscale\":{\"diverging\":[[0,\"#8e0152\"],[0.1,\"#c51b7d\"],[0.2,\"#de77ae\"],[0.3,\"#f1b6da\"],[0.4,\"#fde0ef\"],[0.5,\"#f7f7f7\"],[0.6,\"#e6f5d0\"],[0.7,\"#b8e186\"],[0.8,\"#7fbc41\"],[0.9,\"#4d9221\"],[1,\"#276419\"]],\"sequential\":[[0.0,\"#0d0887\"],[0.1111111111111111,\"#46039f\"],[0.2222222222222222,\"#7201a8\"],[0.3333333333333333,\"#9c179e\"],[0.4444444444444444,\"#bd3786\"],[0.5555555555555556,\"#d8576b\"],[0.6666666666666666,\"#ed7953\"],[0.7777777777777778,\"#fb9f3a\"],[0.8888888888888888,\"#fdca26\"],[1.0,\"#f0f921\"]],\"sequentialminus\":[[0.0,\"#0d0887\"],[0.1111111111111111,\"#46039f\"],[0.2222222222222222,\"#7201a8\"],[0.3333333333333333,\"#9c179e\"],[0.4444444444444444,\"#bd3786\"],[0.5555555555555556,\"#d8576b\"],[0.6666666666666666,\"#ed7953\"],[0.7777777777777778,\"#fb9f3a\"],[0.8888888888888888,\"#fdca26\"],[1.0,\"#f0f921\"]]},\"colorway\":[\"#636efa\",\"#EF553B\",\"#00cc96\",\"#ab63fa\",\"#FFA15A\",\"#19d3f3\",\"#FF6692\",\"#B6E880\",\"#FF97FF\",\"#FECB52\"],\"font\":{\"color\":\"#2a3f5f\"},\"geo\":{\"bgcolor\":\"white\",\"lakecolor\":\"white\",\"landcolor\":\"#E5ECF6\",\"showlakes\":true,\"showland\":true,\"subunitcolor\":\"white\"},\"hoverlabel\":{\"align\":\"left\"},\"hovermode\":\"closest\",\"mapbox\":{\"style\":\"light\"},\"paper_bgcolor\":\"white\",\"plot_bgcolor\":\"#E5ECF6\",\"polar\":{\"angularaxis\":{\"gridcolor\":\"white\",\"linecolor\":\"white\",\"ticks\":\"\"},\"bgcolor\":\"#E5ECF6\",\"radialaxis\":{\"gridcolor\":\"white\",\"linecolor\":\"white\",\"ticks\":\"\"}},\"scene\":{\"xaxis\":{\"backgroundcolor\":\"#E5ECF6\",\"gridcolor\":\"white\",\"gridwidth\":2,\"linecolor\":\"white\",\"showbackground\":true,\"ticks\":\"\",\"zerolinecolor\":\"white\"},\"yaxis\":{\"backgroundcolor\":\"#E5ECF6\",\"gridcolor\":\"white\",\"gridwidth\":2,\"linecolor\":\"white\",\"showbackground\":true,\"ticks\":\"\",\"zerolinecolor\":\"white\"},\"zaxis\":{\"backgroundcolor\":\"#E5ECF6\",\"gridcolor\":\"white\",\"gridwidth\":2,\"linecolor\":\"white\",\"showbackground\":true,\"ticks\":\"\",\"zerolinecolor\":\"white\"}},\"shapedefaults\":{\"line\":{\"color\":\"#2a3f5f\"}},\"ternary\":{\"aaxis\":{\"gridcolor\":\"white\",\"linecolor\":\"white\",\"ticks\":\"\"},\"baxis\":{\"gridcolor\":\"white\",\"linecolor\":\"white\",\"ticks\":\"\"},\"bgcolor\":\"#E5ECF6\",\"caxis\":{\"gridcolor\":\"white\",\"linecolor\":\"white\",\"ticks\":\"\"}},\"title\":{\"x\":0.05},\"xaxis\":{\"automargin\":true,\"gridcolor\":\"white\",\"linecolor\":\"white\",\"ticks\":\"\",\"title\":{\"standoff\":15},\"zerolinecolor\":\"white\",\"zerolinewidth\":2},\"yaxis\":{\"automargin\":true,\"gridcolor\":\"white\",\"linecolor\":\"white\",\"ticks\":\"\",\"title\":{\"standoff\":15},\"zerolinecolor\":\"white\",\"zerolinewidth\":2}}},\"legend\":{\"tracegroupgap\":0},\"title\":{\"text\":\"BuildingType\"},\"piecolorway\":[\"rgb(103,0,31)\",\"rgb(178,24,43)\",\"rgb(214,96,77)\",\"rgb(244,165,130)\",\"rgb(253,219,199)\",\"rgb(247,247,247)\",\"rgb(209,229,240)\",\"rgb(146,197,222)\",\"rgb(67,147,195)\",\"rgb(33,102,172)\",\"rgb(5,48,97)\"]},                        {\"responsive\": true}                    ).then(function(){\n",
       "                            \n",
       "var gd = document.getElementById('f5479067-b3ba-4d35-9aa3-d824f9d933a0');\n",
       "var x = new MutationObserver(function (mutations, observer) {{\n",
       "        var display = window.getComputedStyle(gd).display;\n",
       "        if (!display || display === 'none') {{\n",
       "            console.log([gd, 'removed!']);\n",
       "            Plotly.purge(gd);\n",
       "            observer.disconnect();\n",
       "        }}\n",
       "}});\n",
       "\n",
       "// Listen for the removal of the full notebook cells\n",
       "var notebookContainer = gd.closest('#notebook-container');\n",
       "if (notebookContainer) {{\n",
       "    x.observe(notebookContainer, {childList: true});\n",
       "}}\n",
       "\n",
       "// Listen for the clearing of the current output cell\n",
       "var outputEl = gd.closest('.output');\n",
       "if (outputEl) {{\n",
       "    x.observe(outputEl, {childList: true});\n",
       "}}\n",
       "\n",
       "                        })                };                });            </script>        </div>"
      ]
     },
     "metadata": {},
     "output_type": "display_data"
    }
   ],
   "source": [
    "Pie = hbk['BuildingType'].value_counts().reset_index()\n",
    "Pie.columns = ['BuildingType','Percent']\n",
    "Pie['Percent'] /= len(hbk)\n",
    "fig = px.pie(Pie, names = 'BuildingType', values = 'Percent', title = 'BuildingType', color = \"Percent\", color_discrete_sequence = px.colors.sequential.RdBu)\n",
    "fig.show()"
   ]
  },
  {
   "cell_type": "code",
   "execution_count": 47,
   "id": "f2ae2f71",
   "metadata": {},
   "outputs": [
    {
     "data": {
      "application/vnd.plotly.v1+json": {
       "config": {
        "plotlyServerURL": "https://plot.ly"
       },
       "data": [
        {
         "customdata": [
          [
           0.213
          ],
          [
           0.173
          ],
          [
           0.138
          ],
          [
           0.105
          ],
          [
           0.103
          ],
          [
           0.095
          ],
          [
           0.062
          ],
          [
           0.054
          ],
          [
           0.026
          ],
          [
           0.022
          ],
          [
           0.009
          ]
         ],
         "domain": {
          "x": [
           0,
           1
          ],
          "y": [
           0,
           1
          ]
         },
         "hovertemplate": "Location=%{label}<br>Percent=%{customdata[0]}<extra></extra>",
         "labels": [
          "Clubview Road",
          "Portofino B",
          "School Street",
          "Portofino D",
          "Portofino C",
          "Portofino A",
          "Portofino H",
          "Portofino E",
          "Portofino G",
          "Portofino F",
          "Starter Homes"
         ],
         "legendgroup": "",
         "marker": {
          "colors": [
           "rgb(103,0,31)",
           "rgb(178,24,43)",
           "rgb(214,96,77)",
           "rgb(244,165,130)",
           "rgb(253,219,199)",
           "rgb(247,247,247)",
           "rgb(209,229,240)",
           "rgb(146,197,222)",
           "rgb(67,147,195)",
           "rgb(33,102,172)",
           "rgb(5,48,97)"
          ]
         },
         "name": "",
         "showlegend": true,
         "type": "pie",
         "values": [
          0.213,
          0.173,
          0.138,
          0.105,
          0.103,
          0.095,
          0.062,
          0.054,
          0.026,
          0.022,
          0.009
         ]
        }
       ],
       "layout": {
        "legend": {
         "tracegroupgap": 0
        },
        "piecolorway": [
         "rgb(103,0,31)",
         "rgb(178,24,43)",
         "rgb(214,96,77)",
         "rgb(244,165,130)",
         "rgb(253,219,199)",
         "rgb(247,247,247)",
         "rgb(209,229,240)",
         "rgb(146,197,222)",
         "rgb(67,147,195)",
         "rgb(33,102,172)",
         "rgb(5,48,97)"
        ],
        "template": {
         "data": {
          "bar": [
           {
            "error_x": {
             "color": "#2a3f5f"
            },
            "error_y": {
             "color": "#2a3f5f"
            },
            "marker": {
             "line": {
              "color": "#E5ECF6",
              "width": 0.5
             },
             "pattern": {
              "fillmode": "overlay",
              "size": 10,
              "solidity": 0.2
             }
            },
            "type": "bar"
           }
          ],
          "barpolar": [
           {
            "marker": {
             "line": {
              "color": "#E5ECF6",
              "width": 0.5
             },
             "pattern": {
              "fillmode": "overlay",
              "size": 10,
              "solidity": 0.2
             }
            },
            "type": "barpolar"
           }
          ],
          "carpet": [
           {
            "aaxis": {
             "endlinecolor": "#2a3f5f",
             "gridcolor": "white",
             "linecolor": "white",
             "minorgridcolor": "white",
             "startlinecolor": "#2a3f5f"
            },
            "baxis": {
             "endlinecolor": "#2a3f5f",
             "gridcolor": "white",
             "linecolor": "white",
             "minorgridcolor": "white",
             "startlinecolor": "#2a3f5f"
            },
            "type": "carpet"
           }
          ],
          "choropleth": [
           {
            "colorbar": {
             "outlinewidth": 0,
             "ticks": ""
            },
            "type": "choropleth"
           }
          ],
          "contour": [
           {
            "colorbar": {
             "outlinewidth": 0,
             "ticks": ""
            },
            "colorscale": [
             [
              0,
              "#0d0887"
             ],
             [
              0.1111111111111111,
              "#46039f"
             ],
             [
              0.2222222222222222,
              "#7201a8"
             ],
             [
              0.3333333333333333,
              "#9c179e"
             ],
             [
              0.4444444444444444,
              "#bd3786"
             ],
             [
              0.5555555555555556,
              "#d8576b"
             ],
             [
              0.6666666666666666,
              "#ed7953"
             ],
             [
              0.7777777777777778,
              "#fb9f3a"
             ],
             [
              0.8888888888888888,
              "#fdca26"
             ],
             [
              1,
              "#f0f921"
             ]
            ],
            "type": "contour"
           }
          ],
          "contourcarpet": [
           {
            "colorbar": {
             "outlinewidth": 0,
             "ticks": ""
            },
            "type": "contourcarpet"
           }
          ],
          "heatmap": [
           {
            "colorbar": {
             "outlinewidth": 0,
             "ticks": ""
            },
            "colorscale": [
             [
              0,
              "#0d0887"
             ],
             [
              0.1111111111111111,
              "#46039f"
             ],
             [
              0.2222222222222222,
              "#7201a8"
             ],
             [
              0.3333333333333333,
              "#9c179e"
             ],
             [
              0.4444444444444444,
              "#bd3786"
             ],
             [
              0.5555555555555556,
              "#d8576b"
             ],
             [
              0.6666666666666666,
              "#ed7953"
             ],
             [
              0.7777777777777778,
              "#fb9f3a"
             ],
             [
              0.8888888888888888,
              "#fdca26"
             ],
             [
              1,
              "#f0f921"
             ]
            ],
            "type": "heatmap"
           }
          ],
          "heatmapgl": [
           {
            "colorbar": {
             "outlinewidth": 0,
             "ticks": ""
            },
            "colorscale": [
             [
              0,
              "#0d0887"
             ],
             [
              0.1111111111111111,
              "#46039f"
             ],
             [
              0.2222222222222222,
              "#7201a8"
             ],
             [
              0.3333333333333333,
              "#9c179e"
             ],
             [
              0.4444444444444444,
              "#bd3786"
             ],
             [
              0.5555555555555556,
              "#d8576b"
             ],
             [
              0.6666666666666666,
              "#ed7953"
             ],
             [
              0.7777777777777778,
              "#fb9f3a"
             ],
             [
              0.8888888888888888,
              "#fdca26"
             ],
             [
              1,
              "#f0f921"
             ]
            ],
            "type": "heatmapgl"
           }
          ],
          "histogram": [
           {
            "marker": {
             "pattern": {
              "fillmode": "overlay",
              "size": 10,
              "solidity": 0.2
             }
            },
            "type": "histogram"
           }
          ],
          "histogram2d": [
           {
            "colorbar": {
             "outlinewidth": 0,
             "ticks": ""
            },
            "colorscale": [
             [
              0,
              "#0d0887"
             ],
             [
              0.1111111111111111,
              "#46039f"
             ],
             [
              0.2222222222222222,
              "#7201a8"
             ],
             [
              0.3333333333333333,
              "#9c179e"
             ],
             [
              0.4444444444444444,
              "#bd3786"
             ],
             [
              0.5555555555555556,
              "#d8576b"
             ],
             [
              0.6666666666666666,
              "#ed7953"
             ],
             [
              0.7777777777777778,
              "#fb9f3a"
             ],
             [
              0.8888888888888888,
              "#fdca26"
             ],
             [
              1,
              "#f0f921"
             ]
            ],
            "type": "histogram2d"
           }
          ],
          "histogram2dcontour": [
           {
            "colorbar": {
             "outlinewidth": 0,
             "ticks": ""
            },
            "colorscale": [
             [
              0,
              "#0d0887"
             ],
             [
              0.1111111111111111,
              "#46039f"
             ],
             [
              0.2222222222222222,
              "#7201a8"
             ],
             [
              0.3333333333333333,
              "#9c179e"
             ],
             [
              0.4444444444444444,
              "#bd3786"
             ],
             [
              0.5555555555555556,
              "#d8576b"
             ],
             [
              0.6666666666666666,
              "#ed7953"
             ],
             [
              0.7777777777777778,
              "#fb9f3a"
             ],
             [
              0.8888888888888888,
              "#fdca26"
             ],
             [
              1,
              "#f0f921"
             ]
            ],
            "type": "histogram2dcontour"
           }
          ],
          "mesh3d": [
           {
            "colorbar": {
             "outlinewidth": 0,
             "ticks": ""
            },
            "type": "mesh3d"
           }
          ],
          "parcoords": [
           {
            "line": {
             "colorbar": {
              "outlinewidth": 0,
              "ticks": ""
             }
            },
            "type": "parcoords"
           }
          ],
          "pie": [
           {
            "automargin": true,
            "type": "pie"
           }
          ],
          "scatter": [
           {
            "marker": {
             "colorbar": {
              "outlinewidth": 0,
              "ticks": ""
             }
            },
            "type": "scatter"
           }
          ],
          "scatter3d": [
           {
            "line": {
             "colorbar": {
              "outlinewidth": 0,
              "ticks": ""
             }
            },
            "marker": {
             "colorbar": {
              "outlinewidth": 0,
              "ticks": ""
             }
            },
            "type": "scatter3d"
           }
          ],
          "scattercarpet": [
           {
            "marker": {
             "colorbar": {
              "outlinewidth": 0,
              "ticks": ""
             }
            },
            "type": "scattercarpet"
           }
          ],
          "scattergeo": [
           {
            "marker": {
             "colorbar": {
              "outlinewidth": 0,
              "ticks": ""
             }
            },
            "type": "scattergeo"
           }
          ],
          "scattergl": [
           {
            "marker": {
             "colorbar": {
              "outlinewidth": 0,
              "ticks": ""
             }
            },
            "type": "scattergl"
           }
          ],
          "scattermapbox": [
           {
            "marker": {
             "colorbar": {
              "outlinewidth": 0,
              "ticks": ""
             }
            },
            "type": "scattermapbox"
           }
          ],
          "scatterpolar": [
           {
            "marker": {
             "colorbar": {
              "outlinewidth": 0,
              "ticks": ""
             }
            },
            "type": "scatterpolar"
           }
          ],
          "scatterpolargl": [
           {
            "marker": {
             "colorbar": {
              "outlinewidth": 0,
              "ticks": ""
             }
            },
            "type": "scatterpolargl"
           }
          ],
          "scatterternary": [
           {
            "marker": {
             "colorbar": {
              "outlinewidth": 0,
              "ticks": ""
             }
            },
            "type": "scatterternary"
           }
          ],
          "surface": [
           {
            "colorbar": {
             "outlinewidth": 0,
             "ticks": ""
            },
            "colorscale": [
             [
              0,
              "#0d0887"
             ],
             [
              0.1111111111111111,
              "#46039f"
             ],
             [
              0.2222222222222222,
              "#7201a8"
             ],
             [
              0.3333333333333333,
              "#9c179e"
             ],
             [
              0.4444444444444444,
              "#bd3786"
             ],
             [
              0.5555555555555556,
              "#d8576b"
             ],
             [
              0.6666666666666666,
              "#ed7953"
             ],
             [
              0.7777777777777778,
              "#fb9f3a"
             ],
             [
              0.8888888888888888,
              "#fdca26"
             ],
             [
              1,
              "#f0f921"
             ]
            ],
            "type": "surface"
           }
          ],
          "table": [
           {
            "cells": {
             "fill": {
              "color": "#EBF0F8"
             },
             "line": {
              "color": "white"
             }
            },
            "header": {
             "fill": {
              "color": "#C8D4E3"
             },
             "line": {
              "color": "white"
             }
            },
            "type": "table"
           }
          ]
         },
         "layout": {
          "annotationdefaults": {
           "arrowcolor": "#2a3f5f",
           "arrowhead": 0,
           "arrowwidth": 1
          },
          "autotypenumbers": "strict",
          "coloraxis": {
           "colorbar": {
            "outlinewidth": 0,
            "ticks": ""
           }
          },
          "colorscale": {
           "diverging": [
            [
             0,
             "#8e0152"
            ],
            [
             0.1,
             "#c51b7d"
            ],
            [
             0.2,
             "#de77ae"
            ],
            [
             0.3,
             "#f1b6da"
            ],
            [
             0.4,
             "#fde0ef"
            ],
            [
             0.5,
             "#f7f7f7"
            ],
            [
             0.6,
             "#e6f5d0"
            ],
            [
             0.7,
             "#b8e186"
            ],
            [
             0.8,
             "#7fbc41"
            ],
            [
             0.9,
             "#4d9221"
            ],
            [
             1,
             "#276419"
            ]
           ],
           "sequential": [
            [
             0,
             "#0d0887"
            ],
            [
             0.1111111111111111,
             "#46039f"
            ],
            [
             0.2222222222222222,
             "#7201a8"
            ],
            [
             0.3333333333333333,
             "#9c179e"
            ],
            [
             0.4444444444444444,
             "#bd3786"
            ],
            [
             0.5555555555555556,
             "#d8576b"
            ],
            [
             0.6666666666666666,
             "#ed7953"
            ],
            [
             0.7777777777777778,
             "#fb9f3a"
            ],
            [
             0.8888888888888888,
             "#fdca26"
            ],
            [
             1,
             "#f0f921"
            ]
           ],
           "sequentialminus": [
            [
             0,
             "#0d0887"
            ],
            [
             0.1111111111111111,
             "#46039f"
            ],
            [
             0.2222222222222222,
             "#7201a8"
            ],
            [
             0.3333333333333333,
             "#9c179e"
            ],
            [
             0.4444444444444444,
             "#bd3786"
            ],
            [
             0.5555555555555556,
             "#d8576b"
            ],
            [
             0.6666666666666666,
             "#ed7953"
            ],
            [
             0.7777777777777778,
             "#fb9f3a"
            ],
            [
             0.8888888888888888,
             "#fdca26"
            ],
            [
             1,
             "#f0f921"
            ]
           ]
          },
          "colorway": [
           "#636efa",
           "#EF553B",
           "#00cc96",
           "#ab63fa",
           "#FFA15A",
           "#19d3f3",
           "#FF6692",
           "#B6E880",
           "#FF97FF",
           "#FECB52"
          ],
          "font": {
           "color": "#2a3f5f"
          },
          "geo": {
           "bgcolor": "white",
           "lakecolor": "white",
           "landcolor": "#E5ECF6",
           "showlakes": true,
           "showland": true,
           "subunitcolor": "white"
          },
          "hoverlabel": {
           "align": "left"
          },
          "hovermode": "closest",
          "mapbox": {
           "style": "light"
          },
          "paper_bgcolor": "white",
          "plot_bgcolor": "#E5ECF6",
          "polar": {
           "angularaxis": {
            "gridcolor": "white",
            "linecolor": "white",
            "ticks": ""
           },
           "bgcolor": "#E5ECF6",
           "radialaxis": {
            "gridcolor": "white",
            "linecolor": "white",
            "ticks": ""
           }
          },
          "scene": {
           "xaxis": {
            "backgroundcolor": "#E5ECF6",
            "gridcolor": "white",
            "gridwidth": 2,
            "linecolor": "white",
            "showbackground": true,
            "ticks": "",
            "zerolinecolor": "white"
           },
           "yaxis": {
            "backgroundcolor": "#E5ECF6",
            "gridcolor": "white",
            "gridwidth": 2,
            "linecolor": "white",
            "showbackground": true,
            "ticks": "",
            "zerolinecolor": "white"
           },
           "zaxis": {
            "backgroundcolor": "#E5ECF6",
            "gridcolor": "white",
            "gridwidth": 2,
            "linecolor": "white",
            "showbackground": true,
            "ticks": "",
            "zerolinecolor": "white"
           }
          },
          "shapedefaults": {
           "line": {
            "color": "#2a3f5f"
           }
          },
          "ternary": {
           "aaxis": {
            "gridcolor": "white",
            "linecolor": "white",
            "ticks": ""
           },
           "baxis": {
            "gridcolor": "white",
            "linecolor": "white",
            "ticks": ""
           },
           "bgcolor": "#E5ECF6",
           "caxis": {
            "gridcolor": "white",
            "linecolor": "white",
            "ticks": ""
           }
          },
          "title": {
           "x": 0.05
          },
          "xaxis": {
           "automargin": true,
           "gridcolor": "white",
           "linecolor": "white",
           "ticks": "",
           "title": {
            "standoff": 15
           },
           "zerolinecolor": "white",
           "zerolinewidth": 2
          },
          "yaxis": {
           "automargin": true,
           "gridcolor": "white",
           "linecolor": "white",
           "ticks": "",
           "title": {
            "standoff": 15
           },
           "zerolinecolor": "white",
           "zerolinewidth": 2
          }
         }
        },
        "title": {
         "text": "Location"
        }
       }
      },
      "text/html": [
       "<div>                            <div id=\"3126d8df-51bc-4a8e-aac6-adc99e453044\" class=\"plotly-graph-div\" style=\"height:525px; width:100%;\"></div>            <script type=\"text/javascript\">                require([\"plotly\"], function(Plotly) {                    window.PLOTLYENV=window.PLOTLYENV || {};                                    if (document.getElementById(\"3126d8df-51bc-4a8e-aac6-adc99e453044\")) {                    Plotly.newPlot(                        \"3126d8df-51bc-4a8e-aac6-adc99e453044\",                        [{\"customdata\":[[0.213],[0.173],[0.138],[0.105],[0.103],[0.095],[0.062],[0.054],[0.026],[0.022],[0.009]],\"domain\":{\"x\":[0.0,1.0],\"y\":[0.0,1.0]},\"hovertemplate\":\"Location=%{label}<br>Percent=%{customdata[0]}<extra></extra>\",\"labels\":[\"Clubview Road\",\"Portofino B\",\"School Street\",\"Portofino D\",\"Portofino C\",\"Portofino A\",\"Portofino H\",\"Portofino E\",\"Portofino G\",\"Portofino F\",\"Starter Homes\"],\"legendgroup\":\"\",\"marker\":{\"colors\":[\"rgb(103,0,31)\",\"rgb(178,24,43)\",\"rgb(214,96,77)\",\"rgb(244,165,130)\",\"rgb(253,219,199)\",\"rgb(247,247,247)\",\"rgb(209,229,240)\",\"rgb(146,197,222)\",\"rgb(67,147,195)\",\"rgb(33,102,172)\",\"rgb(5,48,97)\"]},\"name\":\"\",\"showlegend\":true,\"values\":[0.213,0.173,0.138,0.105,0.103,0.095,0.062,0.054,0.026,0.022,0.009],\"type\":\"pie\"}],                        {\"template\":{\"data\":{\"bar\":[{\"error_x\":{\"color\":\"#2a3f5f\"},\"error_y\":{\"color\":\"#2a3f5f\"},\"marker\":{\"line\":{\"color\":\"#E5ECF6\",\"width\":0.5},\"pattern\":{\"fillmode\":\"overlay\",\"size\":10,\"solidity\":0.2}},\"type\":\"bar\"}],\"barpolar\":[{\"marker\":{\"line\":{\"color\":\"#E5ECF6\",\"width\":0.5},\"pattern\":{\"fillmode\":\"overlay\",\"size\":10,\"solidity\":0.2}},\"type\":\"barpolar\"}],\"carpet\":[{\"aaxis\":{\"endlinecolor\":\"#2a3f5f\",\"gridcolor\":\"white\",\"linecolor\":\"white\",\"minorgridcolor\":\"white\",\"startlinecolor\":\"#2a3f5f\"},\"baxis\":{\"endlinecolor\":\"#2a3f5f\",\"gridcolor\":\"white\",\"linecolor\":\"white\",\"minorgridcolor\":\"white\",\"startlinecolor\":\"#2a3f5f\"},\"type\":\"carpet\"}],\"choropleth\":[{\"colorbar\":{\"outlinewidth\":0,\"ticks\":\"\"},\"type\":\"choropleth\"}],\"contour\":[{\"colorbar\":{\"outlinewidth\":0,\"ticks\":\"\"},\"colorscale\":[[0.0,\"#0d0887\"],[0.1111111111111111,\"#46039f\"],[0.2222222222222222,\"#7201a8\"],[0.3333333333333333,\"#9c179e\"],[0.4444444444444444,\"#bd3786\"],[0.5555555555555556,\"#d8576b\"],[0.6666666666666666,\"#ed7953\"],[0.7777777777777778,\"#fb9f3a\"],[0.8888888888888888,\"#fdca26\"],[1.0,\"#f0f921\"]],\"type\":\"contour\"}],\"contourcarpet\":[{\"colorbar\":{\"outlinewidth\":0,\"ticks\":\"\"},\"type\":\"contourcarpet\"}],\"heatmap\":[{\"colorbar\":{\"outlinewidth\":0,\"ticks\":\"\"},\"colorscale\":[[0.0,\"#0d0887\"],[0.1111111111111111,\"#46039f\"],[0.2222222222222222,\"#7201a8\"],[0.3333333333333333,\"#9c179e\"],[0.4444444444444444,\"#bd3786\"],[0.5555555555555556,\"#d8576b\"],[0.6666666666666666,\"#ed7953\"],[0.7777777777777778,\"#fb9f3a\"],[0.8888888888888888,\"#fdca26\"],[1.0,\"#f0f921\"]],\"type\":\"heatmap\"}],\"heatmapgl\":[{\"colorbar\":{\"outlinewidth\":0,\"ticks\":\"\"},\"colorscale\":[[0.0,\"#0d0887\"],[0.1111111111111111,\"#46039f\"],[0.2222222222222222,\"#7201a8\"],[0.3333333333333333,\"#9c179e\"],[0.4444444444444444,\"#bd3786\"],[0.5555555555555556,\"#d8576b\"],[0.6666666666666666,\"#ed7953\"],[0.7777777777777778,\"#fb9f3a\"],[0.8888888888888888,\"#fdca26\"],[1.0,\"#f0f921\"]],\"type\":\"heatmapgl\"}],\"histogram\":[{\"marker\":{\"pattern\":{\"fillmode\":\"overlay\",\"size\":10,\"solidity\":0.2}},\"type\":\"histogram\"}],\"histogram2d\":[{\"colorbar\":{\"outlinewidth\":0,\"ticks\":\"\"},\"colorscale\":[[0.0,\"#0d0887\"],[0.1111111111111111,\"#46039f\"],[0.2222222222222222,\"#7201a8\"],[0.3333333333333333,\"#9c179e\"],[0.4444444444444444,\"#bd3786\"],[0.5555555555555556,\"#d8576b\"],[0.6666666666666666,\"#ed7953\"],[0.7777777777777778,\"#fb9f3a\"],[0.8888888888888888,\"#fdca26\"],[1.0,\"#f0f921\"]],\"type\":\"histogram2d\"}],\"histogram2dcontour\":[{\"colorbar\":{\"outlinewidth\":0,\"ticks\":\"\"},\"colorscale\":[[0.0,\"#0d0887\"],[0.1111111111111111,\"#46039f\"],[0.2222222222222222,\"#7201a8\"],[0.3333333333333333,\"#9c179e\"],[0.4444444444444444,\"#bd3786\"],[0.5555555555555556,\"#d8576b\"],[0.6666666666666666,\"#ed7953\"],[0.7777777777777778,\"#fb9f3a\"],[0.8888888888888888,\"#fdca26\"],[1.0,\"#f0f921\"]],\"type\":\"histogram2dcontour\"}],\"mesh3d\":[{\"colorbar\":{\"outlinewidth\":0,\"ticks\":\"\"},\"type\":\"mesh3d\"}],\"parcoords\":[{\"line\":{\"colorbar\":{\"outlinewidth\":0,\"ticks\":\"\"}},\"type\":\"parcoords\"}],\"pie\":[{\"automargin\":true,\"type\":\"pie\"}],\"scatter\":[{\"marker\":{\"colorbar\":{\"outlinewidth\":0,\"ticks\":\"\"}},\"type\":\"scatter\"}],\"scatter3d\":[{\"line\":{\"colorbar\":{\"outlinewidth\":0,\"ticks\":\"\"}},\"marker\":{\"colorbar\":{\"outlinewidth\":0,\"ticks\":\"\"}},\"type\":\"scatter3d\"}],\"scattercarpet\":[{\"marker\":{\"colorbar\":{\"outlinewidth\":0,\"ticks\":\"\"}},\"type\":\"scattercarpet\"}],\"scattergeo\":[{\"marker\":{\"colorbar\":{\"outlinewidth\":0,\"ticks\":\"\"}},\"type\":\"scattergeo\"}],\"scattergl\":[{\"marker\":{\"colorbar\":{\"outlinewidth\":0,\"ticks\":\"\"}},\"type\":\"scattergl\"}],\"scattermapbox\":[{\"marker\":{\"colorbar\":{\"outlinewidth\":0,\"ticks\":\"\"}},\"type\":\"scattermapbox\"}],\"scatterpolar\":[{\"marker\":{\"colorbar\":{\"outlinewidth\":0,\"ticks\":\"\"}},\"type\":\"scatterpolar\"}],\"scatterpolargl\":[{\"marker\":{\"colorbar\":{\"outlinewidth\":0,\"ticks\":\"\"}},\"type\":\"scatterpolargl\"}],\"scatterternary\":[{\"marker\":{\"colorbar\":{\"outlinewidth\":0,\"ticks\":\"\"}},\"type\":\"scatterternary\"}],\"surface\":[{\"colorbar\":{\"outlinewidth\":0,\"ticks\":\"\"},\"colorscale\":[[0.0,\"#0d0887\"],[0.1111111111111111,\"#46039f\"],[0.2222222222222222,\"#7201a8\"],[0.3333333333333333,\"#9c179e\"],[0.4444444444444444,\"#bd3786\"],[0.5555555555555556,\"#d8576b\"],[0.6666666666666666,\"#ed7953\"],[0.7777777777777778,\"#fb9f3a\"],[0.8888888888888888,\"#fdca26\"],[1.0,\"#f0f921\"]],\"type\":\"surface\"}],\"table\":[{\"cells\":{\"fill\":{\"color\":\"#EBF0F8\"},\"line\":{\"color\":\"white\"}},\"header\":{\"fill\":{\"color\":\"#C8D4E3\"},\"line\":{\"color\":\"white\"}},\"type\":\"table\"}]},\"layout\":{\"annotationdefaults\":{\"arrowcolor\":\"#2a3f5f\",\"arrowhead\":0,\"arrowwidth\":1},\"autotypenumbers\":\"strict\",\"coloraxis\":{\"colorbar\":{\"outlinewidth\":0,\"ticks\":\"\"}},\"colorscale\":{\"diverging\":[[0,\"#8e0152\"],[0.1,\"#c51b7d\"],[0.2,\"#de77ae\"],[0.3,\"#f1b6da\"],[0.4,\"#fde0ef\"],[0.5,\"#f7f7f7\"],[0.6,\"#e6f5d0\"],[0.7,\"#b8e186\"],[0.8,\"#7fbc41\"],[0.9,\"#4d9221\"],[1,\"#276419\"]],\"sequential\":[[0.0,\"#0d0887\"],[0.1111111111111111,\"#46039f\"],[0.2222222222222222,\"#7201a8\"],[0.3333333333333333,\"#9c179e\"],[0.4444444444444444,\"#bd3786\"],[0.5555555555555556,\"#d8576b\"],[0.6666666666666666,\"#ed7953\"],[0.7777777777777778,\"#fb9f3a\"],[0.8888888888888888,\"#fdca26\"],[1.0,\"#f0f921\"]],\"sequentialminus\":[[0.0,\"#0d0887\"],[0.1111111111111111,\"#46039f\"],[0.2222222222222222,\"#7201a8\"],[0.3333333333333333,\"#9c179e\"],[0.4444444444444444,\"#bd3786\"],[0.5555555555555556,\"#d8576b\"],[0.6666666666666666,\"#ed7953\"],[0.7777777777777778,\"#fb9f3a\"],[0.8888888888888888,\"#fdca26\"],[1.0,\"#f0f921\"]]},\"colorway\":[\"#636efa\",\"#EF553B\",\"#00cc96\",\"#ab63fa\",\"#FFA15A\",\"#19d3f3\",\"#FF6692\",\"#B6E880\",\"#FF97FF\",\"#FECB52\"],\"font\":{\"color\":\"#2a3f5f\"},\"geo\":{\"bgcolor\":\"white\",\"lakecolor\":\"white\",\"landcolor\":\"#E5ECF6\",\"showlakes\":true,\"showland\":true,\"subunitcolor\":\"white\"},\"hoverlabel\":{\"align\":\"left\"},\"hovermode\":\"closest\",\"mapbox\":{\"style\":\"light\"},\"paper_bgcolor\":\"white\",\"plot_bgcolor\":\"#E5ECF6\",\"polar\":{\"angularaxis\":{\"gridcolor\":\"white\",\"linecolor\":\"white\",\"ticks\":\"\"},\"bgcolor\":\"#E5ECF6\",\"radialaxis\":{\"gridcolor\":\"white\",\"linecolor\":\"white\",\"ticks\":\"\"}},\"scene\":{\"xaxis\":{\"backgroundcolor\":\"#E5ECF6\",\"gridcolor\":\"white\",\"gridwidth\":2,\"linecolor\":\"white\",\"showbackground\":true,\"ticks\":\"\",\"zerolinecolor\":\"white\"},\"yaxis\":{\"backgroundcolor\":\"#E5ECF6\",\"gridcolor\":\"white\",\"gridwidth\":2,\"linecolor\":\"white\",\"showbackground\":true,\"ticks\":\"\",\"zerolinecolor\":\"white\"},\"zaxis\":{\"backgroundcolor\":\"#E5ECF6\",\"gridcolor\":\"white\",\"gridwidth\":2,\"linecolor\":\"white\",\"showbackground\":true,\"ticks\":\"\",\"zerolinecolor\":\"white\"}},\"shapedefaults\":{\"line\":{\"color\":\"#2a3f5f\"}},\"ternary\":{\"aaxis\":{\"gridcolor\":\"white\",\"linecolor\":\"white\",\"ticks\":\"\"},\"baxis\":{\"gridcolor\":\"white\",\"linecolor\":\"white\",\"ticks\":\"\"},\"bgcolor\":\"#E5ECF6\",\"caxis\":{\"gridcolor\":\"white\",\"linecolor\":\"white\",\"ticks\":\"\"}},\"title\":{\"x\":0.05},\"xaxis\":{\"automargin\":true,\"gridcolor\":\"white\",\"linecolor\":\"white\",\"ticks\":\"\",\"title\":{\"standoff\":15},\"zerolinecolor\":\"white\",\"zerolinewidth\":2},\"yaxis\":{\"automargin\":true,\"gridcolor\":\"white\",\"linecolor\":\"white\",\"ticks\":\"\",\"title\":{\"standoff\":15},\"zerolinecolor\":\"white\",\"zerolinewidth\":2}}},\"legend\":{\"tracegroupgap\":0},\"title\":{\"text\":\"Location\"},\"piecolorway\":[\"rgb(103,0,31)\",\"rgb(178,24,43)\",\"rgb(214,96,77)\",\"rgb(244,165,130)\",\"rgb(253,219,199)\",\"rgb(247,247,247)\",\"rgb(209,229,240)\",\"rgb(146,197,222)\",\"rgb(67,147,195)\",\"rgb(33,102,172)\",\"rgb(5,48,97)\"]},                        {\"responsive\": true}                    ).then(function(){\n",
       "                            \n",
       "var gd = document.getElementById('3126d8df-51bc-4a8e-aac6-adc99e453044');\n",
       "var x = new MutationObserver(function (mutations, observer) {{\n",
       "        var display = window.getComputedStyle(gd).display;\n",
       "        if (!display || display === 'none') {{\n",
       "            console.log([gd, 'removed!']);\n",
       "            Plotly.purge(gd);\n",
       "            observer.disconnect();\n",
       "        }}\n",
       "}});\n",
       "\n",
       "// Listen for the removal of the full notebook cells\n",
       "var notebookContainer = gd.closest('#notebook-container');\n",
       "if (notebookContainer) {{\n",
       "    x.observe(notebookContainer, {childList: true});\n",
       "}}\n",
       "\n",
       "// Listen for the clearing of the current output cell\n",
       "var outputEl = gd.closest('.output');\n",
       "if (outputEl) {{\n",
       "    x.observe(outputEl, {childList: true});\n",
       "}}\n",
       "\n",
       "                        })                };                });            </script>        </div>"
      ]
     },
     "metadata": {},
     "output_type": "display_data"
    }
   ],
   "source": [
    "Pie = hbk['Location'].value_counts().reset_index()\n",
    "Pie.columns = ['Location','Percent']\n",
    "Pie['Percent'] /= len(hbk)\n",
    "fig = px.pie(Pie, names = 'Location', values = 'Percent', title = 'Location', color = \"Percent\", color_discrete_sequence = px.colors.sequential.RdBu)\n",
    "fig.show()"
   ]
  },
  {
   "cell_type": "code",
   "execution_count": 52,
   "id": "b968de08",
   "metadata": {},
   "outputs": [
    {
     "data": {
      "text/plain": [
       "<seaborn.axisgrid.PairGrid at 0x1633112ea00>"
      ]
     },
     "execution_count": 52,
     "metadata": {},
     "output_type": "execute_result"
    },
    {
     "data": {
      "image/png": "[encoded data removed]",
      "text/plain": [
       "<Figure size 1082.38x900 with 30 Axes>"
      ]
     },
     "metadata": {
      "needs_background": "light"
     },
     "output_type": "display_data"
    }
   ],
   "source": [
    "sns.set_palette(\"Spectral\")\n",
    "sns.pairplot(hbk,hue='BuildingType')"
   ]
  },
  {
   "cell_type": "code",
   "execution_count": 53,
   "id": "7e891f85",
   "metadata": {
    "scrolled": false
   },
   "outputs": [
    {
     "data": {
      "text/plain": [
       "<AxesSubplot:>"
      ]
     },
     "execution_count": 53,
     "metadata": {},
     "output_type": "execute_result"
    },
    {
     "data": {
      "image/png": "[encoded data removed]",
      "text/plain": [
       "<Figure size 1296x576 with 2 Axes>"
      ]
     },
     "metadata": {
      "needs_background": "light"
     },
     "output_type": "display_data"
    }
   ],
   "source": [
    "plt.figure(figsize = [18,8])\n",
    "sns.heatmap(hbk.corr(),annot=True)"
   ]
  },
  {
   "cell_type": "code",
   "execution_count": 57,
   "id": "2e4daa23",
   "metadata": {},
   "outputs": [
    {
     "name": "stderr",
     "output_type": "stream",
     "text": [
      "C:\\Users\\jolin\\anaconda3\\lib\\site-packages\\seaborn\\distributions.py:2557: FutureWarning:\n",
      "\n",
      "`distplot` is a deprecated function and will be removed in a future version. Please adapt your code to use either `displot` (a figure-level function with similar flexibility) or `histplot` (an axes-level function for histograms).\n",
      "\n"
     ]
    },
    {
     "data": {
      "text/plain": [
       "<AxesSubplot:xlabel='AreaSqFt', ylabel='Density'>"
      ]
     },
     "execution_count": 57,
     "metadata": {},
     "output_type": "execute_result"
    },
    {
     "data": {
      "image/png": "[encoded data removed]",
      "text/plain": [
       "<Figure size 2880x2160 with 1 Axes>"
      ]
     },
     "metadata": {
      "needs_background": "light"
     },
     "output_type": "display_data"
    }
   ],
   "source": [
    "plt.figure(figsize=(40,30))\n",
    "sns.distplot(hbk['AreaSqFt'], color = '#8F00FF')"
   ]
  },
  {
   "cell_type": "markdown",
   "id": "27f46490",
   "metadata": {},
   "source": [
    "**Use the train_test_split method available in SCIKIT to split the dataset into Train Dataset and Test Dataset.**"
   ]
  },
  {
   "cell_type": "code",
   "execution_count": 15,
   "id": "d805ef76",
   "metadata": {},
   "outputs": [
    {
     "data": {
      "text/plain": [
       "[                    BuildingType       Location   Size  AreaSqFt  NoOfBath  \\\n",
       " 0           Minimum Budget Rooms    Portofino H  1 BHK     400.0         1   \n",
       " 1           Minimum Budget Rooms    Portofino H  1 BHK     450.0         1   \n",
       " 2           Minimum Budget Rooms  School Street  1 BHK     530.0         1   \n",
       " 3           Minimum Budget Rooms    Portofino B  1 BHK     400.0         1   \n",
       " 4           Minimum Budget Rooms  School Street  2 BHK     460.0         1   \n",
       " ..                           ...            ...    ...       ...       ...   \n",
       " 745          Semi Furnished Flat  Clubview Road  3 BHK    1801.0         3   \n",
       " 746          Semi Furnished Flat  Clubview Road  7 BHK    2500.0         6   \n",
       " 747  Super Furnished Single Room    Portofino D  3 BHK    1560.0         3   \n",
       " 748          Semi Furnished Flat    Portofino B  3 BHK    1688.0         3   \n",
       " 749          Semi Furnished Flat  Clubview Road  3 BHK    1900.0         3   \n",
       " \n",
       "      NoOfPeople  NoOfBalcony  RentPerMonth  \n",
       " 0             1            1        1100.0  \n",
       " 1             1            1        1100.0  \n",
       " 2             1            0        1166.0  \n",
       " 3             1            0        1400.0  \n",
       " 4             1            0        1500.0  \n",
       " ..          ...          ...           ...  \n",
       " 745           2            2       11500.0  \n",
       " 746           2            2       11500.0  \n",
       " 747           2            3       11500.0  \n",
       " 748           2            1       11800.0  \n",
       " 749           2            2       11900.0  \n",
       " \n",
       " [750 rows x 8 columns],\n",
       "                     BuildingType       Location   Size  AreaSqFt  NoOfBath  \\\n",
       " 750  Super Furnished Single Room  Clubview Road  3 BHK    2450.0         3   \n",
       " 751          Semi Furnished Flat    Portofino C  4 BHK    2000.0         4   \n",
       " 752  Super Furnished Single Room    Portofino H  3 BHK    1640.0         2   \n",
       " 753  Super Furnished Single Room  Clubview Road  2 BHK    1656.0         2   \n",
       " 754          Semi Furnished Flat    Portofino D  3 BHK    1750.0         3   \n",
       " ..                           ...            ...    ...       ...       ...   \n",
       " 995        Super Furnished Villa    Portofino D  4 BHK    4900.0         4   \n",
       " 996        Super Furnished Villa    Portofino B  4 BHK    3750.0         4   \n",
       " 997        Super Furnished Villa  School Street  4 BHK    5270.0         4   \n",
       " 998        Super Furnished Villa    Portofino B  6 BHK    5100.0         7   \n",
       " 999        Super Furnished Villa    Portofino B  7 BHK    6300.0         6   \n",
       " \n",
       "      NoOfPeople  NoOfBalcony  RentPerMonth  \n",
       " 750           2            0       12000.0  \n",
       " 751           2            0       12000.0  \n",
       " 752           2            1       12000.0  \n",
       " 753           2            1       12000.0  \n",
       " 754           2            1       12000.0  \n",
       " ..          ...          ...           ...  \n",
       " 995           6            3       70000.0  \n",
       " 996           5            0       76000.0  \n",
       " 997           5            3       80000.0  \n",
       " 998           6            3       90000.0  \n",
       " 999           6            3       96000.0  \n",
       " \n",
       " [250 rows x 8 columns]]"
      ]
     },
     "execution_count": 15,
     "metadata": {},
     "output_type": "execute_result"
    }
   ],
   "source": [
    "tts(hbk,shuffle=False)"
   ]
  },
  {
   "cell_type": "code",
   "execution_count": 59,
   "id": "9d94feed",
   "metadata": {},
   "outputs": [],
   "source": [
    "X=hbk[['BuildingType','Location','Size','AreaSqFt','NoOfBath','NoOfPeople','NoOfBalcony']]\n",
    "y=hbk[\"RentPerMonth\"]"
   ]
  },
  {
   "cell_type": "code",
   "execution_count": 60,
   "id": "ab608eae",
   "metadata": {
    "scrolled": true
   },
   "outputs": [
    {
     "data": {
      "text/plain": [
       "Semi Furnished Single Room     274\n",
       "Semi Furnished Flat            246\n",
       "Fully Furnished Single Room    153\n",
       "Minimum Budget Rooms           146\n",
       "Semi Furnished Villa            63\n",
       "Fully Furnished Flat            41\n",
       "Super Furnished Single Room     25\n",
       "Super Furnished Villa           21\n",
       "Fully Furnished Villa           19\n",
       "Super Furnished Flat            12\n",
       "Name: BuildingType, dtype: int64"
      ]
     },
     "execution_count": 60,
     "metadata": {},
     "output_type": "execute_result"
    }
   ],
   "source": [
    "hbk[\"BuildingType\"].value_counts()"
   ]
  },
  {
   "cell_type": "code",
   "execution_count": 61,
   "id": "d1a370f9",
   "metadata": {
    "scrolled": true
   },
   "outputs": [
    {
     "data": {
      "text/plain": [
       "array(['Minimum Budget Rooms', 'Semi Furnished Single Room',\n",
       "       'Semi Furnished Flat', 'Fully Furnished Single Room',\n",
       "       'Super Furnished Single Room', 'Semi Furnished Villa',\n",
       "       'Fully Furnished Flat', 'Super Furnished Flat',\n",
       "       'Fully Furnished Villa', 'Super Furnished Villa'], dtype=object)"
      ]
     },
     "execution_count": 61,
     "metadata": {},
     "output_type": "execute_result"
    }
   ],
   "source": [
    "hbk[\"BuildingType\"].unique()"
   ]
  },
  {
   "cell_type": "code",
   "execution_count": 62,
   "id": "906dffdd",
   "metadata": {
    "scrolled": true
   },
   "outputs": [
    {
     "data": {
      "text/plain": [
       "array(['1 BHK', '2 BHK', '1 RK', '3 BHK', '4 BHK', '5 BHK', '6 BHK',\n",
       "       '8 BHK', '7 BHK', '9 BHK'], dtype=object)"
      ]
     },
     "execution_count": 62,
     "metadata": {},
     "output_type": "execute_result"
    }
   ],
   "source": [
    "hbk['Size'].unique()"
   ]
  },
  {
   "cell_type": "code",
   "execution_count": 63,
   "id": "9777cc01",
   "metadata": {
    "scrolled": true
   },
   "outputs": [
    {
     "data": {
      "text/plain": [
       "2 BHK    429\n",
       "3 BHK    353\n",
       "4 BHK    103\n",
       "1 BHK     51\n",
       "5 BHK     22\n",
       "6 BHK     21\n",
       "8 BHK      8\n",
       "7 BHK      7\n",
       "9 BHK      4\n",
       "1 RK       2\n",
       "Name: Size, dtype: int64"
      ]
     },
     "execution_count": 63,
     "metadata": {},
     "output_type": "execute_result"
    }
   ],
   "source": [
    "hbk['Size'].value_counts()"
   ]
  },
  {
   "cell_type": "code",
   "execution_count": 64,
   "id": "0745381b",
   "metadata": {},
   "outputs": [],
   "source": [
    "one_hot_encoded_data = pd.get_dummies(X, columns = ['BuildingType', 'Location'])"
   ]
  },
  {
   "cell_type": "code",
   "execution_count": 65,
   "id": "94b954cc",
   "metadata": {
    "scrolled": false
   },
   "outputs": [
    {
     "data": {
      "text/html": [
       "<div>\n",
       "<style scoped>\n",
       "    .dataframe tbody tr th:only-of-type {\n",
       "        vertical-align: middle;\n",
       "    }\n",
       "\n",
       "    .dataframe tbody tr th {\n",
       "        vertical-align: top;\n",
       "    }\n",
       "\n",
       "    .dataframe thead th {\n",
       "        text-align: right;\n",
       "    }\n",
       "</style>\n",
       "<table border=\"1\" class=\"dataframe\">\n",
       "  <thead>\n",
       "    <tr style=\"text-align: right;\">\n",
       "      <th></th>\n",
       "      <th>Size</th>\n",
       "      <th>AreaSqFt</th>\n",
       "      <th>NoOfBath</th>\n",
       "      <th>NoOfPeople</th>\n",
       "      <th>NoOfBalcony</th>\n",
       "      <th>BuildingType_Fully Furnished Flat</th>\n",
       "      <th>BuildingType_Fully Furnished Single Room</th>\n",
       "      <th>BuildingType_Fully Furnished Villa</th>\n",
       "      <th>BuildingType_Minimum Budget Rooms</th>\n",
       "      <th>BuildingType_Semi Furnished Flat</th>\n",
       "      <th>...</th>\n",
       "      <th>Location_Portofino A</th>\n",
       "      <th>Location_Portofino B</th>\n",
       "      <th>Location_Portofino C</th>\n",
       "      <th>Location_Portofino D</th>\n",
       "      <th>Location_Portofino E</th>\n",
       "      <th>Location_Portofino F</th>\n",
       "      <th>Location_Portofino G</th>\n",
       "      <th>Location_Portofino H</th>\n",
       "      <th>Location_School Street</th>\n",
       "      <th>Location_Starter Homes</th>\n",
       "    </tr>\n",
       "  </thead>\n",
       "  <tbody>\n",
       "    <tr>\n",
       "      <th>0</th>\n",
       "      <td>1 BHK</td>\n",
       "      <td>400.0</td>\n",
       "      <td>1</td>\n",
       "      <td>1</td>\n",
       "      <td>1</td>\n",
       "      <td>0</td>\n",
       "      <td>0</td>\n",
       "      <td>0</td>\n",
       "      <td>1</td>\n",
       "      <td>0</td>\n",
       "      <td>...</td>\n",
       "      <td>0</td>\n",
       "      <td>0</td>\n",
       "      <td>0</td>\n",
       "      <td>0</td>\n",
       "      <td>0</td>\n",
       "      <td>0</td>\n",
       "      <td>0</td>\n",
       "      <td>1</td>\n",
       "      <td>0</td>\n",
       "      <td>0</td>\n",
       "    </tr>\n",
       "    <tr>\n",
       "      <th>1</th>\n",
       "      <td>1 BHK</td>\n",
       "      <td>450.0</td>\n",
       "      <td>1</td>\n",
       "      <td>1</td>\n",
       "      <td>1</td>\n",
       "      <td>0</td>\n",
       "      <td>0</td>\n",
       "      <td>0</td>\n",
       "      <td>1</td>\n",
       "      <td>0</td>\n",
       "      <td>...</td>\n",
       "      <td>0</td>\n",
       "      <td>0</td>\n",
       "      <td>0</td>\n",
       "      <td>0</td>\n",
       "      <td>0</td>\n",
       "      <td>0</td>\n",
       "      <td>0</td>\n",
       "      <td>1</td>\n",
       "      <td>0</td>\n",
       "      <td>0</td>\n",
       "    </tr>\n",
       "    <tr>\n",
       "      <th>2</th>\n",
       "      <td>1 BHK</td>\n",
       "      <td>530.0</td>\n",
       "      <td>1</td>\n",
       "      <td>1</td>\n",
       "      <td>0</td>\n",
       "      <td>0</td>\n",
       "      <td>0</td>\n",
       "      <td>0</td>\n",
       "      <td>1</td>\n",
       "      <td>0</td>\n",
       "      <td>...</td>\n",
       "      <td>0</td>\n",
       "      <td>0</td>\n",
       "      <td>0</td>\n",
       "      <td>0</td>\n",
       "      <td>0</td>\n",
       "      <td>0</td>\n",
       "      <td>0</td>\n",
       "      <td>0</td>\n",
       "      <td>1</td>\n",
       "      <td>0</td>\n",
       "    </tr>\n",
       "    <tr>\n",
       "      <th>3</th>\n",
       "      <td>1 BHK</td>\n",
       "      <td>400.0</td>\n",
       "      <td>1</td>\n",
       "      <td>1</td>\n",
       "      <td>0</td>\n",
       "      <td>0</td>\n",
       "      <td>0</td>\n",
       "      <td>0</td>\n",
       "      <td>1</td>\n",
       "      <td>0</td>\n",
       "      <td>...</td>\n",
       "      <td>0</td>\n",
       "      <td>1</td>\n",
       "      <td>0</td>\n",
       "      <td>0</td>\n",
       "      <td>0</td>\n",
       "      <td>0</td>\n",
       "      <td>0</td>\n",
       "      <td>0</td>\n",
       "      <td>0</td>\n",
       "      <td>0</td>\n",
       "    </tr>\n",
       "    <tr>\n",
       "      <th>4</th>\n",
       "      <td>2 BHK</td>\n",
       "      <td>460.0</td>\n",
       "      <td>1</td>\n",
       "      <td>1</td>\n",
       "      <td>0</td>\n",
       "      <td>0</td>\n",
       "      <td>0</td>\n",
       "      <td>0</td>\n",
       "      <td>1</td>\n",
       "      <td>0</td>\n",
       "      <td>...</td>\n",
       "      <td>0</td>\n",
       "      <td>0</td>\n",
       "      <td>0</td>\n",
       "      <td>0</td>\n",
       "      <td>0</td>\n",
       "      <td>0</td>\n",
       "      <td>0</td>\n",
       "      <td>0</td>\n",
       "      <td>1</td>\n",
       "      <td>0</td>\n",
       "    </tr>\n",
       "    <tr>\n",
       "      <th>...</th>\n",
       "      <td>...</td>\n",
       "      <td>...</td>\n",
       "      <td>...</td>\n",
       "      <td>...</td>\n",
       "      <td>...</td>\n",
       "      <td>...</td>\n",
       "      <td>...</td>\n",
       "      <td>...</td>\n",
       "      <td>...</td>\n",
       "      <td>...</td>\n",
       "      <td>...</td>\n",
       "      <td>...</td>\n",
       "      <td>...</td>\n",
       "      <td>...</td>\n",
       "      <td>...</td>\n",
       "      <td>...</td>\n",
       "      <td>...</td>\n",
       "      <td>...</td>\n",
       "      <td>...</td>\n",
       "      <td>...</td>\n",
       "      <td>...</td>\n",
       "    </tr>\n",
       "    <tr>\n",
       "      <th>995</th>\n",
       "      <td>4 BHK</td>\n",
       "      <td>4900.0</td>\n",
       "      <td>4</td>\n",
       "      <td>6</td>\n",
       "      <td>3</td>\n",
       "      <td>0</td>\n",
       "      <td>0</td>\n",
       "      <td>0</td>\n",
       "      <td>0</td>\n",
       "      <td>0</td>\n",
       "      <td>...</td>\n",
       "      <td>0</td>\n",
       "      <td>0</td>\n",
       "      <td>0</td>\n",
       "      <td>1</td>\n",
       "      <td>0</td>\n",
       "      <td>0</td>\n",
       "      <td>0</td>\n",
       "      <td>0</td>\n",
       "      <td>0</td>\n",
       "      <td>0</td>\n",
       "    </tr>\n",
       "    <tr>\n",
       "      <th>996</th>\n",
       "      <td>4 BHK</td>\n",
       "      <td>3750.0</td>\n",
       "      <td>4</td>\n",
       "      <td>5</td>\n",
       "      <td>0</td>\n",
       "      <td>0</td>\n",
       "      <td>0</td>\n",
       "      <td>0</td>\n",
       "      <td>0</td>\n",
       "      <td>0</td>\n",
       "      <td>...</td>\n",
       "      <td>0</td>\n",
       "      <td>1</td>\n",
       "      <td>0</td>\n",
       "      <td>0</td>\n",
       "      <td>0</td>\n",
       "      <td>0</td>\n",
       "      <td>0</td>\n",
       "      <td>0</td>\n",
       "      <td>0</td>\n",
       "      <td>0</td>\n",
       "    </tr>\n",
       "    <tr>\n",
       "      <th>997</th>\n",
       "      <td>4 BHK</td>\n",
       "      <td>5270.0</td>\n",
       "      <td>4</td>\n",
       "      <td>5</td>\n",
       "      <td>3</td>\n",
       "      <td>0</td>\n",
       "      <td>0</td>\n",
       "      <td>0</td>\n",
       "      <td>0</td>\n",
       "      <td>0</td>\n",
       "      <td>...</td>\n",
       "      <td>0</td>\n",
       "      <td>0</td>\n",
       "      <td>0</td>\n",
       "      <td>0</td>\n",
       "      <td>0</td>\n",
       "      <td>0</td>\n",
       "      <td>0</td>\n",
       "      <td>0</td>\n",
       "      <td>1</td>\n",
       "      <td>0</td>\n",
       "    </tr>\n",
       "    <tr>\n",
       "      <th>998</th>\n",
       "      <td>6 BHK</td>\n",
       "      <td>5100.0</td>\n",
       "      <td>7</td>\n",
       "      <td>6</td>\n",
       "      <td>3</td>\n",
       "      <td>0</td>\n",
       "      <td>0</td>\n",
       "      <td>0</td>\n",
       "      <td>0</td>\n",
       "      <td>0</td>\n",
       "      <td>...</td>\n",
       "      <td>0</td>\n",
       "      <td>1</td>\n",
       "      <td>0</td>\n",
       "      <td>0</td>\n",
       "      <td>0</td>\n",
       "      <td>0</td>\n",
       "      <td>0</td>\n",
       "      <td>0</td>\n",
       "      <td>0</td>\n",
       "      <td>0</td>\n",
       "    </tr>\n",
       "    <tr>\n",
       "      <th>999</th>\n",
       "      <td>7 BHK</td>\n",
       "      <td>6300.0</td>\n",
       "      <td>6</td>\n",
       "      <td>6</td>\n",
       "      <td>3</td>\n",
       "      <td>0</td>\n",
       "      <td>0</td>\n",
       "      <td>0</td>\n",
       "      <td>0</td>\n",
       "      <td>0</td>\n",
       "      <td>...</td>\n",
       "      <td>0</td>\n",
       "      <td>1</td>\n",
       "      <td>0</td>\n",
       "      <td>0</td>\n",
       "      <td>0</td>\n",
       "      <td>0</td>\n",
       "      <td>0</td>\n",
       "      <td>0</td>\n",
       "      <td>0</td>\n",
       "      <td>0</td>\n",
       "    </tr>\n",
       "  </tbody>\n",
       "</table>\n",
       "<p>1000 rows × 26 columns</p>\n",
       "</div>"
      ],
      "text/plain": [
       "      Size  AreaSqFt  NoOfBath  NoOfPeople  NoOfBalcony  \\\n",
       "0    1 BHK     400.0         1           1            1   \n",
       "1    1 BHK     450.0         1           1            1   \n",
       "2    1 BHK     530.0         1           1            0   \n",
       "3    1 BHK     400.0         1           1            0   \n",
       "4    2 BHK     460.0         1           1            0   \n",
       "..     ...       ...       ...         ...          ...   \n",
       "995  4 BHK    4900.0         4           6            3   \n",
       "996  4 BHK    3750.0         4           5            0   \n",
       "997  4 BHK    5270.0         4           5            3   \n",
       "998  6 BHK    5100.0         7           6            3   \n",
       "999  7 BHK    6300.0         6           6            3   \n",
       "\n",
       "     BuildingType_Fully Furnished Flat  \\\n",
       "0                                    0   \n",
       "1                                    0   \n",
       "2                                    0   \n",
       "3                                    0   \n",
       "4                                    0   \n",
       "..                                 ...   \n",
       "995                                  0   \n",
       "996                                  0   \n",
       "997                                  0   \n",
       "998                                  0   \n",
       "999                                  0   \n",
       "\n",
       "     BuildingType_Fully Furnished Single Room  \\\n",
       "0                                           0   \n",
       "1                                           0   \n",
       "2                                           0   \n",
       "3                                           0   \n",
       "4                                           0   \n",
       "..                                        ...   \n",
       "995                                         0   \n",
       "996                                         0   \n",
       "997                                         0   \n",
       "998                                         0   \n",
       "999                                         0   \n",
       "\n",
       "     BuildingType_Fully Furnished Villa  BuildingType_Minimum Budget Rooms  \\\n",
       "0                                     0                                  1   \n",
       "1                                     0                                  1   \n",
       "2                                     0                                  1   \n",
       "3                                     0                                  1   \n",
       "4                                     0                                  1   \n",
       "..                                  ...                                ...   \n",
       "995                                   0                                  0   \n",
       "996                                   0                                  0   \n",
       "997                                   0                                  0   \n",
       "998                                   0                                  0   \n",
       "999                                   0                                  0   \n",
       "\n",
       "     BuildingType_Semi Furnished Flat  ...  Location_Portofino A  \\\n",
       "0                                   0  ...                     0   \n",
       "1                                   0  ...                     0   \n",
       "2                                   0  ...                     0   \n",
       "3                                   0  ...                     0   \n",
       "4                                   0  ...                     0   \n",
       "..                                ...  ...                   ...   \n",
       "995                                 0  ...                     0   \n",
       "996                                 0  ...                     0   \n",
       "997                                 0  ...                     0   \n",
       "998                                 0  ...                     0   \n",
       "999                                 0  ...                     0   \n",
       "\n",
       "     Location_Portofino B  Location_Portofino C  Location_Portofino D  \\\n",
       "0                       0                     0                     0   \n",
       "1                       0                     0                     0   \n",
       "2                       0                     0                     0   \n",
       "3                       1                     0                     0   \n",
       "4                       0                     0                     0   \n",
       "..                    ...                   ...                   ...   \n",
       "995                     0                     0                     1   \n",
       "996                     1                     0                     0   \n",
       "997                     0                     0                     0   \n",
       "998                     1                     0                     0   \n",
       "999                     1                     0                     0   \n",
       "\n",
       "     Location_Portofino E  Location_Portofino F  Location_Portofino G  \\\n",
       "0                       0                     0                     0   \n",
       "1                       0                     0                     0   \n",
       "2                       0                     0                     0   \n",
       "3                       0                     0                     0   \n",
       "4                       0                     0                     0   \n",
       "..                    ...                   ...                   ...   \n",
       "995                     0                     0                     0   \n",
       "996                     0                     0                     0   \n",
       "997                     0                     0                     0   \n",
       "998                     0                     0                     0   \n",
       "999                     0                     0                     0   \n",
       "\n",
       "     Location_Portofino H  Location_School Street  Location_Starter Homes  \n",
       "0                       1                       0                       0  \n",
       "1                       1                       0                       0  \n",
       "2                       0                       1                       0  \n",
       "3                       0                       0                       0  \n",
       "4                       0                       1                       0  \n",
       "..                    ...                     ...                     ...  \n",
       "995                     0                       0                       0  \n",
       "996                     0                       0                       0  \n",
       "997                     0                       1                       0  \n",
       "998                     0                       0                       0  \n",
       "999                     0                       0                       0  \n",
       "\n",
       "[1000 rows x 26 columns]"
      ]
     },
     "execution_count": 65,
     "metadata": {},
     "output_type": "execute_result"
    }
   ],
   "source": [
    "X1=one_hot_encoded_data\n",
    "X1"
   ]
  },
  {
   "cell_type": "code",
   "execution_count": 68,
   "id": "85cda7e4",
   "metadata": {
    "scrolled": false
   },
   "outputs": [
    {
     "data": {
      "text/plain": [
       "1"
      ]
     },
     "execution_count": 68,
     "metadata": {},
     "output_type": "execute_result"
    }
   ],
   "source": [
    "def remove_BHK(x):\n",
    "    x=int(x[0])\n",
    "    return x\n",
    "remove_BHK('1 BHK')"
   ]
  },
  {
   "cell_type": "code",
   "execution_count": 72,
   "id": "56d7db6b",
   "metadata": {},
   "outputs": [],
   "source": [
    "t_size=[]\n",
    "norm=[]\n",
    "reg_score=[]\n",
    "reg_intercept=[]\n",
    "test_mae=[]\n",
    "test_mse=[]\n",
    "test_r2=[]\n",
    "test_rmse=[]\n",
    "train_mae = []\n",
    "train_r2 = []\n",
    "train_mse = []\n",
    "train_rmse = []"
   ]
  },
  {
   "cell_type": "markdown",
   "id": "3ce1f6d9",
   "metadata": {},
   "source": [
    "**50:50**"
   ]
  },
  {
   "cell_type": "code",
   "execution_count": 73,
   "id": "89da3b65",
   "metadata": {
    "scrolled": false
   },
   "outputs": [
    {
     "name": "stdout",
     "output_type": "stream",
     "text": [
      "Regression score:  nan\n",
      "Regression intercept:  -2.177773218587796e+16\n",
      "coef:  [ 2.11025785e+02  5.17769937e-01  7.21103641e+02  1.72982531e+03\n",
      "  1.22298653e+02  3.12435073e+16  3.12435073e+16  3.12435073e+16\n",
      "  3.12435073e+16  3.12435073e+16  3.12435073e+16  3.12435073e+16\n",
      "  3.12435073e+16  3.12435073e+16  3.12435073e+16 -9.46577510e+15\n",
      " -9.46577510e+15 -9.46577510e+15 -9.46577510e+15 -9.46577510e+15\n",
      " -9.46577510e+15 -9.46577510e+15 -9.46577510e+15 -9.46577510e+15\n",
      " -9.46577510e+15 -9.46577510e+15]\n",
      "param:  {'copy_X': True, 'fit_intercept': True, 'n_jobs': None, 'normalize': True, 'positive': False}\n",
      "For Training Data \n",
      " --------------------------------\n",
      "MAE:  1854.2727727727727\n",
      "MSE:  10619352.443193194\n",
      "r2:  0.903845037661196\n",
      "RMSE:  3258.734791785486\n",
      "For Test Data \n",
      " --------------------------------\n",
      "MAE:  1314.0\n",
      "MSE:  1726596.0\n",
      "r2:  nan\n",
      "RMSE:  1314.0\n"
     ]
    },
    {
     "name": "stderr",
     "output_type": "stream",
     "text": [
      "C:\\Users\\jolin\\anaconda3\\lib\\site-packages\\sklearn\\metrics\\_regression.py:682: UndefinedMetricWarning:\n",
      "\n",
      "R^2 score is not well-defined with less than two samples.\n",
      "\n",
      "C:\\Users\\jolin\\anaconda3\\lib\\site-packages\\sklearn\\metrics\\_regression.py:682: UndefinedMetricWarning:\n",
      "\n",
      "R^2 score is not well-defined with less than two samples.\n",
      "\n",
      "C:\\Users\\jolin\\anaconda3\\lib\\site-packages\\sklearn\\metrics\\_regression.py:682: UndefinedMetricWarning:\n",
      "\n",
      "R^2 score is not well-defined with less than two samples.\n",
      "\n",
      "C:\\Users\\jolin\\anaconda3\\lib\\site-packages\\sklearn\\metrics\\_regression.py:682: UndefinedMetricWarning:\n",
      "\n",
      "R^2 score is not well-defined with less than two samples.\n",
      "\n"
     ]
    }
   ],
   "source": [
    "test_size=1\n",
    "X_train,X_test,y_train,y_test=train_test_split(X1,y,test_size=test_size,random_state=42)\n",
    "reg=LinearRegression(normalize=True)\n",
    "reg.fit(X_train, y_train)\n",
    "print(\"Regression score: \",reg.score(X_test, y_test))\n",
    "print(\"Regression intercept: \",reg.intercept_)\n",
    "print(\"coef: \",reg.coef_)\n",
    "print(\"param: \",reg.get_params(deep=True))\n",
    "\n",
    "\n",
    "y_pred=reg.predict(X_test)\n",
    "train_pred = reg.predict(X_train)\n",
    "\n",
    "print(\"For Training Data \\n --------------------------------\")\n",
    "print(\"MAE: \",mean_absolute_error(y_train, train_pred))\n",
    "print(\"MSE: \",mean_squared_error(y_train, train_pred))\n",
    "print(\"r2: \",r2_score(y_train, train_pred))\n",
    "print(\"RMSE: \",np.sqrt(mean_squared_error(y_train, train_pred)))\n",
    "\n",
    "print(\"For Test Data \\n --------------------------------\")\n",
    "print(\"MAE: \",mean_absolute_error(y_test, y_pred))\n",
    "print(\"MSE: \",mean_squared_error(y_test, y_pred))\n",
    "print(\"r2: \",r2_score(y_test, y_pred))\n",
    "print(\"RMSE: \",np.sqrt(mean_squared_error(y_test,y_pred)))\n",
    "\n",
    "# Append all these in above empty list\n",
    "t_size.append(test_size)\n",
    "norm.append(True)\n",
    "reg_score.append(reg.score(X_test, y_test))\n",
    "reg_intercept.append(reg.intercept_)\n",
    "test_mae.append(mean_absolute_error(y_test, y_pred))\n",
    "test_mse.append(mean_squared_error(y_test, y_pred))\n",
    "test_r2.append(r2_score(y_test, y_pred))\n",
    "test_rmse.append(np.sqrt(mean_squared_error(y_test,y_pred)))\n",
    "\n",
    "\n",
    "train_mae.append(mean_absolute_error(y_train, train_pred))\n",
    "train_mse.append(mean_squared_error(y_train, train_pred))\n",
    "train_r2.append(r2_score(y_train, train_pred))\n",
    "train_rmse.append(np.sqrt(mean_squared_error(y_train, train_pred)))"
   ]
  },
  {
   "cell_type": "code",
   "execution_count": 74,
   "id": "1df46ef1",
   "metadata": {
    "scrolled": true
   },
   "outputs": [
    {
     "data": {
      "text/html": [
       "<div>\n",
       "<style scoped>\n",
       "    .dataframe tbody tr th:only-of-type {\n",
       "        vertical-align: middle;\n",
       "    }\n",
       "\n",
       "    .dataframe tbody tr th {\n",
       "        vertical-align: top;\n",
       "    }\n",
       "\n",
       "    .dataframe thead th {\n",
       "        text-align: right;\n",
       "    }\n",
       "</style>\n",
       "<table border=\"1\" class=\"dataframe\">\n",
       "  <thead>\n",
       "    <tr style=\"text-align: right;\">\n",
       "      <th></th>\n",
       "      <th>Actual</th>\n",
       "      <th>Predicted</th>\n",
       "    </tr>\n",
       "  </thead>\n",
       "  <tbody>\n",
       "    <tr>\n",
       "      <th>521</th>\n",
       "      <td>7350.0</td>\n",
       "      <td>8664.0</td>\n",
       "    </tr>\n",
       "  </tbody>\n",
       "</table>\n",
       "</div>"
      ],
      "text/plain": [
       "     Actual  Predicted\n",
       "521  7350.0     8664.0"
      ]
     },
     "execution_count": 74,
     "metadata": {},
     "output_type": "execute_result"
    }
   ],
   "source": [
    "df1=pd.DataFrame({'Actual': y_test, 'Predicted': y_pred})\n",
    "df1"
   ]
  },
  {
   "cell_type": "code",
   "execution_count": 75,
   "id": "ef2d9eea",
   "metadata": {
    "scrolled": false
   },
   "outputs": [
    {
     "name": "stdout",
     "output_type": "stream",
     "text": [
      "Regression score:  0.903682412842022\n",
      "Regression intercept:  11949.889618539808\n",
      "coef:  [ 4.97127029e+02  3.77181974e-01  7.30409079e+02  1.48800052e+03\n",
      "  1.11468538e+01  4.60157363e+03 -1.04275606e+04  1.53389027e+04\n",
      " -1.25176826e+04 -9.36868662e+03 -1.27994327e+04 -3.34838454e+03\n",
      "  3.60889362e+03 -7.00798053e+03  3.19203576e+04 -1.33355686e+02\n",
      "  5.47963163e+02  5.09463848e+02  5.43106231e+02 -4.85991393e+02\n",
      " -2.37428563e+02  1.33965593e+03  2.07043940e+02  1.90801186e+02\n",
      " -1.08150695e+03 -1.39975170e+03]\n",
      "param:  {'copy_X': True, 'fit_intercept': True, 'n_jobs': None, 'normalize': False, 'positive': False}\n",
      "For Training Data \n",
      " --------------------------------\n",
      "MAE:  1981.993400332178\n",
      "MSE:  11727302.86258993\n",
      "r2:  0.8903675949869166\n",
      "RMSE:  3424.5149820945344\n",
      "For Test Data \n",
      " --------------------------------\n",
      "MAE:  1908.459122965936\n",
      "MSE:  10939995.20161191\n",
      "r2:  0.903682412842022\n",
      "RMSE:  3307.56635634297\n"
     ]
    }
   ],
   "source": [
    "test_size=0.5\n",
    "X_train,X_test,y_train,y_test=train_test_split(X1,y,test_size=test_size,random_state=42)\n",
    "reg=LinearRegression(normalize=False)\n",
    "reg.fit(X_train, y_train)\n",
    "print(\"Regression score: \",reg.score(X_test, y_test))\n",
    "print(\"Regression intercept: \",reg.intercept_)\n",
    "print(\"coef: \",reg.coef_)\n",
    "print(\"param: \",reg.get_params(deep=True))\n",
    "\n",
    "y_pred=reg.predict(X_test)\n",
    "train_pred = reg.predict(X_train)\n",
    "\n",
    "print(\"For Training Data \\n --------------------------------\")\n",
    "print(\"MAE: \",mean_absolute_error(y_train, train_pred))\n",
    "print(\"MSE: \",mean_squared_error(y_train, train_pred))\n",
    "print(\"r2: \",r2_score(y_train, train_pred))\n",
    "print(\"RMSE: \",np.sqrt(mean_squared_error(y_train, train_pred)))\n",
    "\n",
    "\n",
    "print(\"For Test Data \\n --------------------------------\")\n",
    "print(\"MAE: \",mean_absolute_error(y_test, y_pred))\n",
    "print(\"MSE: \",mean_squared_error(y_test, y_pred))\n",
    "print(\"r2: \",r2_score(y_test, y_pred))\n",
    "print(\"RMSE: \",np.sqrt(mean_squared_error(y_test,y_pred)))\n",
    "\n",
    "# Append all these in above empty list\n",
    "t_size.append(test_size)\n",
    "norm.append(False)\n",
    "reg_score.append(reg.score(X_test, y_test))\n",
    "reg_intercept.append(reg.intercept_)\n",
    "test_mae.append(mean_absolute_error(y_test, y_pred))\n",
    "test_mse.append(mean_squared_error(y_test, y_pred))\n",
    "test_r2.append(r2_score(y_test, y_pred))\n",
    "test_rmse.append(np.sqrt(mean_squared_error(y_test,y_pred)))\n",
    "\n",
    "\n",
    "train_mae.append(mean_absolute_error(y_train, train_pred))\n",
    "train_mse.append(mean_squared_error(y_train, train_pred))\n",
    "train_r2.append(r2_score(y_train, train_pred))\n",
    "train_rmse.append(np.sqrt(mean_squared_error(y_train, train_pred)))"
   ]
  },
  {
   "cell_type": "code",
   "execution_count": 76,
   "id": "bf3ab613",
   "metadata": {
    "scrolled": false
   },
   "outputs": [
    {
     "data": {
      "text/html": [
       "<div>\n",
       "<style scoped>\n",
       "    .dataframe tbody tr th:only-of-type {\n",
       "        vertical-align: middle;\n",
       "    }\n",
       "\n",
       "    .dataframe tbody tr th {\n",
       "        vertical-align: top;\n",
       "    }\n",
       "\n",
       "    .dataframe thead th {\n",
       "        text-align: right;\n",
       "    }\n",
       "</style>\n",
       "<table border=\"1\" class=\"dataframe\">\n",
       "  <thead>\n",
       "    <tr style=\"text-align: right;\">\n",
       "      <th></th>\n",
       "      <th>Actual</th>\n",
       "      <th>Predicted</th>\n",
       "    </tr>\n",
       "  </thead>\n",
       "  <tbody>\n",
       "    <tr>\n",
       "      <th>521</th>\n",
       "      <td>7350.0</td>\n",
       "      <td>8976.075782</td>\n",
       "    </tr>\n",
       "    <tr>\n",
       "      <th>737</th>\n",
       "      <td>11300.0</td>\n",
       "      <td>9384.153064</td>\n",
       "    </tr>\n",
       "    <tr>\n",
       "      <th>740</th>\n",
       "      <td>11500.0</td>\n",
       "      <td>8326.456832</td>\n",
       "    </tr>\n",
       "    <tr>\n",
       "      <th>660</th>\n",
       "      <td>9500.0</td>\n",
       "      <td>10334.116854</td>\n",
       "    </tr>\n",
       "    <tr>\n",
       "      <th>411</th>\n",
       "      <td>6000.0</td>\n",
       "      <td>7361.423841</td>\n",
       "    </tr>\n",
       "    <tr>\n",
       "      <th>...</th>\n",
       "      <td>...</td>\n",
       "      <td>...</td>\n",
       "    </tr>\n",
       "    <tr>\n",
       "      <th>178</th>\n",
       "      <td>4400.0</td>\n",
       "      <td>2471.847458</td>\n",
       "    </tr>\n",
       "    <tr>\n",
       "      <th>444</th>\n",
       "      <td>6500.0</td>\n",
       "      <td>4548.157109</td>\n",
       "    </tr>\n",
       "    <tr>\n",
       "      <th>416</th>\n",
       "      <td>6100.0</td>\n",
       "      <td>5144.691028</td>\n",
       "    </tr>\n",
       "    <tr>\n",
       "      <th>870</th>\n",
       "      <td>18500.0</td>\n",
       "      <td>9143.449160</td>\n",
       "    </tr>\n",
       "    <tr>\n",
       "      <th>882</th>\n",
       "      <td>20000.0</td>\n",
       "      <td>12213.871842</td>\n",
       "    </tr>\n",
       "  </tbody>\n",
       "</table>\n",
       "<p>500 rows × 2 columns</p>\n",
       "</div>"
      ],
      "text/plain": [
       "      Actual     Predicted\n",
       "521   7350.0   8976.075782\n",
       "737  11300.0   9384.153064\n",
       "740  11500.0   8326.456832\n",
       "660   9500.0  10334.116854\n",
       "411   6000.0   7361.423841\n",
       "..       ...           ...\n",
       "178   4400.0   2471.847458\n",
       "444   6500.0   4548.157109\n",
       "416   6100.0   5144.691028\n",
       "870  18500.0   9143.449160\n",
       "882  20000.0  12213.871842\n",
       "\n",
       "[500 rows x 2 columns]"
      ]
     },
     "execution_count": 76,
     "metadata": {},
     "output_type": "execute_result"
    }
   ],
   "source": [
    "df2=pd.DataFrame({'Actual': y_test, 'Predicted': y_pred})\n",
    "df2"
   ]
  },
  {
   "cell_type": "markdown",
   "id": "08a9a107",
   "metadata": {},
   "source": [
    "**60:40**"
   ]
  },
  {
   "cell_type": "code",
   "execution_count": 77,
   "id": "c23beccd",
   "metadata": {},
   "outputs": [
    {
     "name": "stdout",
     "output_type": "stream",
     "text": [
      "Regression score:  0.9067619218294205\n",
      "Regression intercept:  4184.183831117612\n",
      "coef:  [ 4.55153737e+02  3.97217125e-01  6.72029889e+02  1.47840038e+03\n",
      " -3.72341150e+01  1.21231578e+04 -2.26663297e+03  2.32756276e+04\n",
      " -4.65734232e+03 -1.32813237e+03 -4.77824375e+03  4.97558401e+03\n",
      "  1.20030957e+04  1.17141942e+03  3.98016322e+04 -1.46896775e+02\n",
      "  4.01528060e+02  4.09559974e+02  5.53677368e+02 -4.56673581e+02\n",
      " -1.25072104e+02  8.15771911e+02  7.45088605e+01  6.75452019e+01\n",
      " -8.18326127e+02 -1.26714885e+03]\n",
      "param:  {'copy_X': True, 'fit_intercept': True, 'n_jobs': None, 'normalize': True, 'positive': False}\n",
      "For Training Data \n",
      " --------------------------------\n",
      "MAE:  1908.7916722131256\n",
      "MSE:  10695847.185576342\n",
      "r2:  0.8934159923725754\n",
      "RMSE:  3270.450608949223\n",
      "For Test Data \n",
      " --------------------------------\n",
      "MAE:  1882.7377731597799\n",
      "MSE:  11684714.475910774\n",
      "r2:  0.9067619218294205\n",
      "RMSE:  3418.2911631268003\n"
     ]
    }
   ],
   "source": [
    "# Creating a LinearRegressor model with normalization True and finding error,accuracy\n",
    "test_size=0.4\n",
    "X_train,X_test,y_train,y_test=train_test_split(X1,y,test_size=test_size,random_state=42)\n",
    "reg=LinearRegression(normalize=True)\n",
    "reg.fit(X_train, y_train)\n",
    "print(\"Regression score: \",reg.score(X_test, y_test))\n",
    "print(\"Regression intercept: \",reg.intercept_)\n",
    "print(\"coef: \",reg.coef_)\n",
    "print(\"param: \",reg.get_params(deep=True))\n",
    "\n",
    "y_pred=reg.predict(X_test)\n",
    "train_pred = reg.predict(X_train)\n",
    "\n",
    "print(\"For Training Data \\n --------------------------------\")\n",
    "print(\"MAE: \",mean_absolute_error(y_train, train_pred))\n",
    "print(\"MSE: \",mean_squared_error(y_train, train_pred))\n",
    "print(\"r2: \",r2_score(y_train, train_pred))\n",
    "print(\"RMSE: \",np.sqrt(mean_squared_error(y_train, train_pred)))\n",
    "\n",
    "\n",
    "print(\"For Test Data \\n --------------------------------\")\n",
    "print(\"MAE: \",mean_absolute_error(y_test, y_pred))\n",
    "print(\"MSE: \",mean_squared_error(y_test, y_pred))\n",
    "print(\"r2: \",r2_score(y_test, y_pred))\n",
    "print(\"RMSE: \",np.sqrt(mean_squared_error(y_test,y_pred)))\n",
    "\n",
    "# Append all these in above empty list\n",
    "t_size.append(test_size)\n",
    "norm.append(True)\n",
    "reg_score.append(reg.score(X_test, y_test))\n",
    "reg_intercept.append(reg.intercept_)\n",
    "test_mae.append(mean_absolute_error(y_test, y_pred))\n",
    "test_mse.append(mean_squared_error(y_test, y_pred))\n",
    "test_r2.append(r2_score(y_test, y_pred))\n",
    "test_rmse.append(np.sqrt(mean_squared_error(y_test,y_pred)))\n",
    "\n",
    "\n",
    "train_mae.append(mean_absolute_error(y_train, train_pred))\n",
    "train_mse.append(mean_squared_error(y_train, train_pred))\n",
    "train_r2.append(r2_score(y_train, train_pred))\n",
    "train_rmse.append(np.sqrt(mean_squared_error(y_train, train_pred)))"
   ]
  },
  {
   "cell_type": "code",
   "execution_count": 78,
   "id": "998f1bfd",
   "metadata": {
    "scrolled": false
   },
   "outputs": [
    {
     "data": {
      "text/html": [
       "<div>\n",
       "<style scoped>\n",
       "    .dataframe tbody tr th:only-of-type {\n",
       "        vertical-align: middle;\n",
       "    }\n",
       "\n",
       "    .dataframe tbody tr th {\n",
       "        vertical-align: top;\n",
       "    }\n",
       "\n",
       "    .dataframe thead th {\n",
       "        text-align: right;\n",
       "    }\n",
       "</style>\n",
       "<table border=\"1\" class=\"dataframe\">\n",
       "  <thead>\n",
       "    <tr style=\"text-align: right;\">\n",
       "      <th></th>\n",
       "      <th>Actual</th>\n",
       "      <th>Predicted</th>\n",
       "    </tr>\n",
       "  </thead>\n",
       "  <tbody>\n",
       "    <tr>\n",
       "      <th>521</th>\n",
       "      <td>7350.0</td>\n",
       "      <td>8906.275447</td>\n",
       "    </tr>\n",
       "    <tr>\n",
       "      <th>737</th>\n",
       "      <td>11300.0</td>\n",
       "      <td>9406.805784</td>\n",
       "    </tr>\n",
       "    <tr>\n",
       "      <th>740</th>\n",
       "      <td>11500.0</td>\n",
       "      <td>8428.015093</td>\n",
       "    </tr>\n",
       "    <tr>\n",
       "      <th>660</th>\n",
       "      <td>9500.0</td>\n",
       "      <td>10170.896197</td>\n",
       "    </tr>\n",
       "    <tr>\n",
       "      <th>411</th>\n",
       "      <td>6000.0</td>\n",
       "      <td>7247.654257</td>\n",
       "    </tr>\n",
       "    <tr>\n",
       "      <th>...</th>\n",
       "      <td>...</td>\n",
       "      <td>...</td>\n",
       "    </tr>\n",
       "    <tr>\n",
       "      <th>56</th>\n",
       "      <td>2950.0</td>\n",
       "      <td>4177.241692</td>\n",
       "    </tr>\n",
       "    <tr>\n",
       "      <th>405</th>\n",
       "      <td>6000.0</td>\n",
       "      <td>7263.820558</td>\n",
       "    </tr>\n",
       "    <tr>\n",
       "      <th>442</th>\n",
       "      <td>6450.0</td>\n",
       "      <td>6649.803975</td>\n",
       "    </tr>\n",
       "    <tr>\n",
       "      <th>757</th>\n",
       "      <td>12000.0</td>\n",
       "      <td>10238.042615</td>\n",
       "    </tr>\n",
       "    <tr>\n",
       "      <th>997</th>\n",
       "      <td>80000.0</td>\n",
       "      <td>57049.858152</td>\n",
       "    </tr>\n",
       "  </tbody>\n",
       "</table>\n",
       "<p>400 rows × 2 columns</p>\n",
       "</div>"
      ],
      "text/plain": [
       "      Actual     Predicted\n",
       "521   7350.0   8906.275447\n",
       "737  11300.0   9406.805784\n",
       "740  11500.0   8428.015093\n",
       "660   9500.0  10170.896197\n",
       "411   6000.0   7247.654257\n",
       "..       ...           ...\n",
       "56    2950.0   4177.241692\n",
       "405   6000.0   7263.820558\n",
       "442   6450.0   6649.803975\n",
       "757  12000.0  10238.042615\n",
       "997  80000.0  57049.858152\n",
       "\n",
       "[400 rows x 2 columns]"
      ]
     },
     "execution_count": 78,
     "metadata": {},
     "output_type": "execute_result"
    }
   ],
   "source": [
    "df3=pd.DataFrame({'Actual': y_test, 'Predicted': y_pred})\n",
    "df3"
   ]
  },
  {
   "cell_type": "code",
   "execution_count": 79,
   "id": "05c8b988",
   "metadata": {
    "scrolled": false
   },
   "outputs": [
    {
     "name": "stdout",
     "output_type": "stream",
     "text": [
      "Regression score:  0.9067619218293752\n",
      "Regression intercept:  12171.51617670467\n",
      "coef:  [ 4.55153737e+02  3.97217125e-01  6.72029889e+02  1.47840038e+03\n",
      " -3.72341150e+01  4.09114126e+03 -1.02986495e+04  1.52436111e+04\n",
      " -1.26893588e+04 -9.36014890e+03 -1.28102603e+04 -3.05643252e+03\n",
      "  3.97107921e+03 -6.86059712e+03  3.17696156e+04 -1.02212588e+02\n",
      "  4.46212247e+02  4.54244161e+02  5.98361555e+02 -4.11989394e+02\n",
      " -8.03879173e+01  8.60456098e+02  1.19193048e+02  1.12229389e+02\n",
      " -7.73641940e+02 -1.22246466e+03]\n",
      "param:  {'copy_X': True, 'fit_intercept': True, 'n_jobs': None, 'normalize': False, 'positive': False}\n",
      "For Training Data \n",
      " --------------------------------\n",
      "MAE:  1908.7916722133275\n",
      "MSE:  10695847.185576342\n",
      "r2:  0.8934159923725754\n",
      "RMSE:  3270.450608949223\n",
      "For Test Data \n",
      " --------------------------------\n",
      "MAE:  1882.7377731603053\n",
      "MSE:  11684714.47591645\n",
      "r2:  0.9067619218293752\n",
      "RMSE:  3418.2911631276306\n"
     ]
    }
   ],
   "source": [
    "# Creating a LinearRegressor model with normalization False and finding error,accuracy\n",
    "test_size=0.4\n",
    "X_train,X_test,y_train,y_test=train_test_split(X1,y,test_size=test_size,random_state=42)\n",
    "reg=LinearRegression(normalize=False)\n",
    "reg.fit(X_train, y_train)\n",
    "print(\"Regression score: \",reg.score(X_test, y_test))\n",
    "print(\"Regression intercept: \",reg.intercept_)\n",
    "print(\"coef: \",reg.coef_)\n",
    "print(\"param: \",reg.get_params(deep=True))\n",
    "\n",
    "y_pred=reg.predict(X_test)\n",
    "train_pred = reg.predict(X_train)\n",
    "\n",
    "print(\"For Training Data \\n --------------------------------\")\n",
    "print(\"MAE: \",mean_absolute_error(y_train, train_pred))\n",
    "print(\"MSE: \",mean_squared_error(y_train, train_pred))\n",
    "print(\"r2: \",r2_score(y_train, train_pred))\n",
    "print(\"RMSE: \",np.sqrt(mean_squared_error(y_train, train_pred)))\n",
    "\n",
    "\n",
    "print(\"For Test Data \\n --------------------------------\")\n",
    "print(\"MAE: \",mean_absolute_error(y_test, y_pred))\n",
    "print(\"MSE: \",mean_squared_error(y_test, y_pred))\n",
    "print(\"r2: \",r2_score(y_test, y_pred))\n",
    "print(\"RMSE: \",np.sqrt(mean_squared_error(y_test,y_pred)))\n",
    "\n",
    "# Append all these in above empty list\n",
    "t_size.append(test_size)\n",
    "norm.append(False)\n",
    "reg_score.append(reg.score(X_test, y_test))\n",
    "reg_intercept.append(reg.intercept_)\n",
    "test_mae.append(mean_absolute_error(y_test, y_pred))\n",
    "test_mse.append(mean_squared_error(y_test, y_pred))\n",
    "test_r2.append(r2_score(y_test, y_pred))\n",
    "test_rmse.append(np.sqrt(mean_squared_error(y_test,y_pred)))\n",
    "\n",
    "\n",
    "train_mae.append(mean_absolute_error(y_train, train_pred))\n",
    "train_mse.append(mean_squared_error(y_train, train_pred))\n",
    "train_r2.append(r2_score(y_train, train_pred))\n",
    "train_rmse.append(np.sqrt(mean_squared_error(y_train, train_pred)))"
   ]
  },
  {
   "cell_type": "code",
   "execution_count": 80,
   "id": "d5d3dbd4",
   "metadata": {
    "scrolled": false
   },
   "outputs": [
    {
     "data": {
      "text/html": [
       "<div>\n",
       "<style scoped>\n",
       "    .dataframe tbody tr th:only-of-type {\n",
       "        vertical-align: middle;\n",
       "    }\n",
       "\n",
       "    .dataframe tbody tr th {\n",
       "        vertical-align: top;\n",
       "    }\n",
       "\n",
       "    .dataframe thead th {\n",
       "        text-align: right;\n",
       "    }\n",
       "</style>\n",
       "<table border=\"1\" class=\"dataframe\">\n",
       "  <thead>\n",
       "    <tr style=\"text-align: right;\">\n",
       "      <th></th>\n",
       "      <th>Actual</th>\n",
       "      <th>Predicted</th>\n",
       "    </tr>\n",
       "  </thead>\n",
       "  <tbody>\n",
       "    <tr>\n",
       "      <th>521</th>\n",
       "      <td>7350.0</td>\n",
       "      <td>8906.275447</td>\n",
       "    </tr>\n",
       "    <tr>\n",
       "      <th>737</th>\n",
       "      <td>11300.0</td>\n",
       "      <td>9406.805784</td>\n",
       "    </tr>\n",
       "    <tr>\n",
       "      <th>740</th>\n",
       "      <td>11500.0</td>\n",
       "      <td>8428.015093</td>\n",
       "    </tr>\n",
       "    <tr>\n",
       "      <th>660</th>\n",
       "      <td>9500.0</td>\n",
       "      <td>10170.896197</td>\n",
       "    </tr>\n",
       "    <tr>\n",
       "      <th>411</th>\n",
       "      <td>6000.0</td>\n",
       "      <td>7247.654257</td>\n",
       "    </tr>\n",
       "    <tr>\n",
       "      <th>...</th>\n",
       "      <td>...</td>\n",
       "      <td>...</td>\n",
       "    </tr>\n",
       "    <tr>\n",
       "      <th>56</th>\n",
       "      <td>2950.0</td>\n",
       "      <td>4177.241692</td>\n",
       "    </tr>\n",
       "    <tr>\n",
       "      <th>405</th>\n",
       "      <td>6000.0</td>\n",
       "      <td>7263.820558</td>\n",
       "    </tr>\n",
       "    <tr>\n",
       "      <th>442</th>\n",
       "      <td>6450.0</td>\n",
       "      <td>6649.803975</td>\n",
       "    </tr>\n",
       "    <tr>\n",
       "      <th>757</th>\n",
       "      <td>12000.0</td>\n",
       "      <td>10238.042615</td>\n",
       "    </tr>\n",
       "    <tr>\n",
       "      <th>997</th>\n",
       "      <td>80000.0</td>\n",
       "      <td>57049.858152</td>\n",
       "    </tr>\n",
       "  </tbody>\n",
       "</table>\n",
       "<p>400 rows × 2 columns</p>\n",
       "</div>"
      ],
      "text/plain": [
       "      Actual     Predicted\n",
       "521   7350.0   8906.275447\n",
       "737  11300.0   9406.805784\n",
       "740  11500.0   8428.015093\n",
       "660   9500.0  10170.896197\n",
       "411   6000.0   7247.654257\n",
       "..       ...           ...\n",
       "56    2950.0   4177.241692\n",
       "405   6000.0   7263.820558\n",
       "442   6450.0   6649.803975\n",
       "757  12000.0  10238.042615\n",
       "997  80000.0  57049.858152\n",
       "\n",
       "[400 rows x 2 columns]"
      ]
     },
     "execution_count": 80,
     "metadata": {},
     "output_type": "execute_result"
    }
   ],
   "source": [
    "df4=pd.DataFrame({'Actual': y_test, 'Predicted': y_pred})\n",
    "df4"
   ]
  },
  {
   "cell_type": "markdown",
   "id": "07323867",
   "metadata": {},
   "source": [
    "**70:30**"
   ]
  },
  {
   "cell_type": "code",
   "execution_count": 81,
   "id": "fab5b442",
   "metadata": {
    "scrolled": false
   },
   "outputs": [
    {
     "name": "stdout",
     "output_type": "stream",
     "text": [
      "Regression score:  0.9053864789975705\n",
      "Regression intercept:  4331.249518753861\n",
      "coef:  [ 4.72963391e+02  4.05996344e-01  5.68027161e+02  1.39136953e+03\n",
      "  2.94774251e+01  1.23057450e+04 -2.06001570e+03  2.30071937e+04\n",
      " -4.82654544e+03 -1.28153771e+03 -4.71334878e+03  5.15973522e+03\n",
      "  1.19890088e+04  1.29889329e+03  4.25736097e+04 -1.26929182e+02\n",
      "  4.83468354e+02  3.15227772e+02  4.64999550e+02 -5.06102065e+02\n",
      " -3.50480296e+01  6.05852985e+02 -3.79193314e+01  1.56398435e+02\n",
      " -5.66535576e+02 -1.56326437e+03]\n",
      "param:  {'copy_X': True, 'fit_intercept': True, 'n_jobs': None, 'normalize': True, 'positive': False}\n",
      "For Training Data \n",
      " --------------------------------\n",
      "MAE:  1843.4455506202232\n",
      "MSE:  10350183.181031534\n",
      "r2:  0.8980917233088208\n",
      "RMSE:  3217.1700578352297\n",
      "For Test Data \n",
      " --------------------------------\n",
      "MAE:  1949.310316917093\n",
      "MSE:  12356136.685757564\n",
      "r2:  0.9053864789975705\n",
      "RMSE:  3515.129682637266\n"
     ]
    }
   ],
   "source": [
    "# Creating a LinearRegressor model with normalization True and finding error,accuracy\n",
    "test_size=0.3\n",
    "X_train,X_test,y_train,y_test=train_test_split(X1,y,test_size=test_size,random_state=42)\n",
    "reg=LinearRegression(normalize=True)\n",
    "reg.fit(X_train, y_train)\n",
    "print(\"Regression score: \",reg.score(X_test, y_test))\n",
    "print(\"Regression intercept: \",reg.intercept_)\n",
    "print(\"coef: \",reg.coef_)\n",
    "print(\"param: \",reg.get_params(deep=True))\n",
    "\n",
    "y_pred=reg.predict(X_test)\n",
    "train_pred = reg.predict(X_train)\n",
    "\n",
    "print(\"For Training Data \\n --------------------------------\")\n",
    "print(\"MAE: \",mean_absolute_error(y_train, train_pred))\n",
    "print(\"MSE: \",mean_squared_error(y_train, train_pred))\n",
    "print(\"r2: \",r2_score(y_train, train_pred))\n",
    "print(\"RMSE: \",np.sqrt(mean_squared_error(y_train, train_pred)))\n",
    "\n",
    "\n",
    "print(\"For Test Data \\n --------------------------------\")\n",
    "print(\"MAE: \",mean_absolute_error(y_test, y_pred))\n",
    "print(\"MSE: \",mean_squared_error(y_test, y_pred))\n",
    "print(\"r2: \",r2_score(y_test, y_pred))\n",
    "print(\"RMSE: \",np.sqrt(mean_squared_error(y_test,y_pred)))\n",
    "\n",
    "# Append all these in above empty list\n",
    "t_size.append(test_size)\n",
    "norm.append(True)\n",
    "reg_score.append(reg.score(X_test, y_test))\n",
    "reg_intercept.append(reg.intercept_)\n",
    "test_mae.append(mean_absolute_error(y_test, y_pred))\n",
    "test_mse.append(mean_squared_error(y_test, y_pred))\n",
    "test_r2.append(r2_score(y_test, y_pred))\n",
    "test_rmse.append(np.sqrt(mean_squared_error(y_test,y_pred)))\n",
    "\n",
    "\n",
    "train_mae.append(mean_absolute_error(y_train, train_pred))\n",
    "train_mse.append(mean_squared_error(y_train, train_pred))\n",
    "train_r2.append(r2_score(y_train, train_pred))\n",
    "train_rmse.append(np.sqrt(mean_squared_error(y_train, train_pred)))"
   ]
  },
  {
   "cell_type": "code",
   "execution_count": 82,
   "id": "78f696b3",
   "metadata": {
    "scrolled": false
   },
   "outputs": [
    {
     "data": {
      "text/html": [
       "<div>\n",
       "<style scoped>\n",
       "    .dataframe tbody tr th:only-of-type {\n",
       "        vertical-align: middle;\n",
       "    }\n",
       "\n",
       "    .dataframe tbody tr th {\n",
       "        vertical-align: top;\n",
       "    }\n",
       "\n",
       "    .dataframe thead th {\n",
       "        text-align: right;\n",
       "    }\n",
       "</style>\n",
       "<table border=\"1\" class=\"dataframe\">\n",
       "  <thead>\n",
       "    <tr style=\"text-align: right;\">\n",
       "      <th></th>\n",
       "      <th>Actual</th>\n",
       "      <th>Predicted</th>\n",
       "    </tr>\n",
       "  </thead>\n",
       "  <tbody>\n",
       "    <tr>\n",
       "      <th>521</th>\n",
       "      <td>7350.0</td>\n",
       "      <td>8736.182870</td>\n",
       "    </tr>\n",
       "    <tr>\n",
       "      <th>737</th>\n",
       "      <td>11300.0</td>\n",
       "      <td>9387.438750</td>\n",
       "    </tr>\n",
       "    <tr>\n",
       "      <th>740</th>\n",
       "      <td>11500.0</td>\n",
       "      <td>8368.677029</td>\n",
       "    </tr>\n",
       "    <tr>\n",
       "      <th>660</th>\n",
       "      <td>9500.0</td>\n",
       "      <td>9917.648157</td>\n",
       "    </tr>\n",
       "    <tr>\n",
       "      <th>411</th>\n",
       "      <td>6000.0</td>\n",
       "      <td>7036.228653</td>\n",
       "    </tr>\n",
       "    <tr>\n",
       "      <th>...</th>\n",
       "      <td>...</td>\n",
       "      <td>...</td>\n",
       "    </tr>\n",
       "    <tr>\n",
       "      <th>468</th>\n",
       "      <td>6600.0</td>\n",
       "      <td>8899.429495</td>\n",
       "    </tr>\n",
       "    <tr>\n",
       "      <th>935</th>\n",
       "      <td>25200.0</td>\n",
       "      <td>24596.893824</td>\n",
       "    </tr>\n",
       "    <tr>\n",
       "      <th>428</th>\n",
       "      <td>6200.0</td>\n",
       "      <td>6513.918771</td>\n",
       "    </tr>\n",
       "    <tr>\n",
       "      <th>7</th>\n",
       "      <td>1645.0</td>\n",
       "      <td>1775.070315</td>\n",
       "    </tr>\n",
       "    <tr>\n",
       "      <th>155</th>\n",
       "      <td>4200.0</td>\n",
       "      <td>3356.676354</td>\n",
       "    </tr>\n",
       "  </tbody>\n",
       "</table>\n",
       "<p>300 rows × 2 columns</p>\n",
       "</div>"
      ],
      "text/plain": [
       "      Actual     Predicted\n",
       "521   7350.0   8736.182870\n",
       "737  11300.0   9387.438750\n",
       "740  11500.0   8368.677029\n",
       "660   9500.0   9917.648157\n",
       "411   6000.0   7036.228653\n",
       "..       ...           ...\n",
       "468   6600.0   8899.429495\n",
       "935  25200.0  24596.893824\n",
       "428   6200.0   6513.918771\n",
       "7     1645.0   1775.070315\n",
       "155   4200.0   3356.676354\n",
       "\n",
       "[300 rows x 2 columns]"
      ]
     },
     "execution_count": 82,
     "metadata": {},
     "output_type": "execute_result"
    }
   ],
   "source": [
    "df5=pd.DataFrame({'Actual': y_test, 'Predicted': y_pred})\n",
    "df5"
   ]
  },
  {
   "cell_type": "code",
   "execution_count": 83,
   "id": "3b059024",
   "metadata": {},
   "outputs": [
    {
     "name": "stdout",
     "output_type": "stream",
     "text": [
      "Regression score:  0.9053864789975634\n",
      "Regression intercept:  12602.900470338402\n",
      "coef:  [ 4.72963391e+02  4.05996344e-01  5.68027161e+02  1.39136953e+03\n",
      "  2.94774251e+01  3.96047116e+03 -1.04052895e+04  1.46619199e+04\n",
      " -1.31718193e+04 -9.62681152e+03 -1.30586226e+04 -3.18553859e+03\n",
      "  3.64373501e+03 -7.04638052e+03  3.42283359e+04 -5.33063223e+01\n",
      "  5.57091214e+02  3.88850632e+02  5.38622410e+02 -4.32479205e+02\n",
      "  3.85748300e+01  6.79475845e+02  3.57035283e+01  2.30021295e+02\n",
      " -4.92912716e+02 -1.48964151e+03]\n",
      "param:  {'copy_X': True, 'fit_intercept': True, 'n_jobs': None, 'normalize': False, 'positive': False}\n",
      "For Training Data \n",
      " --------------------------------\n",
      "MAE:  1843.4455506206523\n",
      "MSE:  10350183.181031534\n",
      "r2:  0.8980917233088208\n",
      "RMSE:  3217.1700578352297\n",
      "For Test Data \n",
      " --------------------------------\n",
      "MAE:  1949.3103169175056\n",
      "MSE:  12356136.685758488\n",
      "r2:  0.9053864789975634\n",
      "RMSE:  3515.1296826373973\n"
     ]
    }
   ],
   "source": [
    "# Creating a LinearRegressor model with normalization False and finding error,accuracy\n",
    "test_size=0.3\n",
    "X_train,X_test,y_train,y_test=train_test_split(X1,y,test_size=test_size,random_state=42)\n",
    "reg=LinearRegression(normalize=False)\n",
    "reg.fit(X_train, y_train)\n",
    "print(\"Regression score: \",reg.score(X_test, y_test))\n",
    "print(\"Regression intercept: \",reg.intercept_)\n",
    "print(\"coef: \",reg.coef_)\n",
    "print(\"param: \",reg.get_params(deep=True))\n",
    "\n",
    "y_pred=reg.predict(X_test)\n",
    "train_pred = reg.predict(X_train)\n",
    "\n",
    "print(\"For Training Data \\n --------------------------------\")\n",
    "print(\"MAE: \",mean_absolute_error(y_train, train_pred))\n",
    "print(\"MSE: \",mean_squared_error(y_train, train_pred))\n",
    "print(\"r2: \",r2_score(y_train, train_pred))\n",
    "print(\"RMSE: \",np.sqrt(mean_squared_error(y_train, train_pred)))\n",
    "\n",
    "\n",
    "print(\"For Test Data \\n --------------------------------\")\n",
    "print(\"MAE: \",mean_absolute_error(y_test, y_pred))\n",
    "print(\"MSE: \",mean_squared_error(y_test, y_pred))\n",
    "print(\"r2: \",r2_score(y_test, y_pred))\n",
    "print(\"RMSE: \",np.sqrt(mean_squared_error(y_test,y_pred)))\n",
    "\n",
    "# Append all these in above empty list\n",
    "t_size.append(test_size)\n",
    "norm.append(False)\n",
    "reg_score.append(reg.score(X_test, y_test))\n",
    "reg_intercept.append(reg.intercept_)\n",
    "test_mae.append(mean_absolute_error(y_test, y_pred))\n",
    "test_mse.append(mean_squared_error(y_test, y_pred))\n",
    "test_r2.append(r2_score(y_test, y_pred))\n",
    "test_rmse.append(np.sqrt(mean_squared_error(y_test,y_pred)))\n",
    "\n",
    "\n",
    "train_mae.append(mean_absolute_error(y_train, train_pred))\n",
    "train_mse.append(mean_squared_error(y_train, train_pred))\n",
    "train_r2.append(r2_score(y_train, train_pred))\n",
    "train_rmse.append(np.sqrt(mean_squared_error(y_train, train_pred)))"
   ]
  },
  {
   "cell_type": "code",
   "execution_count": 84,
   "id": "f32feb4b",
   "metadata": {},
   "outputs": [
    {
     "data": {
      "text/html": [
       "<div>\n",
       "<style scoped>\n",
       "    .dataframe tbody tr th:only-of-type {\n",
       "        vertical-align: middle;\n",
       "    }\n",
       "\n",
       "    .dataframe tbody tr th {\n",
       "        vertical-align: top;\n",
       "    }\n",
       "\n",
       "    .dataframe thead th {\n",
       "        text-align: right;\n",
       "    }\n",
       "</style>\n",
       "<table border=\"1\" class=\"dataframe\">\n",
       "  <thead>\n",
       "    <tr style=\"text-align: right;\">\n",
       "      <th></th>\n",
       "      <th>Actual</th>\n",
       "      <th>Predicted</th>\n",
       "    </tr>\n",
       "  </thead>\n",
       "  <tbody>\n",
       "    <tr>\n",
       "      <th>521</th>\n",
       "      <td>7350.0</td>\n",
       "      <td>8736.182870</td>\n",
       "    </tr>\n",
       "    <tr>\n",
       "      <th>737</th>\n",
       "      <td>11300.0</td>\n",
       "      <td>9387.438750</td>\n",
       "    </tr>\n",
       "    <tr>\n",
       "      <th>740</th>\n",
       "      <td>11500.0</td>\n",
       "      <td>8368.677029</td>\n",
       "    </tr>\n",
       "    <tr>\n",
       "      <th>660</th>\n",
       "      <td>9500.0</td>\n",
       "      <td>9917.648157</td>\n",
       "    </tr>\n",
       "    <tr>\n",
       "      <th>411</th>\n",
       "      <td>6000.0</td>\n",
       "      <td>7036.228653</td>\n",
       "    </tr>\n",
       "    <tr>\n",
       "      <th>...</th>\n",
       "      <td>...</td>\n",
       "      <td>...</td>\n",
       "    </tr>\n",
       "    <tr>\n",
       "      <th>468</th>\n",
       "      <td>6600.0</td>\n",
       "      <td>8899.429495</td>\n",
       "    </tr>\n",
       "    <tr>\n",
       "      <th>935</th>\n",
       "      <td>25200.0</td>\n",
       "      <td>24596.893824</td>\n",
       "    </tr>\n",
       "    <tr>\n",
       "      <th>428</th>\n",
       "      <td>6200.0</td>\n",
       "      <td>6513.918771</td>\n",
       "    </tr>\n",
       "    <tr>\n",
       "      <th>7</th>\n",
       "      <td>1645.0</td>\n",
       "      <td>1775.070315</td>\n",
       "    </tr>\n",
       "    <tr>\n",
       "      <th>155</th>\n",
       "      <td>4200.0</td>\n",
       "      <td>3356.676354</td>\n",
       "    </tr>\n",
       "  </tbody>\n",
       "</table>\n",
       "<p>300 rows × 2 columns</p>\n",
       "</div>"
      ],
      "text/plain": [
       "      Actual     Predicted\n",
       "521   7350.0   8736.182870\n",
       "737  11300.0   9387.438750\n",
       "740  11500.0   8368.677029\n",
       "660   9500.0   9917.648157\n",
       "411   6000.0   7036.228653\n",
       "..       ...           ...\n",
       "468   6600.0   8899.429495\n",
       "935  25200.0  24596.893824\n",
       "428   6200.0   6513.918771\n",
       "7     1645.0   1775.070315\n",
       "155   4200.0   3356.676354\n",
       "\n",
       "[300 rows x 2 columns]"
      ]
     },
     "execution_count": 84,
     "metadata": {},
     "output_type": "execute_result"
    }
   ],
   "source": [
    "df6=pd.DataFrame({'Actual': y_test, 'Predicted': y_pred})\n",
    "df6"
   ]
  },
  {
   "cell_type": "code",
   "execution_count": 85,
   "id": "a6958bed",
   "metadata": {
    "collapsed": true
   },
   "outputs": [
    {
     "name": "stdout",
     "output_type": "stream",
     "text": [
      "Regression score:  0.899336348543138\n",
      "Regression intercept:  12294.574035122434\n",
      "coef:  [ 3.50220945e+02  4.12571191e-01  7.24243511e+02  1.40882836e+03\n",
      "  4.74328156e+01  3.70064087e+03 -1.01987902e+04  1.38467924e+04\n",
      " -1.29921958e+04 -9.48802542e+03 -1.28594634e+04 -2.77366911e+03\n",
      "  3.85633803e+03 -6.72439580e+03  3.36327685e+04  2.05800135e+00\n",
      "  4.31988754e+02  3.30999555e+02  7.72645254e+02 -5.07109433e+02\n",
      "  1.15912156e+02  7.51370433e+02  6.03840184e+01  1.62823784e+02\n",
      " -4.87784717e+02 -1.63328781e+03]\n",
      "param:  {'copy_X': True, 'fit_intercept': True, 'n_jobs': None, 'normalize': False, 'positive': False}\n",
      "For Training Data \n",
      " --------------------------------\n",
      "MAE:  1831.3785739140474\n",
      "MSE:  10117913.586844638\n",
      "r2:  0.9026774057601936\n",
      "RMSE:  3180.8667980355035\n",
      "For Test Data \n",
      " --------------------------------\n",
      "MAE:  2003.9128763877188\n",
      "MSE:  13639889.491244523\n",
      "r2:  0.899336348543138\n",
      "RMSE:  3693.222101532011\n"
     ]
    }
   ],
   "source": [
    "# Creating a LinearRegressor model with normalization False and finding error,accuracy\n",
    "test_size=0.2\n",
    "X_train,X_test,y_train,y_test=train_test_split(X1,y,test_size=test_size,random_state=42)\n",
    "reg=LinearRegression(normalize=False)\n",
    "reg.fit(X_train, y_train)\n",
    "print(\"Regression score: \",reg.score(X_test, y_test))\n",
    "print(\"Regression intercept: \",reg.intercept_)\n",
    "print(\"coef: \",reg.coef_)\n",
    "print(\"param: \",reg.get_params(deep=True))\n",
    "\n",
    "y_pred=reg.predict(X_test)\n",
    "train_pred = reg.predict(X_train)\n",
    "\n",
    "print(\"For Training Data \\n --------------------------------\")\n",
    "print(\"MAE: \",mean_absolute_error(y_train, train_pred))\n",
    "print(\"MSE: \",mean_squared_error(y_train, train_pred))\n",
    "print(\"r2: \",r2_score(y_train, train_pred))\n",
    "print(\"RMSE: \",np.sqrt(mean_squared_error(y_train, train_pred)))\n",
    "\n",
    "\n",
    "print(\"For Test Data \\n --------------------------------\")\n",
    "print(\"MAE: \",mean_absolute_error(y_test, y_pred))\n",
    "print(\"MSE: \",mean_squared_error(y_test, y_pred))\n",
    "print(\"r2: \",r2_score(y_test, y_pred))\n",
    "print(\"RMSE: \",np.sqrt(mean_squared_error(y_test,y_pred)))\n",
    "\n",
    "\n",
    "# Append all these in above empty list\n",
    "t_size.append(test_size)\n",
    "norm.append(False)\n",
    "reg_score.append(reg.score(X_test, y_test))\n",
    "reg_intercept.append(reg.intercept_)\n",
    "test_mae.append(mean_absolute_error(y_test, y_pred))\n",
    "test_mse.append(mean_squared_error(y_test, y_pred))\n",
    "test_r2.append(r2_score(y_test, y_pred))\n",
    "test_rmse.append(np.sqrt(mean_squared_error(y_test,y_pred)))\n",
    "\n",
    "\n",
    "train_mae.append(mean_absolute_error(y_train, train_pred))\n",
    "train_mse.append(mean_squared_error(y_train, train_pred))\n",
    "train_r2.append(r2_score(y_train, train_pred))\n",
    "train_rmse.append(np.sqrt(mean_squared_error(y_train, train_pred)))"
   ]
  },
  {
   "cell_type": "code",
   "execution_count": 86,
   "id": "f3b811df",
   "metadata": {},
   "outputs": [
    {
     "data": {
      "text/html": [
       "<div>\n",
       "<style scoped>\n",
       "    .dataframe tbody tr th:only-of-type {\n",
       "        vertical-align: middle;\n",
       "    }\n",
       "\n",
       "    .dataframe tbody tr th {\n",
       "        vertical-align: top;\n",
       "    }\n",
       "\n",
       "    .dataframe thead th {\n",
       "        text-align: right;\n",
       "    }\n",
       "</style>\n",
       "<table border=\"1\" class=\"dataframe\">\n",
       "  <thead>\n",
       "    <tr style=\"text-align: right;\">\n",
       "      <th></th>\n",
       "      <th>Actual</th>\n",
       "      <th>Predicted</th>\n",
       "    </tr>\n",
       "  </thead>\n",
       "  <tbody>\n",
       "    <tr>\n",
       "      <th>521</th>\n",
       "      <td>7350.0</td>\n",
       "      <td>8636.337773</td>\n",
       "    </tr>\n",
       "    <tr>\n",
       "      <th>737</th>\n",
       "      <td>11300.0</td>\n",
       "      <td>9702.002714</td>\n",
       "    </tr>\n",
       "    <tr>\n",
       "      <th>740</th>\n",
       "      <td>11500.0</td>\n",
       "      <td>8405.311360</td>\n",
       "    </tr>\n",
       "    <tr>\n",
       "      <th>660</th>\n",
       "      <td>9500.0</td>\n",
       "      <td>9853.551861</td>\n",
       "    </tr>\n",
       "    <tr>\n",
       "      <th>411</th>\n",
       "      <td>6000.0</td>\n",
       "      <td>7050.344917</td>\n",
       "    </tr>\n",
       "    <tr>\n",
       "      <th>...</th>\n",
       "      <td>...</td>\n",
       "      <td>...</td>\n",
       "    </tr>\n",
       "    <tr>\n",
       "      <th>408</th>\n",
       "      <td>6000.0</td>\n",
       "      <td>9262.675257</td>\n",
       "    </tr>\n",
       "    <tr>\n",
       "      <th>332</th>\n",
       "      <td>5500.0</td>\n",
       "      <td>4973.076735</td>\n",
       "    </tr>\n",
       "    <tr>\n",
       "      <th>208</th>\n",
       "      <td>4580.0</td>\n",
       "      <td>3024.138099</td>\n",
       "    </tr>\n",
       "    <tr>\n",
       "      <th>613</th>\n",
       "      <td>8505.0</td>\n",
       "      <td>7539.511049</td>\n",
       "    </tr>\n",
       "    <tr>\n",
       "      <th>78</th>\n",
       "      <td>3332.0</td>\n",
       "      <td>1854.124259</td>\n",
       "    </tr>\n",
       "  </tbody>\n",
       "</table>\n",
       "<p>200 rows × 2 columns</p>\n",
       "</div>"
      ],
      "text/plain": [
       "      Actual    Predicted\n",
       "521   7350.0  8636.337773\n",
       "737  11300.0  9702.002714\n",
       "740  11500.0  8405.311360\n",
       "660   9500.0  9853.551861\n",
       "411   6000.0  7050.344917\n",
       "..       ...          ...\n",
       "408   6000.0  9262.675257\n",
       "332   5500.0  4973.076735\n",
       "208   4580.0  3024.138099\n",
       "613   8505.0  7539.511049\n",
       "78    3332.0  1854.124259\n",
       "\n",
       "[200 rows x 2 columns]"
      ]
     },
     "execution_count": 86,
     "metadata": {},
     "output_type": "execute_result"
    }
   ],
   "source": [
    "# Create a dataframe and compare between actual and predicted values\n",
    "df7=pd.DataFrame({'Actual': y_test, 'Predicted': y_pred})\n",
    "df7"
   ]
  },
  {
   "cell_type": "markdown",
   "id": "77e0c6ad",
   "metadata": {},
   "source": [
    "**80:20**"
   ]
  },
  {
   "cell_type": "code",
   "execution_count": 87,
   "id": "84191a06",
   "metadata": {
    "scrolled": false
   },
   "outputs": [
    {
     "name": "stdout",
     "output_type": "stream",
     "text": [
      "Regression score:  0.8993363485431709\n",
      "Regression intercept:  4240.4876480155135\n",
      "coef:  [ 3.50220945e+02  4.12571191e-01  7.24243511e+02  1.40882836e+03\n",
      "  4.74328156e+01  1.18301185e+04 -2.06931255e+03  2.19762700e+04\n",
      " -4.86271819e+03 -1.35854778e+03 -4.72998580e+03  5.35580853e+03\n",
      "  1.19858157e+04  1.40508184e+03  4.17622461e+04 -7.33332495e+01\n",
      "  3.56597503e+02  2.55608304e+02  6.97254003e+02 -5.82500684e+02\n",
      "  4.05209055e+01  6.75979182e+02 -1.50072324e+01  8.74325328e+01\n",
      " -5.63175968e+02 -1.70867906e+03]\n",
      "param:  {'copy_X': True, 'fit_intercept': True, 'n_jobs': None, 'normalize': True, 'positive': False}\n",
      "For Training Data \n",
      " --------------------------------\n",
      "MAE:  1831.3785739135387\n",
      "MSE:  10117913.586844638\n",
      "r2:  0.9026774057601936\n",
      "RMSE:  3180.8667980355035\n",
      "For Test Data \n",
      " --------------------------------\n",
      "MAE:  2003.9128763883575\n",
      "MSE:  13639889.491240066\n",
      "r2:  0.8993363485431709\n",
      "RMSE:  3693.2221015314076\n"
     ]
    }
   ],
   "source": [
    "# Creating a LinearRegressor model with normalization True and finding error,accuracy\n",
    "test_size=0.2\n",
    "X_train,X_test,y_train,y_test=train_test_split(X1,y,test_size=test_size,random_state=42)\n",
    "reg=LinearRegression(normalize=True)\n",
    "reg.fit(X_train, y_train)\n",
    "print(\"Regression score: \",reg.score(X_test, y_test))\n",
    "print(\"Regression intercept: \",reg.intercept_)\n",
    "print(\"coef: \",reg.coef_)\n",
    "print(\"param: \",reg.get_params(deep=True))\n",
    "\n",
    "y_pred=reg.predict(X_test)\n",
    "train_pred = reg.predict(X_train)\n",
    "\n",
    "print(\"For Training Data \\n --------------------------------\")\n",
    "print(\"MAE: \",mean_absolute_error(y_train, train_pred))\n",
    "print(\"MSE: \",mean_squared_error(y_train, train_pred))\n",
    "print(\"r2: \",r2_score(y_train, train_pred))\n",
    "print(\"RMSE: \",np.sqrt(mean_squared_error(y_train, train_pred)))\n",
    "\n",
    "\n",
    "print(\"For Test Data \\n --------------------------------\")\n",
    "print(\"MAE: \",mean_absolute_error(y_test, y_pred))\n",
    "print(\"MSE: \",mean_squared_error(y_test, y_pred))\n",
    "print(\"r2: \",r2_score(y_test, y_pred))\n",
    "print(\"RMSE: \",np.sqrt(mean_squared_error(y_test,y_pred)))\n",
    "\n",
    "# Append all these in above empty list\n",
    "t_size.append(test_size)\n",
    "norm.append(True)\n",
    "reg_score.append(reg.score(X_test, y_test))\n",
    "reg_intercept.append(reg.intercept_)\n",
    "test_mae.append(mean_absolute_error(y_test, y_pred))\n",
    "test_mse.append(mean_squared_error(y_test, y_pred))\n",
    "test_r2.append(r2_score(y_test, y_pred))\n",
    "test_rmse.append(np.sqrt(mean_squared_error(y_test,y_pred)))\n",
    "\n",
    "\n",
    "train_mae.append(mean_absolute_error(y_train, train_pred))\n",
    "train_mse.append(mean_squared_error(y_train, train_pred))\n",
    "train_r2.append(r2_score(y_train, train_pred))\n",
    "train_rmse.append(np.sqrt(mean_squared_error(y_train, train_pred)))"
   ]
  },
  {
   "cell_type": "code",
   "execution_count": 88,
   "id": "1431774c",
   "metadata": {},
   "outputs": [
    {
     "data": {
      "text/html": [
       "<div>\n",
       "<style scoped>\n",
       "    .dataframe tbody tr th:only-of-type {\n",
       "        vertical-align: middle;\n",
       "    }\n",
       "\n",
       "    .dataframe tbody tr th {\n",
       "        vertical-align: top;\n",
       "    }\n",
       "\n",
       "    .dataframe thead th {\n",
       "        text-align: right;\n",
       "    }\n",
       "</style>\n",
       "<table border=\"1\" class=\"dataframe\">\n",
       "  <thead>\n",
       "    <tr style=\"text-align: right;\">\n",
       "      <th></th>\n",
       "      <th>Actual</th>\n",
       "      <th>Predicted</th>\n",
       "    </tr>\n",
       "  </thead>\n",
       "  <tbody>\n",
       "    <tr>\n",
       "      <th>521</th>\n",
       "      <td>7350.0</td>\n",
       "      <td>8636.337773</td>\n",
       "    </tr>\n",
       "    <tr>\n",
       "      <th>737</th>\n",
       "      <td>11300.0</td>\n",
       "      <td>9702.002714</td>\n",
       "    </tr>\n",
       "    <tr>\n",
       "      <th>740</th>\n",
       "      <td>11500.0</td>\n",
       "      <td>8405.311360</td>\n",
       "    </tr>\n",
       "    <tr>\n",
       "      <th>660</th>\n",
       "      <td>9500.0</td>\n",
       "      <td>9853.551861</td>\n",
       "    </tr>\n",
       "    <tr>\n",
       "      <th>411</th>\n",
       "      <td>6000.0</td>\n",
       "      <td>7050.344917</td>\n",
       "    </tr>\n",
       "    <tr>\n",
       "      <th>...</th>\n",
       "      <td>...</td>\n",
       "      <td>...</td>\n",
       "    </tr>\n",
       "    <tr>\n",
       "      <th>408</th>\n",
       "      <td>6000.0</td>\n",
       "      <td>9262.675257</td>\n",
       "    </tr>\n",
       "    <tr>\n",
       "      <th>332</th>\n",
       "      <td>5500.0</td>\n",
       "      <td>4973.076735</td>\n",
       "    </tr>\n",
       "    <tr>\n",
       "      <th>208</th>\n",
       "      <td>4580.0</td>\n",
       "      <td>3024.138099</td>\n",
       "    </tr>\n",
       "    <tr>\n",
       "      <th>613</th>\n",
       "      <td>8505.0</td>\n",
       "      <td>7539.511049</td>\n",
       "    </tr>\n",
       "    <tr>\n",
       "      <th>78</th>\n",
       "      <td>3332.0</td>\n",
       "      <td>1854.124259</td>\n",
       "    </tr>\n",
       "  </tbody>\n",
       "</table>\n",
       "<p>200 rows × 2 columns</p>\n",
       "</div>"
      ],
      "text/plain": [
       "      Actual    Predicted\n",
       "521   7350.0  8636.337773\n",
       "737  11300.0  9702.002714\n",
       "740  11500.0  8405.311360\n",
       "660   9500.0  9853.551861\n",
       "411   6000.0  7050.344917\n",
       "..       ...          ...\n",
       "408   6000.0  9262.675257\n",
       "332   5500.0  4973.076735\n",
       "208   4580.0  3024.138099\n",
       "613   8505.0  7539.511049\n",
       "78    3332.0  1854.124259\n",
       "\n",
       "[200 rows x 2 columns]"
      ]
     },
     "execution_count": 88,
     "metadata": {},
     "output_type": "execute_result"
    }
   ],
   "source": [
    "# Create a dataframe and compare between actual and predicted values\n",
    "df8=pd.DataFrame({'Actual': y_test, 'Predicted': y_pred})\n",
    "df8"
   ]
  },
  {
   "cell_type": "code",
   "execution_count": 89,
   "id": "93fdfe77",
   "metadata": {},
   "outputs": [
    {
     "data": {
      "text/html": [
       "<div>\n",
       "<style scoped>\n",
       "    .dataframe tbody tr th:only-of-type {\n",
       "        vertical-align: middle;\n",
       "    }\n",
       "\n",
       "    .dataframe tbody tr th {\n",
       "        vertical-align: top;\n",
       "    }\n",
       "\n",
       "    .dataframe thead th {\n",
       "        text-align: right;\n",
       "    }\n",
       "</style>\n",
       "<table border=\"1\" class=\"dataframe\">\n",
       "  <thead>\n",
       "    <tr style=\"text-align: right;\">\n",
       "      <th></th>\n",
       "      <th>test_size</th>\n",
       "      <th>norm</th>\n",
       "      <th>reg_score</th>\n",
       "      <th>reg_intercept</th>\n",
       "      <th>train_mae</th>\n",
       "      <th>train_mse</th>\n",
       "      <th>train_r2</th>\n",
       "      <th>train_rmse</th>\n",
       "      <th>test_mae</th>\n",
       "      <th>test_mse</th>\n",
       "      <th>test_r2</th>\n",
       "      <th>test_rmse</th>\n",
       "    </tr>\n",
       "  </thead>\n",
       "  <tbody>\n",
       "    <tr>\n",
       "      <th>0</th>\n",
       "      <td>1.0</td>\n",
       "      <td>True</td>\n",
       "      <td>NaN</td>\n",
       "      <td>-2.177773e+16</td>\n",
       "      <td>1854.272773</td>\n",
       "      <td>1.061935e+07</td>\n",
       "      <td>0.903845</td>\n",
       "      <td>3258.734792</td>\n",
       "      <td>1314.000000</td>\n",
       "      <td>1.726596e+06</td>\n",
       "      <td>NaN</td>\n",
       "      <td>1314.000000</td>\n",
       "    </tr>\n",
       "    <tr>\n",
       "      <th>1</th>\n",
       "      <td>0.5</td>\n",
       "      <td>False</td>\n",
       "      <td>0.903682</td>\n",
       "      <td>1.194989e+04</td>\n",
       "      <td>1981.993400</td>\n",
       "      <td>1.172730e+07</td>\n",
       "      <td>0.890368</td>\n",
       "      <td>3424.514982</td>\n",
       "      <td>1908.459123</td>\n",
       "      <td>1.094000e+07</td>\n",
       "      <td>0.903682</td>\n",
       "      <td>3307.566356</td>\n",
       "    </tr>\n",
       "    <tr>\n",
       "      <th>2</th>\n",
       "      <td>0.4</td>\n",
       "      <td>True</td>\n",
       "      <td>0.906762</td>\n",
       "      <td>4.184184e+03</td>\n",
       "      <td>1908.791672</td>\n",
       "      <td>1.069585e+07</td>\n",
       "      <td>0.893416</td>\n",
       "      <td>3270.450609</td>\n",
       "      <td>1882.737773</td>\n",
       "      <td>1.168471e+07</td>\n",
       "      <td>0.906762</td>\n",
       "      <td>3418.291163</td>\n",
       "    </tr>\n",
       "    <tr>\n",
       "      <th>3</th>\n",
       "      <td>0.4</td>\n",
       "      <td>False</td>\n",
       "      <td>0.906762</td>\n",
       "      <td>1.217152e+04</td>\n",
       "      <td>1908.791672</td>\n",
       "      <td>1.069585e+07</td>\n",
       "      <td>0.893416</td>\n",
       "      <td>3270.450609</td>\n",
       "      <td>1882.737773</td>\n",
       "      <td>1.168471e+07</td>\n",
       "      <td>0.906762</td>\n",
       "      <td>3418.291163</td>\n",
       "    </tr>\n",
       "    <tr>\n",
       "      <th>4</th>\n",
       "      <td>0.3</td>\n",
       "      <td>True</td>\n",
       "      <td>0.905386</td>\n",
       "      <td>4.331250e+03</td>\n",
       "      <td>1843.445551</td>\n",
       "      <td>1.035018e+07</td>\n",
       "      <td>0.898092</td>\n",
       "      <td>3217.170058</td>\n",
       "      <td>1949.310317</td>\n",
       "      <td>1.235614e+07</td>\n",
       "      <td>0.905386</td>\n",
       "      <td>3515.129683</td>\n",
       "    </tr>\n",
       "    <tr>\n",
       "      <th>5</th>\n",
       "      <td>0.3</td>\n",
       "      <td>False</td>\n",
       "      <td>0.905386</td>\n",
       "      <td>1.260290e+04</td>\n",
       "      <td>1843.445551</td>\n",
       "      <td>1.035018e+07</td>\n",
       "      <td>0.898092</td>\n",
       "      <td>3217.170058</td>\n",
       "      <td>1949.310317</td>\n",
       "      <td>1.235614e+07</td>\n",
       "      <td>0.905386</td>\n",
       "      <td>3515.129683</td>\n",
       "    </tr>\n",
       "    <tr>\n",
       "      <th>6</th>\n",
       "      <td>0.2</td>\n",
       "      <td>False</td>\n",
       "      <td>0.899336</td>\n",
       "      <td>1.229457e+04</td>\n",
       "      <td>1831.378574</td>\n",
       "      <td>1.011791e+07</td>\n",
       "      <td>0.902677</td>\n",
       "      <td>3180.866798</td>\n",
       "      <td>2003.912876</td>\n",
       "      <td>1.363989e+07</td>\n",
       "      <td>0.899336</td>\n",
       "      <td>3693.222102</td>\n",
       "    </tr>\n",
       "    <tr>\n",
       "      <th>7</th>\n",
       "      <td>0.2</td>\n",
       "      <td>True</td>\n",
       "      <td>0.899336</td>\n",
       "      <td>4.240488e+03</td>\n",
       "      <td>1831.378574</td>\n",
       "      <td>1.011791e+07</td>\n",
       "      <td>0.902677</td>\n",
       "      <td>3180.866798</td>\n",
       "      <td>2003.912876</td>\n",
       "      <td>1.363989e+07</td>\n",
       "      <td>0.899336</td>\n",
       "      <td>3693.222102</td>\n",
       "    </tr>\n",
       "  </tbody>\n",
       "</table>\n",
       "</div>"
      ],
      "text/plain": [
       "   test_size   norm  reg_score  reg_intercept    train_mae     train_mse  \\\n",
       "0        1.0   True        NaN  -2.177773e+16  1854.272773  1.061935e+07   \n",
       "1        0.5  False   0.903682   1.194989e+04  1981.993400  1.172730e+07   \n",
       "2        0.4   True   0.906762   4.184184e+03  1908.791672  1.069585e+07   \n",
       "3        0.4  False   0.906762   1.217152e+04  1908.791672  1.069585e+07   \n",
       "4        0.3   True   0.905386   4.331250e+03  1843.445551  1.035018e+07   \n",
       "5        0.3  False   0.905386   1.260290e+04  1843.445551  1.035018e+07   \n",
       "6        0.2  False   0.899336   1.229457e+04  1831.378574  1.011791e+07   \n",
       "7        0.2   True   0.899336   4.240488e+03  1831.378574  1.011791e+07   \n",
       "\n",
       "   train_r2   train_rmse     test_mae      test_mse   test_r2    test_rmse  \n",
       "0  0.903845  3258.734792  1314.000000  1.726596e+06       NaN  1314.000000  \n",
       "1  0.890368  3424.514982  1908.459123  1.094000e+07  0.903682  3307.566356  \n",
       "2  0.893416  3270.450609  1882.737773  1.168471e+07  0.906762  3418.291163  \n",
       "3  0.893416  3270.450609  1882.737773  1.168471e+07  0.906762  3418.291163  \n",
       "4  0.898092  3217.170058  1949.310317  1.235614e+07  0.905386  3515.129683  \n",
       "5  0.898092  3217.170058  1949.310317  1.235614e+07  0.905386  3515.129683  \n",
       "6  0.902677  3180.866798  2003.912876  1.363989e+07  0.899336  3693.222102  \n",
       "7  0.902677  3180.866798  2003.912876  1.363989e+07  0.899336  3693.222102  "
      ]
     },
     "execution_count": 89,
     "metadata": {},
     "output_type": "execute_result"
    }
   ],
   "source": [
    "# Createing a dataframe with all error and accuracy values of all split case\n",
    "df9=pd.DataFrame({'test_size':t_size, 'norm':norm, 'reg_score':reg_score, 'reg_intercept':reg_intercept, 'train_mae':train_mae, 'train_mse':train_mse, 'train_r2':train_r2, 'train_rmse':train_rmse, 'test_mae':test_mae, 'test_mse':test_mse, 'test_r2':test_r2, 'test_rmse':test_rmse})\n",
    "df9"
   ]
  },
  {
   "cell_type": "code",
   "execution_count": 90,
   "id": "8362ac70",
   "metadata": {},
   "outputs": [
    {
     "data": {
      "text/html": [
       "<div>\n",
       "<style scoped>\n",
       "    .dataframe tbody tr th:only-of-type {\n",
       "        vertical-align: middle;\n",
       "    }\n",
       "\n",
       "    .dataframe tbody tr th {\n",
       "        vertical-align: top;\n",
       "    }\n",
       "\n",
       "    .dataframe thead th {\n",
       "        text-align: right;\n",
       "    }\n",
       "</style>\n",
       "<table border=\"1\" class=\"dataframe\">\n",
       "  <thead>\n",
       "    <tr style=\"text-align: right;\">\n",
       "      <th></th>\n",
       "      <th>test_size</th>\n",
       "      <th>norm</th>\n",
       "      <th>reg_score</th>\n",
       "      <th>reg_intercept</th>\n",
       "      <th>train_mae</th>\n",
       "      <th>train_mse</th>\n",
       "      <th>train_r2</th>\n",
       "      <th>train_rmse</th>\n",
       "      <th>test_mae</th>\n",
       "      <th>test_mse</th>\n",
       "      <th>test_r2</th>\n",
       "      <th>test_rmse</th>\n",
       "    </tr>\n",
       "  </thead>\n",
       "  <tbody>\n",
       "    <tr>\n",
       "      <th>0</th>\n",
       "      <td>1.0</td>\n",
       "      <td>True</td>\n",
       "      <td>NaN</td>\n",
       "      <td>-2.177773e+16</td>\n",
       "      <td>1854.272773</td>\n",
       "      <td>1.061935e+07</td>\n",
       "      <td>0.903845</td>\n",
       "      <td>3258.734792</td>\n",
       "      <td>1314.000000</td>\n",
       "      <td>1.726596e+06</td>\n",
       "      <td>NaN</td>\n",
       "      <td>1314.000000</td>\n",
       "    </tr>\n",
       "    <tr>\n",
       "      <th>1</th>\n",
       "      <td>0.5</td>\n",
       "      <td>False</td>\n",
       "      <td>0.903682</td>\n",
       "      <td>1.194989e+04</td>\n",
       "      <td>1981.993400</td>\n",
       "      <td>1.172730e+07</td>\n",
       "      <td>0.890368</td>\n",
       "      <td>3424.514982</td>\n",
       "      <td>1908.459123</td>\n",
       "      <td>1.094000e+07</td>\n",
       "      <td>0.903682</td>\n",
       "      <td>3307.566356</td>\n",
       "    </tr>\n",
       "    <tr>\n",
       "      <th>2</th>\n",
       "      <td>0.4</td>\n",
       "      <td>True</td>\n",
       "      <td>0.906762</td>\n",
       "      <td>4.184184e+03</td>\n",
       "      <td>1908.791672</td>\n",
       "      <td>1.069585e+07</td>\n",
       "      <td>0.893416</td>\n",
       "      <td>3270.450609</td>\n",
       "      <td>1882.737773</td>\n",
       "      <td>1.168471e+07</td>\n",
       "      <td>0.906762</td>\n",
       "      <td>3418.291163</td>\n",
       "    </tr>\n",
       "    <tr>\n",
       "      <th>3</th>\n",
       "      <td>0.4</td>\n",
       "      <td>False</td>\n",
       "      <td>0.906762</td>\n",
       "      <td>1.217152e+04</td>\n",
       "      <td>1908.791672</td>\n",
       "      <td>1.069585e+07</td>\n",
       "      <td>0.893416</td>\n",
       "      <td>3270.450609</td>\n",
       "      <td>1882.737773</td>\n",
       "      <td>1.168471e+07</td>\n",
       "      <td>0.906762</td>\n",
       "      <td>3418.291163</td>\n",
       "    </tr>\n",
       "    <tr>\n",
       "      <th>4</th>\n",
       "      <td>0.3</td>\n",
       "      <td>True</td>\n",
       "      <td>0.905386</td>\n",
       "      <td>4.331250e+03</td>\n",
       "      <td>1843.445551</td>\n",
       "      <td>1.035018e+07</td>\n",
       "      <td>0.898092</td>\n",
       "      <td>3217.170058</td>\n",
       "      <td>1949.310317</td>\n",
       "      <td>1.235614e+07</td>\n",
       "      <td>0.905386</td>\n",
       "      <td>3515.129683</td>\n",
       "    </tr>\n",
       "    <tr>\n",
       "      <th>5</th>\n",
       "      <td>0.3</td>\n",
       "      <td>False</td>\n",
       "      <td>0.905386</td>\n",
       "      <td>1.260290e+04</td>\n",
       "      <td>1843.445551</td>\n",
       "      <td>1.035018e+07</td>\n",
       "      <td>0.898092</td>\n",
       "      <td>3217.170058</td>\n",
       "      <td>1949.310317</td>\n",
       "      <td>1.235614e+07</td>\n",
       "      <td>0.905386</td>\n",
       "      <td>3515.129683</td>\n",
       "    </tr>\n",
       "    <tr>\n",
       "      <th>6</th>\n",
       "      <td>0.2</td>\n",
       "      <td>False</td>\n",
       "      <td>0.899336</td>\n",
       "      <td>1.229457e+04</td>\n",
       "      <td>1831.378574</td>\n",
       "      <td>1.011791e+07</td>\n",
       "      <td>0.902677</td>\n",
       "      <td>3180.866798</td>\n",
       "      <td>2003.912876</td>\n",
       "      <td>1.363989e+07</td>\n",
       "      <td>0.899336</td>\n",
       "      <td>3693.222102</td>\n",
       "    </tr>\n",
       "    <tr>\n",
       "      <th>7</th>\n",
       "      <td>0.2</td>\n",
       "      <td>True</td>\n",
       "      <td>0.899336</td>\n",
       "      <td>4.240488e+03</td>\n",
       "      <td>1831.378574</td>\n",
       "      <td>1.011791e+07</td>\n",
       "      <td>0.902677</td>\n",
       "      <td>3180.866798</td>\n",
       "      <td>2003.912876</td>\n",
       "      <td>1.363989e+07</td>\n",
       "      <td>0.899336</td>\n",
       "      <td>3693.222102</td>\n",
       "    </tr>\n",
       "  </tbody>\n",
       "</table>\n",
       "</div>"
      ],
      "text/plain": [
       "   test_size   norm  reg_score  reg_intercept    train_mae     train_mse  \\\n",
       "0        1.0   True        NaN  -2.177773e+16  1854.272773  1.061935e+07   \n",
       "1        0.5  False   0.903682   1.194989e+04  1981.993400  1.172730e+07   \n",
       "2        0.4   True   0.906762   4.184184e+03  1908.791672  1.069585e+07   \n",
       "3        0.4  False   0.906762   1.217152e+04  1908.791672  1.069585e+07   \n",
       "4        0.3   True   0.905386   4.331250e+03  1843.445551  1.035018e+07   \n",
       "5        0.3  False   0.905386   1.260290e+04  1843.445551  1.035018e+07   \n",
       "6        0.2  False   0.899336   1.229457e+04  1831.378574  1.011791e+07   \n",
       "7        0.2   True   0.899336   4.240488e+03  1831.378574  1.011791e+07   \n",
       "\n",
       "   train_r2   train_rmse     test_mae      test_mse   test_r2    test_rmse  \n",
       "0  0.903845  3258.734792  1314.000000  1.726596e+06       NaN  1314.000000  \n",
       "1  0.890368  3424.514982  1908.459123  1.094000e+07  0.903682  3307.566356  \n",
       "2  0.893416  3270.450609  1882.737773  1.168471e+07  0.906762  3418.291163  \n",
       "3  0.893416  3270.450609  1882.737773  1.168471e+07  0.906762  3418.291163  \n",
       "4  0.898092  3217.170058  1949.310317  1.235614e+07  0.905386  3515.129683  \n",
       "5  0.898092  3217.170058  1949.310317  1.235614e+07  0.905386  3515.129683  \n",
       "6  0.902677  3180.866798  2003.912876  1.363989e+07  0.899336  3693.222102  \n",
       "7  0.902677  3180.866798  2003.912876  1.363989e+07  0.899336  3693.222102  "
      ]
     },
     "execution_count": 90,
     "metadata": {},
     "output_type": "execute_result"
    }
   ],
   "source": [
    "df9"
   ]
  },
  {
   "cell_type": "code",
   "execution_count": 91,
   "id": "1e199e39",
   "metadata": {},
   "outputs": [
    {
     "data": {
      "text/html": [
       "<div>\n",
       "<style scoped>\n",
       "    .dataframe tbody tr th:only-of-type {\n",
       "        vertical-align: middle;\n",
       "    }\n",
       "\n",
       "    .dataframe tbody tr th {\n",
       "        vertical-align: top;\n",
       "    }\n",
       "\n",
       "    .dataframe thead th {\n",
       "        text-align: right;\n",
       "    }\n",
       "</style>\n",
       "<table border=\"1\" class=\"dataframe\">\n",
       "  <thead>\n",
       "    <tr style=\"text-align: right;\">\n",
       "      <th></th>\n",
       "      <th>test_size</th>\n",
       "      <th>norm</th>\n",
       "      <th>reg_score</th>\n",
       "      <th>reg_intercept</th>\n",
       "      <th>train_mae</th>\n",
       "      <th>train_mse</th>\n",
       "      <th>train_r2</th>\n",
       "      <th>train_rmse</th>\n",
       "      <th>test_mae</th>\n",
       "      <th>test_mse</th>\n",
       "      <th>test_r2</th>\n",
       "      <th>test_rmse</th>\n",
       "    </tr>\n",
       "  </thead>\n",
       "  <tbody>\n",
       "    <tr>\n",
       "      <th>0</th>\n",
       "      <td>1.0</td>\n",
       "      <td>True</td>\n",
       "      <td>NaN</td>\n",
       "      <td>-2.177773e+16</td>\n",
       "      <td>1854.272773</td>\n",
       "      <td>1.061935e+07</td>\n",
       "      <td>0.903845</td>\n",
       "      <td>3258.734792</td>\n",
       "      <td>1314.000000</td>\n",
       "      <td>1.726596e+06</td>\n",
       "      <td>NaN</td>\n",
       "      <td>1314.000000</td>\n",
       "    </tr>\n",
       "    <tr>\n",
       "      <th>1</th>\n",
       "      <td>0.5</td>\n",
       "      <td>False</td>\n",
       "      <td>0.903682</td>\n",
       "      <td>1.194989e+04</td>\n",
       "      <td>1981.993400</td>\n",
       "      <td>1.172730e+07</td>\n",
       "      <td>0.890368</td>\n",
       "      <td>3424.514982</td>\n",
       "      <td>1908.459123</td>\n",
       "      <td>1.094000e+07</td>\n",
       "      <td>0.903682</td>\n",
       "      <td>3307.566356</td>\n",
       "    </tr>\n",
       "    <tr>\n",
       "      <th>2</th>\n",
       "      <td>0.4</td>\n",
       "      <td>True</td>\n",
       "      <td>0.906762</td>\n",
       "      <td>4.184184e+03</td>\n",
       "      <td>1908.791672</td>\n",
       "      <td>1.069585e+07</td>\n",
       "      <td>0.893416</td>\n",
       "      <td>3270.450609</td>\n",
       "      <td>1882.737773</td>\n",
       "      <td>1.168471e+07</td>\n",
       "      <td>0.906762</td>\n",
       "      <td>3418.291163</td>\n",
       "    </tr>\n",
       "    <tr>\n",
       "      <th>3</th>\n",
       "      <td>0.4</td>\n",
       "      <td>False</td>\n",
       "      <td>0.906762</td>\n",
       "      <td>1.217152e+04</td>\n",
       "      <td>1908.791672</td>\n",
       "      <td>1.069585e+07</td>\n",
       "      <td>0.893416</td>\n",
       "      <td>3270.450609</td>\n",
       "      <td>1882.737773</td>\n",
       "      <td>1.168471e+07</td>\n",
       "      <td>0.906762</td>\n",
       "      <td>3418.291163</td>\n",
       "    </tr>\n",
       "    <tr>\n",
       "      <th>4</th>\n",
       "      <td>0.3</td>\n",
       "      <td>True</td>\n",
       "      <td>0.905386</td>\n",
       "      <td>4.331250e+03</td>\n",
       "      <td>1843.445551</td>\n",
       "      <td>1.035018e+07</td>\n",
       "      <td>0.898092</td>\n",
       "      <td>3217.170058</td>\n",
       "      <td>1949.310317</td>\n",
       "      <td>1.235614e+07</td>\n",
       "      <td>0.905386</td>\n",
       "      <td>3515.129683</td>\n",
       "    </tr>\n",
       "    <tr>\n",
       "      <th>5</th>\n",
       "      <td>0.3</td>\n",
       "      <td>False</td>\n",
       "      <td>0.905386</td>\n",
       "      <td>1.260290e+04</td>\n",
       "      <td>1843.445551</td>\n",
       "      <td>1.035018e+07</td>\n",
       "      <td>0.898092</td>\n",
       "      <td>3217.170058</td>\n",
       "      <td>1949.310317</td>\n",
       "      <td>1.235614e+07</td>\n",
       "      <td>0.905386</td>\n",
       "      <td>3515.129683</td>\n",
       "    </tr>\n",
       "    <tr>\n",
       "      <th>6</th>\n",
       "      <td>0.2</td>\n",
       "      <td>False</td>\n",
       "      <td>0.899336</td>\n",
       "      <td>1.229457e+04</td>\n",
       "      <td>1831.378574</td>\n",
       "      <td>1.011791e+07</td>\n",
       "      <td>0.902677</td>\n",
       "      <td>3180.866798</td>\n",
       "      <td>2003.912876</td>\n",
       "      <td>1.363989e+07</td>\n",
       "      <td>0.899336</td>\n",
       "      <td>3693.222102</td>\n",
       "    </tr>\n",
       "    <tr>\n",
       "      <th>7</th>\n",
       "      <td>0.2</td>\n",
       "      <td>True</td>\n",
       "      <td>0.899336</td>\n",
       "      <td>4.240488e+03</td>\n",
       "      <td>1831.378574</td>\n",
       "      <td>1.011791e+07</td>\n",
       "      <td>0.902677</td>\n",
       "      <td>3180.866798</td>\n",
       "      <td>2003.912876</td>\n",
       "      <td>1.363989e+07</td>\n",
       "      <td>0.899336</td>\n",
       "      <td>3693.222102</td>\n",
       "    </tr>\n",
       "  </tbody>\n",
       "</table>\n",
       "</div>"
      ],
      "text/plain": [
       "   test_size   norm  reg_score  reg_intercept    train_mae     train_mse  \\\n",
       "0        1.0   True        NaN  -2.177773e+16  1854.272773  1.061935e+07   \n",
       "1        0.5  False   0.903682   1.194989e+04  1981.993400  1.172730e+07   \n",
       "2        0.4   True   0.906762   4.184184e+03  1908.791672  1.069585e+07   \n",
       "3        0.4  False   0.906762   1.217152e+04  1908.791672  1.069585e+07   \n",
       "4        0.3   True   0.905386   4.331250e+03  1843.445551  1.035018e+07   \n",
       "5        0.3  False   0.905386   1.260290e+04  1843.445551  1.035018e+07   \n",
       "6        0.2  False   0.899336   1.229457e+04  1831.378574  1.011791e+07   \n",
       "7        0.2   True   0.899336   4.240488e+03  1831.378574  1.011791e+07   \n",
       "\n",
       "   train_r2   train_rmse     test_mae      test_mse   test_r2    test_rmse  \n",
       "0  0.903845  3258.734792  1314.000000  1.726596e+06       NaN  1314.000000  \n",
       "1  0.890368  3424.514982  1908.459123  1.094000e+07  0.903682  3307.566356  \n",
       "2  0.893416  3270.450609  1882.737773  1.168471e+07  0.906762  3418.291163  \n",
       "3  0.893416  3270.450609  1882.737773  1.168471e+07  0.906762  3418.291163  \n",
       "4  0.898092  3217.170058  1949.310317  1.235614e+07  0.905386  3515.129683  \n",
       "5  0.898092  3217.170058  1949.310317  1.235614e+07  0.905386  3515.129683  \n",
       "6  0.902677  3180.866798  2003.912876  1.363989e+07  0.899336  3693.222102  \n",
       "7  0.902677  3180.866798  2003.912876  1.363989e+07  0.899336  3693.222102  "
      ]
     },
     "execution_count": 91,
     "metadata": {},
     "output_type": "execute_result"
    }
   ],
   "source": [
    "df9"
   ]
  },
  {
   "cell_type": "markdown",
   "id": "e76f17bf",
   "metadata": {},
   "source": [
    "**Questions**\n",
    "1. What are your observations on the Dataset?\n",
    "2. What are the different Error Measures (Evaluation Metrics) in relation to Linear Regression? How much do you get in the above cases?\n",
    "3. Note down the errors/losses when the train-test ratio is 50:50, 60:40, 70:30, and 80:20\n",
    "4. During LinearRegression() process, what is the impact of giving TRUE/FALSE as the value for Normalize Parameter?"
   ]
  },
  {
   "cell_type": "markdown",
   "id": "835673e9",
   "metadata": {},
   "source": [
    "**1. Observation on the dataset**\n",
    "- The dataset shows the \n",
    "  1. Building Type - Is it a fully/semi/Un furnished Single Room, Flat, or Villa ?\n",
    "  1. Location - Where is the property located?\n",
    "  1. Size - Is it 1BHK, 2BHK, 3BHK ?\n",
    "  1. AreaSqFt - How much big is the property ? \n",
    "  1. No of Bath - How many bathrooms in the property?\n",
    "  1. No of Balcony - How many balconies in the property?\n",
    "  1. No of People - How many people stayed in the building in the academic year 2020-21.\n",
    "  1. RentPerMonth - Rent to be paid per month which is demanded by the current building owners."
   ]
  },
  {
   "cell_type": "markdown",
   "id": "2f0f1af1",
   "metadata": {},
   "source": [
    "**2. What are the different Error Measures (Evaluation Metrics) in relation to Linear Regression? How much do you get in the above cases?**\n",
    " - Different Error Measures (Evaluation Metrics) in relation to Linear Regression are MAE, MSE, r2, RMSE"
   ]
  },
  {
   "cell_type": "markdown",
   "id": "7bca7250",
   "metadata": {},
   "source": [
    "### Predicting rent for the given requirements\n",
    " - Cases\n",
    "   - Try to predict the rent of the below houses -\n",
    "   - 1. 1 BHK with 2 Baths in Portofino Street\n",
    "   - 2. Fully Furnished 2 BHK in School Street\n",
    "   - 3. Single Room anywhere in Lavasa"
   ]
  },
  {
   "cell_type": "markdown",
   "id": "01f93b24",
   "metadata": {},
   "source": [
    " - From all the above spliting train-test ration we can see that our 80:20 split ratio with normalization True is good model with accuracy 90%. So we can predict these cases from that model."
   ]
  },
  {
   "cell_type": "code",
   "execution_count": 93,
   "id": "52ffe659",
   "metadata": {
    "scrolled": false
   },
   "outputs": [
    {
     "name": "stdout",
     "output_type": "stream",
     "text": [
      "Size : \n",
      "1\n",
      "AreaSqFt : \n",
      "650\n",
      "NoOfBath : \n",
      "2\n",
      "NoOfPeople : \n",
      "1\n",
      "NoOfBalcony : \n",
      "1\n",
      "BuildingType_Fully Furnished Flat : \n",
      "1\n",
      "BuildingType_Fully Furnished Single Room : \n",
      "1\n",
      "BuildingType_Fully Furnished Villa : \n",
      "1\n",
      "BuildingType_Minimum Budget Rooms : \n",
      "1\n",
      "BuildingType_Semi Furnished Flat : \n",
      "1\n",
      "BuildingType_Semi Furnished Single Room : \n",
      "1\n",
      "BuildingType_Semi Furnished Villa : \n",
      "1\n",
      "BuildingType_Super Furnished Flat : \n",
      "1\n",
      "BuildingType_Super Furnished Single Room : \n",
      "1\n",
      "BuildingType_Super Furnished Villa : \n",
      "1\n",
      "Location_Clubview Road : \n",
      "1\n",
      "Location_Portofino A : \n",
      "0\n",
      "Location_Portofino B : \n",
      "0\n",
      "Location_Portofino C : \n",
      "1\n",
      "Location_Portofino D : \n",
      "0\n",
      "Location_Portofino E : \n",
      "1\n",
      "Location_Portofino F : \n",
      "0\n",
      "Location_Portofino G : \n",
      "1\n",
      "Location_Portofino H : \n",
      "3\n",
      "Location_School Street : \n",
      "1\n",
      "Location_Starter Homes : \n",
      "2\n"
     ]
    }
   ],
   "source": [
    "req_dict = dict()\n",
    "for i in X_test.columns:\n",
    "    print(i,\": \")\n",
    "    req_dict[i] = float(input())"
   ]
  },
  {
   "cell_type": "code",
   "execution_count": 94,
   "id": "5930ea1d",
   "metadata": {},
   "outputs": [
    {
     "data": {
      "text/html": [
       "<div>\n",
       "<style scoped>\n",
       "    .dataframe tbody tr th:only-of-type {\n",
       "        vertical-align: middle;\n",
       "    }\n",
       "\n",
       "    .dataframe tbody tr th {\n",
       "        vertical-align: top;\n",
       "    }\n",
       "\n",
       "    .dataframe thead th {\n",
       "        text-align: right;\n",
       "    }\n",
       "</style>\n",
       "<table border=\"1\" class=\"dataframe\">\n",
       "  <thead>\n",
       "    <tr style=\"text-align: right;\">\n",
       "      <th></th>\n",
       "      <th>Size</th>\n",
       "      <th>AreaSqFt</th>\n",
       "      <th>NoOfBath</th>\n",
       "      <th>NoOfPeople</th>\n",
       "      <th>NoOfBalcony</th>\n",
       "      <th>BuildingType_Fully Furnished Flat</th>\n",
       "      <th>BuildingType_Fully Furnished Single Room</th>\n",
       "      <th>BuildingType_Fully Furnished Villa</th>\n",
       "      <th>BuildingType_Minimum Budget Rooms</th>\n",
       "      <th>BuildingType_Semi Furnished Flat</th>\n",
       "      <th>...</th>\n",
       "      <th>Location_Portofino A</th>\n",
       "      <th>Location_Portofino B</th>\n",
       "      <th>Location_Portofino C</th>\n",
       "      <th>Location_Portofino D</th>\n",
       "      <th>Location_Portofino E</th>\n",
       "      <th>Location_Portofino F</th>\n",
       "      <th>Location_Portofino G</th>\n",
       "      <th>Location_Portofino H</th>\n",
       "      <th>Location_School Street</th>\n",
       "      <th>Location_Starter Homes</th>\n",
       "    </tr>\n",
       "  </thead>\n",
       "  <tbody>\n",
       "    <tr>\n",
       "      <th>0</th>\n",
       "      <td>1.0</td>\n",
       "      <td>650.0</td>\n",
       "      <td>2.0</td>\n",
       "      <td>1.0</td>\n",
       "      <td>1.0</td>\n",
       "      <td>1.0</td>\n",
       "      <td>1.0</td>\n",
       "      <td>1.0</td>\n",
       "      <td>1.0</td>\n",
       "      <td>1.0</td>\n",
       "      <td>...</td>\n",
       "      <td>0.0</td>\n",
       "      <td>0.0</td>\n",
       "      <td>1.0</td>\n",
       "      <td>0.0</td>\n",
       "      <td>1.0</td>\n",
       "      <td>0.0</td>\n",
       "      <td>1.0</td>\n",
       "      <td>3.0</td>\n",
       "      <td>1.0</td>\n",
       "      <td>2.0</td>\n",
       "    </tr>\n",
       "  </tbody>\n",
       "</table>\n",
       "<p>1 rows × 26 columns</p>\n",
       "</div>"
      ],
      "text/plain": [
       "   Size  AreaSqFt  NoOfBath  NoOfPeople  NoOfBalcony  \\\n",
       "0   1.0     650.0       2.0         1.0          1.0   \n",
       "\n",
       "   BuildingType_Fully Furnished Flat  \\\n",
       "0                                1.0   \n",
       "\n",
       "   BuildingType_Fully Furnished Single Room  \\\n",
       "0                                       1.0   \n",
       "\n",
       "   BuildingType_Fully Furnished Villa  BuildingType_Minimum Budget Rooms  \\\n",
       "0                                 1.0                                1.0   \n",
       "\n",
       "   BuildingType_Semi Furnished Flat  ...  Location_Portofino A  \\\n",
       "0                               1.0  ...                   0.0   \n",
       "\n",
       "   Location_Portofino B  Location_Portofino C  Location_Portofino D  \\\n",
       "0                   0.0                   1.0                   0.0   \n",
       "\n",
       "   Location_Portofino E  Location_Portofino F  Location_Portofino G  \\\n",
       "0                   1.0                   0.0                   1.0   \n",
       "\n",
       "   Location_Portofino H  Location_School Street  Location_Starter Homes  \n",
       "0                   3.0                     1.0                     2.0  \n",
       "\n",
       "[1 rows x 26 columns]"
      ]
     },
     "execution_count": 94,
     "metadata": {},
     "output_type": "execute_result"
    }
   ],
   "source": [
    "req_df=pd.DataFrame(req_dict,index=[0])\n",
    "req_df"
   ]
  },
  {
   "cell_type": "code",
   "execution_count": 96,
   "id": "5626c2dd",
   "metadata": {},
   "outputs": [
    {
     "data": {
      "text/plain": [
       "array([85989.60239078])"
      ]
     },
     "execution_count": 96,
     "metadata": {},
     "output_type": "execute_result"
    }
   ],
   "source": [
    "reg.predict(req_df)"
   ]
  },
  {
   "cell_type": "markdown",
   "id": "62c9cfd3",
   "metadata": {},
   "source": [
    "# Conclusion:\n",
    " - In this lab, we have tried to gain the knowledge about data and its varibles, further we did some preprocessing to the data in order to bring it into more analyst friendly mode, laterly we implemented various graphs using various libraries in order to get valuable insights, furthermore, we implemented and evaluated LinearRegression model to get high accuracy in term of predicting rental price to find houses for people who are in search for the one according to their preferences."
   ]
  },
  {
   "cell_type": "markdown",
   "id": "474c9b0a",
   "metadata": {},
   "source": [
    "# Reference\n",
    " - https://www.geeksforgeeks.org/ml-one-hot-encoding-of-datasets-in-python/\n",
    " - https://www.analyticsvidhya.com/blog/2021/05/know-the-best-evaluation-metrics-for-your-regression-model/\n",
    " - https://pandas.pydata.org/\n",
    " - https://matplotlib.org/\n",
    " - https://seaborn.pydata.org/\n",
    " - https://plotly.com/\n",
    " - https://scikit-learn.org/stable/modules/classes.html#module-sklearn.linear_model\n",
    " - https://www.kaggle.com/c/house-prices-advanced-regression-techniques"
   ]
  }
 ],
 "metadata": {
  "kernelspec": {
   "display_name": "Python 3",
   "language": "python",
   "name": "python3"
  },
  "language_info": {
   "codemirror_mode": {
    "name": "ipython",
    "version": 3
   },
   "file_extension": ".py",
   "mimetype": "text/x-python",
   "name": "python",
   "nbconvert_exporter": "python",
   "pygments_lexer": "ipython3",
   "version": "3.8.8"
  }
 },
 "nbformat": 4,
 "nbformat_minor": 5
}
