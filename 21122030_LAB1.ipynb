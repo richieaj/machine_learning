{
 "cells": [
  {
   "cell_type": "markdown",
   "id": "1cdb4309",
   "metadata": {},
   "source": [
    "# Machine Learning Lab 1 - Introduction to Machine Learning Libraries"
   ]
  },
  {
   "cell_type": "markdown",
   "id": "857a37e9",
   "metadata": {},
   "source": [
    "\n",
    "### Name: JOLINSON RICHI A\n",
    "### Register Number: 21122030\n",
    "### Class: 2MSDS"
   ]
  },
  {
   "cell_type": "markdown",
   "id": "655d5207",
   "metadata": {},
   "source": [
    "## Lab Overview"
   ]
  },
  {
   "cell_type": "markdown",
   "id": "bec257a9",
   "metadata": {},
   "source": [
    "# Objectives\n",
    " - Execute some basic python code\n",
    " - Import the following libraries into Python (Mandatory): Pandas, NumPy, SKLearn, Seaborn, Theano, SciPy\n",
    " - Import the following libraries into Python (Optional): PyTorch, Keras, TensorFlow\n",
    " - Load the IRIS TOY Dataset from sklearn\n",
    " - Execute at least one line of code involving above-libraries (Need not be your own code)\n",
    " - Find out the various options in Jupyter Notebook Markdown Documentation"
   ]
  },
  {
   "cell_type": "markdown",
   "id": "72ada528",
   "metadata": {},
   "source": [
    "# Problem Definition\n",
    " - Execute some basic python code\n",
    " - I have to install the libraries which are not installed and import them.\n",
    " - Execute some basic problem with these libraries\n",
    " - Work on Iris data"
   ]
  },
  {
   "cell_type": "markdown",
   "id": "c23fb033",
   "metadata": {},
   "source": [
    "# Approach\n",
    " - Execute some basic python code\n",
    " - I have to install the libraries which are not installed and import them.\n",
    " - Execute some basic problem with these libraries\n",
    " - Work on Iris data\n",
    " - Searching online for an introduction of each library\n",
    " - Read and include outline in document\n",
    " - import libraries and run simple code"
   ]
  },
  {
   "cell_type": "markdown",
   "id": "7887a731",
   "metadata": {},
   "source": [
    "# 1. Executing basic python code"
   ]
  },
  {
   "cell_type": "code",
   "execution_count": 1,
   "id": "cda5256e",
   "metadata": {},
   "outputs": [
    {
     "name": "stdout",
     "output_type": "stream",
     "text": [
      "Enter your name: Richie\n",
      "Richie\n"
     ]
    }
   ],
   "source": [
    "# A Python Statement to input the name\n",
    "name = input(\"Enter your name: \")\n",
    "print(name)"
   ]
  },
  {
   "cell_type": "code",
   "execution_count": 4,
   "id": "aa007ef2",
   "metadata": {},
   "outputs": [
    {
     "name": "stdout",
     "output_type": "stream",
     "text": [
      "**************************************************\n",
      "               Subtract Two Numbers               \n",
      "--------------------------------------------------\n",
      "Enter a number: 100\n",
      "Enter another number: 200\n",
      "--------------------------------------------------\n",
      "Hello Richie The answer is -100\n",
      "==================================================\n"
     ]
    }
   ],
   "source": [
    "# A Program to subtract two numbers\n",
    "print(\"*\"*50)\n",
    "print((\"Subtract Two Numbers\").center(50))\n",
    "print(\"-\"*50)\n",
    "num1 = int(input(\"Enter a number: \"))\n",
    "num2 = int(input(\"Enter another number: \"))\n",
    "subtractOfNumbers = num1 - num2\n",
    "print(\"-\"*50)\n",
    "print(\"Hello {} The answer is {}\".format(name, subtractOfNumbers))\n",
    "print(\"=\"*50)"
   ]
  },
  {
   "cell_type": "code",
   "execution_count": 10,
   "id": "39195742",
   "metadata": {},
   "outputs": [
    {
     "name": "stdout",
     "output_type": "stream",
     "text": [
      "******************************\n",
      "Hello Richie!\n",
      "--------------------\n",
      "Thank you Richie for using this program - 'Introduction to ML Libraries'\n",
      "==================================================\n"
     ]
    }
   ],
   "source": [
    "# Some simple user-defined functions\n",
    "def printLine(symbol, size):\n",
    "    print(symbol*size)\n",
    "def sayHello(name):\n",
    "    print(\"Hello {}!\".format(name))\n",
    "def sayThankYou(name, title):\n",
    "    print(\"Thank you {} for using this program - '{}'\".format(name, title))\n",
    "programTitle = \"Introduction to ML Libraries\"\n",
    "printLine(\"*\", 30)\n",
    "sayHello(name)\n",
    "printLine(\"-\", 20)\n",
    "sayThankYou(name, programTitle)\n",
    "printLine(\"=\", 50)"
   ]
  },
  {
   "cell_type": "markdown",
   "id": "8453b158",
   "metadata": {},
   "source": [
    "### I have executed the basics, now go to the ML Libraries"
   ]
  },
  {
   "cell_type": "markdown",
   "id": "335fe450",
   "metadata": {},
   "source": [
    "# 2. Install and import important libraries"
   ]
  },
  {
   "cell_type": "markdown",
   "id": "a2cb2ca0",
   "metadata": {},
   "source": [
    "# Libraries"
   ]
  },
  {
   "cell_type": "markdown",
   "id": "7ddbe9e9",
   "metadata": {},
   "source": [
    "## Installation Instructions\n",
    " - If any of the libraries cannot be imported (Python says No module named _____), then we will have to take Command Prompt and then use the PIP instruction to install libraries.\n",
    " - For instance, pip install numpy will install the latest version of numpy library"
   ]
  },
  {
   "cell_type": "markdown",
   "id": "27dbf63c",
   "metadata": {},
   "source": [
    "# Numpy"
   ]
  },
  {
   "cell_type": "markdown",
   "id": "d0304916",
   "metadata": {},
   "source": [
    "## About the Library\n",
    " - NumPy is a well known general-purpose array-processing package. \n",
    " - An extensive collection of high complexity mathematical functions make NumPy powerful to process large multi-dimensional arrays and matrices. \n",
    " - NumPy is very useful for handling linear algebra, Fourier transforms, and random numbers. \n",
    " - Other libraries like TensorFlow uses NumPy at the backend for manipulating tensors.\n",
    " - With NumPy, you can define arbitrary data types and easily integrate with most databases.\n",
    " - NumPy can also serve as an efficient multi-dimensional container for any generic data that is in any datatype. \n",
    " - The key features of NumPy include powerful N-dimensional array object, broadcasting functions, and out-of-box tools to integrate C/C++ and Fortran code.\""
   ]
  },
  {
   "cell_type": "code",
   "execution_count": 11,
   "id": "5c34dd2e",
   "metadata": {},
   "outputs": [
    {
     "name": "stdout",
     "output_type": "stream",
     "text": [
      "Requirement already satisfied: numpy in c:\\users\\jolin\\anaconda3\\lib\\site-packages (1.20.1)\n"
     ]
    }
   ],
   "source": [
    "# Installing numpy library\n",
    "!pip install numpy"
   ]
  },
  {
   "cell_type": "code",
   "execution_count": 12,
   "id": "cdc765df",
   "metadata": {},
   "outputs": [],
   "source": [
    "import numpy as np "
   ]
  },
  {
   "cell_type": "code",
   "execution_count": 15,
   "id": "ed6cdaf8",
   "metadata": {},
   "outputs": [
    {
     "name": "stdout",
     "output_type": "stream",
     "text": [
      "Array with Rank 1: \n",
      " [  10  200 3000]\n",
      "\n",
      "Array with Rank 2: \n",
      " [[  10  200 3000]\n",
      " [  40  500 6000]]\n",
      "\n",
      "Array created by passing python tuple:\n",
      " [10 30 20]\n"
     ]
    }
   ],
   "source": [
    "# Creating a rank 1 Array\n",
    "arr1 = np.array([10, 200, 3000])\n",
    "print(\"Array with Rank 1: \\n\",arr1)\n",
    "print(\"\")\n",
    " \n",
    "# Creating a rank 2 Array\n",
    "arr2 = np.array([[10, 200, 3000], [40, 500, 6000]])\n",
    "print(\"Array with Rank 2: \\n\", arr2)\n",
    " \n",
    "# Creating an array from tuple\n",
    "arr3 = np.array((10, 30, 20))\n",
    "print(\"\\nArray created by passing python tuple:\\n\", arr3)"
   ]
  },
  {
   "cell_type": "markdown",
   "id": "74ce0ff2",
   "metadata": {},
   "source": [
    "# Sklearn"
   ]
  },
  {
   "cell_type": "markdown",
   "id": "f4585467",
   "metadata": {},
   "source": [
    "## About the library\n",
    " - Sklearn is the most useful and robust library for machine learning in Python.\n",
    " - It provides a selection of efficient tools for machine learning and statistical modeling including classification, predictive analytics regression, clustering and dimensionality reduction via a consistence interface in Python.\n",
    " - Sklearn is used to build machine learning models.\n",
    " - It should not be used for reading the data, manipulating and summarizing it."
   ]
  },
  {
   "cell_type": "code",
   "execution_count": 16,
   "id": "8e128d7f",
   "metadata": {},
   "outputs": [
    {
     "name": "stdout",
     "output_type": "stream",
     "text": [
      "Collecting sklearn\n",
      "  Downloading sklearn-0.0.tar.gz (1.1 kB)\n",
      "Requirement already satisfied: scikit-learn in c:\\users\\jolin\\anaconda3\\lib\\site-packages (from sklearn) (0.24.1)\n",
      "Requirement already satisfied: numpy>=1.13.3 in c:\\users\\jolin\\anaconda3\\lib\\site-packages (from scikit-learn->sklearn) (1.20.1)\n",
      "Requirement already satisfied: scipy>=0.19.1 in c:\\users\\jolin\\anaconda3\\lib\\site-packages (from scikit-learn->sklearn) (1.6.2)\n",
      "Requirement already satisfied: joblib>=0.11 in c:\\users\\jolin\\anaconda3\\lib\\site-packages (from scikit-learn->sklearn) (1.0.1)\n",
      "Requirement already satisfied: threadpoolctl>=2.0.0 in c:\\users\\jolin\\anaconda3\\lib\\site-packages (from scikit-learn->sklearn) (2.1.0)\n",
      "Building wheels for collected packages: sklearn\n",
      "  Building wheel for sklearn (setup.py): started\n",
      "  Building wheel for sklearn (setup.py): finished with status 'done'\n",
      "  Created wheel for sklearn: filename=sklearn-0.0-py2.py3-none-any.whl size=1316 sha256=3fcc2a5c217c764ac1fb750e42c4323c8274b4383f43bf49a64bfeb2aa551b46\n",
      "  Stored in directory: c:\\users\\jolin\\appdata\\local\\pip\\cache\\wheels\\22\\0b\\40\\fd3f795caaa1fb4c6cb738bc1f56100be1e57da95849bfc897\n",
      "Successfully built sklearn\n",
      "Installing collected packages: sklearn\n",
      "Successfully installed sklearn-0.0\n"
     ]
    }
   ],
   "source": [
    "# Installing sklearn library\n",
    "!pip install sklearn"
   ]
  },
  {
   "cell_type": "code",
   "execution_count": 17,
   "id": "0e5a7aa6",
   "metadata": {},
   "outputs": [],
   "source": [
    "import sklearn as sk # Importing sklearn library"
   ]
  },
  {
   "cell_type": "code",
   "execution_count": 18,
   "id": "e949d5dd",
   "metadata": {},
   "outputs": [],
   "source": [
    "from sklearn.datasets import load_iris # Import datasets"
   ]
  },
  {
   "cell_type": "code",
   "execution_count": 19,
   "id": "0d9b1982",
   "metadata": {},
   "outputs": [
    {
     "data": {
      "text/plain": [
       "{'data':      sepal length (cm)  sepal width (cm)  petal length (cm)  petal width (cm)\n",
       " 0                  5.1               3.5                1.4               0.2\n",
       " 1                  4.9               3.0                1.4               0.2\n",
       " 2                  4.7               3.2                1.3               0.2\n",
       " 3                  4.6               3.1                1.5               0.2\n",
       " 4                  5.0               3.6                1.4               0.2\n",
       " ..                 ...               ...                ...               ...\n",
       " 145                6.7               3.0                5.2               2.3\n",
       " 146                6.3               2.5                5.0               1.9\n",
       " 147                6.5               3.0                5.2               2.0\n",
       " 148                6.2               3.4                5.4               2.3\n",
       " 149                5.9               3.0                5.1               1.8\n",
       " \n",
       " [150 rows x 4 columns],\n",
       " 'target': 0      0\n",
       " 1      0\n",
       " 2      0\n",
       " 3      0\n",
       " 4      0\n",
       "       ..\n",
       " 145    2\n",
       " 146    2\n",
       " 147    2\n",
       " 148    2\n",
       " 149    2\n",
       " Name: target, Length: 150, dtype: int32,\n",
       " 'frame':      sepal length (cm)  sepal width (cm)  petal length (cm)  petal width (cm)  \\\n",
       " 0                  5.1               3.5                1.4               0.2   \n",
       " 1                  4.9               3.0                1.4               0.2   \n",
       " 2                  4.7               3.2                1.3               0.2   \n",
       " 3                  4.6               3.1                1.5               0.2   \n",
       " 4                  5.0               3.6                1.4               0.2   \n",
       " ..                 ...               ...                ...               ...   \n",
       " 145                6.7               3.0                5.2               2.3   \n",
       " 146                6.3               2.5                5.0               1.9   \n",
       " 147                6.5               3.0                5.2               2.0   \n",
       " 148                6.2               3.4                5.4               2.3   \n",
       " 149                5.9               3.0                5.1               1.8   \n",
       " \n",
       "      target  \n",
       " 0         0  \n",
       " 1         0  \n",
       " 2         0  \n",
       " 3         0  \n",
       " 4         0  \n",
       " ..      ...  \n",
       " 145       2  \n",
       " 146       2  \n",
       " 147       2  \n",
       " 148       2  \n",
       " 149       2  \n",
       " \n",
       " [150 rows x 5 columns],\n",
       " 'target_names': array(['setosa', 'versicolor', 'virginica'], dtype='<U10'),\n",
       " 'DESCR': '.. _iris_dataset:\\n\\nIris plants dataset\\n--------------------\\n\\n**Data Set Characteristics:**\\n\\n    :Number of Instances: 150 (50 in each of three classes)\\n    :Number of Attributes: 4 numeric, predictive attributes and the class\\n    :Attribute Information:\\n        - sepal length in cm\\n        - sepal width in cm\\n        - petal length in cm\\n        - petal width in cm\\n        - class:\\n                - Iris-Setosa\\n                - Iris-Versicolour\\n                - Iris-Virginica\\n                \\n    :Summary Statistics:\\n\\n    ============== ==== ==== ======= ===== ====================\\n                    Min  Max   Mean    SD   Class Correlation\\n    ============== ==== ==== ======= ===== ====================\\n    sepal length:   4.3  7.9   5.84   0.83    0.7826\\n    sepal width:    2.0  4.4   3.05   0.43   -0.4194\\n    petal length:   1.0  6.9   3.76   1.76    0.9490  (high!)\\n    petal width:    0.1  2.5   1.20   0.76    0.9565  (high!)\\n    ============== ==== ==== ======= ===== ====================\\n\\n    :Missing Attribute Values: None\\n    :Class Distribution: 33.3% for each of 3 classes.\\n    :Creator: R.A. Fisher\\n    :Donor: Michael Marshall (MARSHALL%PLU@io.arc.nasa.gov)\\n    :Date: July, 1988\\n\\nThe famous Iris database, first used by Sir R.A. Fisher. The dataset is taken\\nfrom Fisher\\'s paper. Note that it\\'s the same as in R, but not as in the UCI\\nMachine Learning Repository, which has two wrong data points.\\n\\nThis is perhaps the best known database to be found in the\\npattern recognition literature.  Fisher\\'s paper is a classic in the field and\\nis referenced frequently to this day.  (See Duda & Hart, for example.)  The\\ndata set contains 3 classes of 50 instances each, where each class refers to a\\ntype of iris plant.  One class is linearly separable from the other 2; the\\nlatter are NOT linearly separable from each other.\\n\\n.. topic:: References\\n\\n   - Fisher, R.A. \"The use of multiple measurements in taxonomic problems\"\\n     Annual Eugenics, 7, Part II, 179-188 (1936); also in \"Contributions to\\n     Mathematical Statistics\" (John Wiley, NY, 1950).\\n   - Duda, R.O., & Hart, P.E. (1973) Pattern Classification and Scene Analysis.\\n     (Q327.D83) John Wiley & Sons.  ISBN 0-471-22361-1.  See page 218.\\n   - Dasarathy, B.V. (1980) \"Nosing Around the Neighborhood: A New System\\n     Structure and Classification Rule for Recognition in Partially Exposed\\n     Environments\".  IEEE Transactions on Pattern Analysis and Machine\\n     Intelligence, Vol. PAMI-2, No. 1, 67-71.\\n   - Gates, G.W. (1972) \"The Reduced Nearest Neighbor Rule\".  IEEE Transactions\\n     on Information Theory, May 1972, 431-433.\\n   - See also: 1988 MLC Proceedings, 54-64.  Cheeseman et al\"s AUTOCLASS II\\n     conceptual clustering system finds 3 classes in the data.\\n   - Many, many more ...',\n",
       " 'feature_names': ['sepal length (cm)',\n",
       "  'sepal width (cm)',\n",
       "  'petal length (cm)',\n",
       "  'petal width (cm)'],\n",
       " 'filename': 'C:\\\\Users\\\\jolin\\\\anaconda3\\\\lib\\\\site-packages\\\\sklearn\\\\datasets\\\\data\\\\iris.csv'}"
      ]
     },
     "execution_count": 19,
     "metadata": {},
     "output_type": "execute_result"
    }
   ],
   "source": [
    "data = load_iris(as_frame=True) # Load Iris dataset\n",
    "data"
   ]
  },
  {
   "cell_type": "code",
   "execution_count": 20,
   "id": "5c478b56",
   "metadata": {},
   "outputs": [
    {
     "data": {
      "text/plain": [
       "'.. _iris_dataset:\\n\\nIris plants dataset\\n--------------------\\n\\n**Data Set Characteristics:**\\n\\n    :Number of Instances: 150 (50 in each of three classes)\\n    :Number of Attributes: 4 numeric, predictive attributes and the class\\n    :Attribute Information:\\n        - sepal length in cm\\n        - sepal width in cm\\n        - petal length in cm\\n        - petal width in cm\\n        - class:\\n                - Iris-Setosa\\n                - Iris-Versicolour\\n                - Iris-Virginica\\n                \\n    :Summary Statistics:\\n\\n    ============== ==== ==== ======= ===== ====================\\n                    Min  Max   Mean    SD   Class Correlation\\n    ============== ==== ==== ======= ===== ====================\\n    sepal length:   4.3  7.9   5.84   0.83    0.7826\\n    sepal width:    2.0  4.4   3.05   0.43   -0.4194\\n    petal length:   1.0  6.9   3.76   1.76    0.9490  (high!)\\n    petal width:    0.1  2.5   1.20   0.76    0.9565  (high!)\\n    ============== ==== ==== ======= ===== ====================\\n\\n    :Missing Attribute Values: None\\n    :Class Distribution: 33.3% for each of 3 classes.\\n    :Creator: R.A. Fisher\\n    :Donor: Michael Marshall (MARSHALL%PLU@io.arc.nasa.gov)\\n    :Date: July, 1988\\n\\nThe famous Iris database, first used by Sir R.A. Fisher. The dataset is taken\\nfrom Fisher\\'s paper. Note that it\\'s the same as in R, but not as in the UCI\\nMachine Learning Repository, which has two wrong data points.\\n\\nThis is perhaps the best known database to be found in the\\npattern recognition literature.  Fisher\\'s paper is a classic in the field and\\nis referenced frequently to this day.  (See Duda & Hart, for example.)  The\\ndata set contains 3 classes of 50 instances each, where each class refers to a\\ntype of iris plant.  One class is linearly separable from the other 2; the\\nlatter are NOT linearly separable from each other.\\n\\n.. topic:: References\\n\\n   - Fisher, R.A. \"The use of multiple measurements in taxonomic problems\"\\n     Annual Eugenics, 7, Part II, 179-188 (1936); also in \"Contributions to\\n     Mathematical Statistics\" (John Wiley, NY, 1950).\\n   - Duda, R.O., & Hart, P.E. (1973) Pattern Classification and Scene Analysis.\\n     (Q327.D83) John Wiley & Sons.  ISBN 0-471-22361-1.  See page 218.\\n   - Dasarathy, B.V. (1980) \"Nosing Around the Neighborhood: A New System\\n     Structure and Classification Rule for Recognition in Partially Exposed\\n     Environments\".  IEEE Transactions on Pattern Analysis and Machine\\n     Intelligence, Vol. PAMI-2, No. 1, 67-71.\\n   - Gates, G.W. (1972) \"The Reduced Nearest Neighbor Rule\".  IEEE Transactions\\n     on Information Theory, May 1972, 431-433.\\n   - See also: 1988 MLC Proceedings, 54-64.  Cheeseman et al\"s AUTOCLASS II\\n     conceptual clustering system finds 3 classes in the data.\\n   - Many, many more ...'"
      ]
     },
     "execution_count": 20,
     "metadata": {},
     "output_type": "execute_result"
    }
   ],
   "source": [
    "data.DESCR"
   ]
  },
  {
   "cell_type": "code",
   "execution_count": 21,
   "id": "76490787",
   "metadata": {},
   "outputs": [
    {
     "data": {
      "text/html": [
       "<div>\n",
       "<style scoped>\n",
       "    .dataframe tbody tr th:only-of-type {\n",
       "        vertical-align: middle;\n",
       "    }\n",
       "\n",
       "    .dataframe tbody tr th {\n",
       "        vertical-align: top;\n",
       "    }\n",
       "\n",
       "    .dataframe thead th {\n",
       "        text-align: right;\n",
       "    }\n",
       "</style>\n",
       "<table border=\"1\" class=\"dataframe\">\n",
       "  <thead>\n",
       "    <tr style=\"text-align: right;\">\n",
       "      <th></th>\n",
       "      <th>sepal length (cm)</th>\n",
       "      <th>sepal width (cm)</th>\n",
       "      <th>petal length (cm)</th>\n",
       "      <th>petal width (cm)</th>\n",
       "    </tr>\n",
       "  </thead>\n",
       "  <tbody>\n",
       "    <tr>\n",
       "      <th>0</th>\n",
       "      <td>5.1</td>\n",
       "      <td>3.5</td>\n",
       "      <td>1.4</td>\n",
       "      <td>0.2</td>\n",
       "    </tr>\n",
       "    <tr>\n",
       "      <th>1</th>\n",
       "      <td>4.9</td>\n",
       "      <td>3.0</td>\n",
       "      <td>1.4</td>\n",
       "      <td>0.2</td>\n",
       "    </tr>\n",
       "    <tr>\n",
       "      <th>2</th>\n",
       "      <td>4.7</td>\n",
       "      <td>3.2</td>\n",
       "      <td>1.3</td>\n",
       "      <td>0.2</td>\n",
       "    </tr>\n",
       "    <tr>\n",
       "      <th>3</th>\n",
       "      <td>4.6</td>\n",
       "      <td>3.1</td>\n",
       "      <td>1.5</td>\n",
       "      <td>0.2</td>\n",
       "    </tr>\n",
       "    <tr>\n",
       "      <th>4</th>\n",
       "      <td>5.0</td>\n",
       "      <td>3.6</td>\n",
       "      <td>1.4</td>\n",
       "      <td>0.2</td>\n",
       "    </tr>\n",
       "    <tr>\n",
       "      <th>...</th>\n",
       "      <td>...</td>\n",
       "      <td>...</td>\n",
       "      <td>...</td>\n",
       "      <td>...</td>\n",
       "    </tr>\n",
       "    <tr>\n",
       "      <th>145</th>\n",
       "      <td>6.7</td>\n",
       "      <td>3.0</td>\n",
       "      <td>5.2</td>\n",
       "      <td>2.3</td>\n",
       "    </tr>\n",
       "    <tr>\n",
       "      <th>146</th>\n",
       "      <td>6.3</td>\n",
       "      <td>2.5</td>\n",
       "      <td>5.0</td>\n",
       "      <td>1.9</td>\n",
       "    </tr>\n",
       "    <tr>\n",
       "      <th>147</th>\n",
       "      <td>6.5</td>\n",
       "      <td>3.0</td>\n",
       "      <td>5.2</td>\n",
       "      <td>2.0</td>\n",
       "    </tr>\n",
       "    <tr>\n",
       "      <th>148</th>\n",
       "      <td>6.2</td>\n",
       "      <td>3.4</td>\n",
       "      <td>5.4</td>\n",
       "      <td>2.3</td>\n",
       "    </tr>\n",
       "    <tr>\n",
       "      <th>149</th>\n",
       "      <td>5.9</td>\n",
       "      <td>3.0</td>\n",
       "      <td>5.1</td>\n",
       "      <td>1.8</td>\n",
       "    </tr>\n",
       "  </tbody>\n",
       "</table>\n",
       "<p>150 rows × 4 columns</p>\n",
       "</div>"
      ],
      "text/plain": [
       "     sepal length (cm)  sepal width (cm)  petal length (cm)  petal width (cm)\n",
       "0                  5.1               3.5                1.4               0.2\n",
       "1                  4.9               3.0                1.4               0.2\n",
       "2                  4.7               3.2                1.3               0.2\n",
       "3                  4.6               3.1                1.5               0.2\n",
       "4                  5.0               3.6                1.4               0.2\n",
       "..                 ...               ...                ...               ...\n",
       "145                6.7               3.0                5.2               2.3\n",
       "146                6.3               2.5                5.0               1.9\n",
       "147                6.5               3.0                5.2               2.0\n",
       "148                6.2               3.4                5.4               2.3\n",
       "149                5.9               3.0                5.1               1.8\n",
       "\n",
       "[150 rows x 4 columns]"
      ]
     },
     "execution_count": 21,
     "metadata": {},
     "output_type": "execute_result"
    }
   ],
   "source": [
    "data.data"
   ]
  },
  {
   "cell_type": "code",
   "execution_count": 22,
   "id": "b729af92",
   "metadata": {},
   "outputs": [
    {
     "data": {
      "text/plain": [
       "['sepal length (cm)',\n",
       " 'sepal width (cm)',\n",
       " 'petal length (cm)',\n",
       " 'petal width (cm)']"
      ]
     },
     "execution_count": 22,
     "metadata": {},
     "output_type": "execute_result"
    }
   ],
   "source": [
    "data.feature_names"
   ]
  },
  {
   "cell_type": "code",
   "execution_count": 23,
   "id": "ce5ff6fa",
   "metadata": {},
   "outputs": [
    {
     "data": {
      "text/plain": [
       "0      0\n",
       "1      0\n",
       "2      0\n",
       "3      0\n",
       "4      0\n",
       "      ..\n",
       "145    2\n",
       "146    2\n",
       "147    2\n",
       "148    2\n",
       "149    2\n",
       "Name: target, Length: 150, dtype: int32"
      ]
     },
     "execution_count": 23,
     "metadata": {},
     "output_type": "execute_result"
    }
   ],
   "source": [
    "data.target"
   ]
  },
  {
   "cell_type": "code",
   "execution_count": 24,
   "id": "0814fa4d",
   "metadata": {},
   "outputs": [
    {
     "name": "stdout",
     "output_type": "stream",
     "text": [
      "Feature names: ['sepal length (cm)', 'sepal width (cm)', 'petal length (cm)', 'petal width (cm)']\n",
      "Target names: ['setosa' 'versicolor' 'virginica']\n"
     ]
    }
   ],
   "source": [
    "# store the feature matrix (X) and response vector (y)\n",
    "iris=data\n",
    "X = iris.data\n",
    "Y = iris.target\n",
    "\n",
    "# store the feature and target names\n",
    "feature_names = iris.feature_names\n",
    "target_names = iris.target_names\n",
    "\n",
    "# printing features and target names of our dataset\n",
    "print(\"Feature names:\", feature_names)\n",
    "print(\"Target names:\", target_names)\n"
   ]
  },
  {
   "cell_type": "code",
   "execution_count": 25,
   "id": "48c3339c",
   "metadata": {},
   "outputs": [
    {
     "name": "stdout",
     "output_type": "stream",
     "text": [
      "\n",
      "Type of X is: <class 'pandas.core.frame.DataFrame'>\n",
      "\n",
      "First 5 rows of X:\n",
      "    sepal length (cm)  sepal width (cm)  petal length (cm)  petal width (cm)\n",
      "0                5.1               3.5                1.4               0.2\n",
      "1                4.9               3.0                1.4               0.2\n",
      "2                4.7               3.2                1.3               0.2\n",
      "3                4.6               3.1                1.5               0.2\n",
      "4                5.0               3.6                1.4               0.2\n"
     ]
    }
   ],
   "source": [
    "# X and y are numpy arrays\n",
    "print(\"\\nType of X is:\", type(X))\n",
    "\n",
    "# printing first 5 input rows\n",
    "print(\"\\nFirst 5 rows of X:\\n\",X[0:5])"
   ]
  },
  {
   "cell_type": "code",
   "execution_count": 26,
   "id": "1698432c",
   "metadata": {},
   "outputs": [
    {
     "name": "stdout",
     "output_type": "stream",
     "text": [
      "\n",
      "Type of Y is: <class 'pandas.core.series.Series'>\n",
      "\n",
      "First 5 rows of Y:\n",
      " 0    0\n",
      "1    0\n",
      "2    0\n",
      "3    0\n",
      "4    0\n",
      "Name: target, dtype: int32\n"
     ]
    }
   ],
   "source": [
    "# X and y are numpy arrays\n",
    "print(\"\\nType of Y is:\", type(Y))\n",
    "\n",
    "# printing first 5 input rows\n",
    "print(\"\\nFirst 5 rows of Y:\\n\",Y[0:5])"
   ]
  },
  {
   "cell_type": "markdown",
   "id": "5d14119c",
   "metadata": {},
   "source": [
    "# Pandas"
   ]
  },
  {
   "cell_type": "markdown",
   "id": "58eae08f",
   "metadata": {},
   "source": [
    "## About the library\n",
    " - Pandas is a software library written for the Python programming language for data manipulation and analysis.\n",
    " - It offers data structures and operations for manipulating numerical tables and time series.\n",
    " - It aims to be the fundamental high-level building block for doing practical, real-world data analysis in Python.\n",
    " - It is built on top of another package named Numpy.\n",
    " - It is a providing fast, flexible, and expressive data structures designed to make working with “relational” or “labeled” data both easy and intuitive."
   ]
  },
  {
   "cell_type": "code",
   "execution_count": 27,
   "id": "98bd8177",
   "metadata": {},
   "outputs": [
    {
     "name": "stdout",
     "output_type": "stream",
     "text": [
      "Requirement already satisfied: pandas in c:\\users\\jolin\\anaconda3\\lib\\site-packages (1.2.4)\n",
      "Requirement already satisfied: python-dateutil>=2.7.3 in c:\\users\\jolin\\anaconda3\\lib\\site-packages (from pandas) (2.8.1)\n",
      "Requirement already satisfied: numpy>=1.16.5 in c:\\users\\jolin\\anaconda3\\lib\\site-packages (from pandas) (1.20.1)\n",
      "Requirement already satisfied: pytz>=2017.3 in c:\\users\\jolin\\anaconda3\\lib\\site-packages (from pandas) (2021.1)\n",
      "Requirement already satisfied: six>=1.5 in c:\\users\\jolin\\anaconda3\\lib\\site-packages (from python-dateutil>=2.7.3->pandas) (1.15.0)\n"
     ]
    }
   ],
   "source": [
    "# Installing pandas library\n",
    "!pip install pandas"
   ]
  },
  {
   "cell_type": "code",
   "execution_count": 28,
   "id": "95ad66e4",
   "metadata": {},
   "outputs": [],
   "source": [
    "import pandas as pd # Importing pandas"
   ]
  },
  {
   "cell_type": "code",
   "execution_count": 29,
   "id": "94039394",
   "metadata": {},
   "outputs": [
    {
     "data": {
      "text/html": [
       "<div>\n",
       "<style scoped>\n",
       "    .dataframe tbody tr th:only-of-type {\n",
       "        vertical-align: middle;\n",
       "    }\n",
       "\n",
       "    .dataframe tbody tr th {\n",
       "        vertical-align: top;\n",
       "    }\n",
       "\n",
       "    .dataframe thead th {\n",
       "        text-align: right;\n",
       "    }\n",
       "</style>\n",
       "<table border=\"1\" class=\"dataframe\">\n",
       "  <thead>\n",
       "    <tr style=\"text-align: right;\">\n",
       "      <th></th>\n",
       "      <th>Number</th>\n",
       "      <th>square</th>\n",
       "      <th>cube</th>\n",
       "    </tr>\n",
       "  </thead>\n",
       "  <tbody>\n",
       "    <tr>\n",
       "      <th>0</th>\n",
       "      <td>0</td>\n",
       "      <td>0</td>\n",
       "      <td>0</td>\n",
       "    </tr>\n",
       "    <tr>\n",
       "      <th>1</th>\n",
       "      <td>1</td>\n",
       "      <td>1</td>\n",
       "      <td>1</td>\n",
       "    </tr>\n",
       "    <tr>\n",
       "      <th>2</th>\n",
       "      <td>2</td>\n",
       "      <td>4</td>\n",
       "      <td>8</td>\n",
       "    </tr>\n",
       "    <tr>\n",
       "      <th>3</th>\n",
       "      <td>3</td>\n",
       "      <td>9</td>\n",
       "      <td>27</td>\n",
       "    </tr>\n",
       "    <tr>\n",
       "      <th>4</th>\n",
       "      <td>4</td>\n",
       "      <td>16</td>\n",
       "      <td>64</td>\n",
       "    </tr>\n",
       "    <tr>\n",
       "      <th>5</th>\n",
       "      <td>5</td>\n",
       "      <td>25</td>\n",
       "      <td>125</td>\n",
       "    </tr>\n",
       "    <tr>\n",
       "      <th>6</th>\n",
       "      <td>6</td>\n",
       "      <td>36</td>\n",
       "      <td>216</td>\n",
       "    </tr>\n",
       "    <tr>\n",
       "      <th>7</th>\n",
       "      <td>7</td>\n",
       "      <td>49</td>\n",
       "      <td>343</td>\n",
       "    </tr>\n",
       "    <tr>\n",
       "      <th>8</th>\n",
       "      <td>8</td>\n",
       "      <td>64</td>\n",
       "      <td>512</td>\n",
       "    </tr>\n",
       "    <tr>\n",
       "      <th>9</th>\n",
       "      <td>9</td>\n",
       "      <td>81</td>\n",
       "      <td>729</td>\n",
       "    </tr>\n",
       "    <tr>\n",
       "      <th>10</th>\n",
       "      <td>10</td>\n",
       "      <td>100</td>\n",
       "      <td>1000</td>\n",
       "    </tr>\n",
       "  </tbody>\n",
       "</table>\n",
       "</div>"
      ],
      "text/plain": [
       "    Number  square  cube\n",
       "0        0       0     0\n",
       "1        1       1     1\n",
       "2        2       4     8\n",
       "3        3       9    27\n",
       "4        4      16    64\n",
       "5        5      25   125\n",
       "6        6      36   216\n",
       "7        7      49   343\n",
       "8        8      64   512\n",
       "9        9      81   729\n",
       "10      10     100  1000"
      ]
     },
     "execution_count": 29,
     "metadata": {},
     "output_type": "execute_result"
    }
   ],
   "source": [
    "# Create a dataframe of number itself, its square and its cube\n",
    "x = [[i,i**2,i**3] for i in range(11)]\n",
    "data1 = pd.DataFrame(x, columns = ['Number', 'square', 'cube'])\n",
    "data1"
   ]
  },
  {
   "cell_type": "markdown",
   "id": "3b7454d8",
   "metadata": {},
   "source": [
    "# Seaborn"
   ]
  },
  {
   "cell_type": "markdown",
   "id": "dc931a28",
   "metadata": {},
   "source": [
    "## About the library\n",
    " - Seaborn is a library in Python predominantly used for making statistical graphics.\n",
    " - It is a data visualization library built on top of matplotlib and closely integrated with pandas data structures in Python.\n",
    " - Visualization is the central part of Seaborn which helps in exploration and understanding of data.\n",
    " - It supports high-level abstractions for multi-plot grids.\n",
    " - Automatic estimation and plotting of linear regression plots."
   ]
  },
  {
   "cell_type": "code",
   "execution_count": 30,
   "id": "361e9df3",
   "metadata": {},
   "outputs": [
    {
     "name": "stdout",
     "output_type": "stream",
     "text": [
      "Requirement already satisfied: seaborn in c:\\users\\jolin\\anaconda3\\lib\\site-packages (0.11.1)\n",
      "Requirement already satisfied: pandas>=0.23 in c:\\users\\jolin\\anaconda3\\lib\\site-packages (from seaborn) (1.2.4)\n",
      "Requirement already satisfied: numpy>=1.15 in c:\\users\\jolin\\anaconda3\\lib\\site-packages (from seaborn) (1.20.1)\n",
      "Requirement already satisfied: scipy>=1.0 in c:\\users\\jolin\\anaconda3\\lib\\site-packages (from seaborn) (1.6.2)\n",
      "Requirement already satisfied: matplotlib>=2.2 in c:\\users\\jolin\\anaconda3\\lib\\site-packages (from seaborn) (3.3.4)\n",
      "Requirement already satisfied: kiwisolver>=1.0.1 in c:\\users\\jolin\\anaconda3\\lib\\site-packages (from matplotlib>=2.2->seaborn) (1.3.1)\n",
      "Requirement already satisfied: pyparsing!=2.0.4,!=2.1.2,!=2.1.6,>=2.0.3 in c:\\users\\jolin\\anaconda3\\lib\\site-packages (from matplotlib>=2.2->seaborn) (2.4.7)\n",
      "Requirement already satisfied: pillow>=6.2.0 in c:\\users\\jolin\\anaconda3\\lib\\site-packages (from matplotlib>=2.2->seaborn) (8.2.0)\n",
      "Requirement already satisfied: python-dateutil>=2.1 in c:\\users\\jolin\\anaconda3\\lib\\site-packages (from matplotlib>=2.2->seaborn) (2.8.1)\n",
      "Requirement already satisfied: cycler>=0.10 in c:\\users\\jolin\\anaconda3\\lib\\site-packages (from matplotlib>=2.2->seaborn) (0.10.0)\n",
      "Requirement already satisfied: six in c:\\users\\jolin\\anaconda3\\lib\\site-packages (from cycler>=0.10->matplotlib>=2.2->seaborn) (1.15.0)\n",
      "Requirement already satisfied: pytz>=2017.3 in c:\\users\\jolin\\anaconda3\\lib\\site-packages (from pandas>=0.23->seaborn) (2021.1)\n"
     ]
    }
   ],
   "source": [
    "# Installing seaborn library\n",
    "!pip install seaborn"
   ]
  },
  {
   "cell_type": "code",
   "execution_count": 31,
   "id": "087b8153",
   "metadata": {},
   "outputs": [],
   "source": [
    "import seaborn as sns # Importing seaborn"
   ]
  },
  {
   "cell_type": "code",
   "execution_count": 32,
   "id": "2e70acdb",
   "metadata": {},
   "outputs": [
    {
     "data": {
      "text/plain": [
       "<AxesSubplot:>"
      ]
     },
     "execution_count": 32,
     "metadata": {},
     "output_type": "execute_result"
    },
    {
     "data": {
      "image/png": "[encoded data removed]",
      "text/plain": [
       "<Figure size 432x288 with 1 Axes>"
      ]
     },
     "metadata": {
      "needs_background": "light"
     },
     "output_type": "display_data"
    }
   ],
   "source": [
    "# Lineplot of numbers itself, its square and its cube\n",
    "sns.lineplot(data=data1)"
   ]
  },
  {
   "cell_type": "markdown",
   "id": "7aa7a78c",
   "metadata": {},
   "source": [
    "# Theano"
   ]
  },
  {
   "cell_type": "markdown",
   "id": "77107586",
   "metadata": {},
   "source": [
    "## About the library\n",
    " - Theano is a Python library for fast numerical computation that can be run on the CPU or GPU.\n",
    " - It is a key foundational library for Deep Learning in Python that we can use directly to create Deep Learning models or wrapper libraries that greatly simplify the process.\n",
    " - It knows how to take structures and convert them into very efficient code that uses numpy and some native libraries.\n",
    " - It is mainly designed to handle the types of computation required for large neural network algorithms used in Deep Learning."
   ]
  },
  {
   "cell_type": "code",
   "execution_count": 1,
   "id": "5d9c8587",
   "metadata": {},
   "outputs": [
    {
     "name": "stdout",
     "output_type": "stream",
     "text": [
      "Requirement already satisfied: theano in c:\\users\\jolin\\anaconda3\\lib\\site-packages (1.0.5)\n",
      "Requirement already satisfied: numpy>=1.9.1 in c:\\users\\jolin\\anaconda3\\lib\\site-packages (from theano) (1.20.1)\n",
      "Requirement already satisfied: scipy>=0.14 in c:\\users\\jolin\\anaconda3\\lib\\site-packages (from theano) (1.6.2)\n",
      "Requirement already satisfied: six>=1.9.0 in c:\\users\\jolin\\anaconda3\\lib\\site-packages (from theano) (1.15.0)\n"
     ]
    }
   ],
   "source": [
    "# Installing theano library\n",
    "!pip install theano"
   ]
  },
  {
   "cell_type": "code",
   "execution_count": 3,
   "id": "23e58086",
   "metadata": {},
   "outputs": [],
   "source": [
    "import theano # impoting theano"
   ]
  },
  {
   "cell_type": "code",
   "execution_count": 4,
   "id": "19643839",
   "metadata": {},
   "outputs": [
    {
     "data": {
      "text/plain": [
       "array([[-596., -781.],\n",
       "       [   0.,   66.]])"
      ]
     },
     "execution_count": 4,
     "metadata": {},
     "output_type": "execute_result"
    }
   ],
   "source": [
    "# Python program showing addition of two matrices\n",
    "import numpy\n",
    "# Subtracting two matrices\n",
    "import theano.tensor as T\n",
    "from theano import function\n",
    "x = T.dmatrix('x')\n",
    "y = T.dmatrix('y')\n",
    "z = x - y\n",
    "f = function([x, y], z)\n",
    " \n",
    "f([[70, 5], [8, 75]], [[666, 786], [8, 9]])"
   ]
  },
  {
   "cell_type": "markdown",
   "id": "12f7e751",
   "metadata": {},
   "source": [
    "# Scipy"
   ]
  },
  {
   "cell_type": "markdown",
   "id": "8d78a882",
   "metadata": {},
   "source": [
    "## About the library\n",
    " - SciPy is a scientific computation library that uses NumPy underneath.\n",
    " - It provides more utility functions for optimization, stats and signal processing.\n",
    " - It has optimized and added functions that are frequently used in NumPy and Data Science."
   ]
  },
  {
   "cell_type": "code",
   "execution_count": 5,
   "id": "34512fed",
   "metadata": {},
   "outputs": [
    {
     "name": "stdout",
     "output_type": "stream",
     "text": [
      "Requirement already satisfied: scipy in c:\\users\\jolin\\anaconda3\\lib\\site-packages (1.6.2)\n",
      "Requirement already satisfied: numpy<1.23.0,>=1.16.5 in c:\\users\\jolin\\anaconda3\\lib\\site-packages (from scipy) (1.20.1)\n"
     ]
    }
   ],
   "source": [
    "# Installing scipy library\n",
    "!pip install scipy"
   ]
  },
  {
   "cell_type": "code",
   "execution_count": 6,
   "id": "232480ec",
   "metadata": {},
   "outputs": [],
   "source": [
    "import scipy as sp # Importing scipy"
   ]
  },
  {
   "cell_type": "code",
   "execution_count": 7,
   "id": "49d0a8f6",
   "metadata": {},
   "outputs": [
    {
     "name": "stdout",
     "output_type": "stream",
     "text": [
      "eigen values:  [ 15.02948531+0.j  72.09356011+0.j 285.87695458+0.j]\n",
      "eigen vectors:  [[ 0.02628004 -0.50326991 -0.18077671]\n",
      " [ 0.68517571  0.73000565 -0.79412614]\n",
      " [-0.72790357 -0.46239718 -0.58024431]]\n"
     ]
    }
   ],
   "source": [
    "# Find eigenvalues and eigenvectors of a matrix\n",
    "import numpy as np\n",
    "import scipy as sc\n",
    "A = np.array([[85, 26, 27],\n",
    "             [10, 174, 150],\n",
    "             [108, 101, 114]])\n",
    "eigen_values, eigen_vectors = sc.linalg.eig(A)\n",
    "print(\"eigen values: \", eigen_values)\n",
    "print(\"eigen vectors: \", eigen_vectors)"
   ]
  },
  {
   "cell_type": "markdown",
   "id": "ddaf0ae9",
   "metadata": {},
   "source": [
    "# Pytorch"
   ]
  },
  {
   "cell_type": "markdown",
   "id": "faac0bc3",
   "metadata": {},
   "source": [
    "## About the library\n",
    " - The most commonly used libraries in deep learning are Tensorflow and PyTorch.\n",
    " - It is an open-source deep learning framework available with a Python and C++ interface. Pytorch resides inside the torch module. In PyTorch, the data that has to be processed is input in the form of a tensor.\n",
    " - It is an optimized tensor library primarily used for Deep Learning applications using GPUs and CPUs."
   ]
  },
  {
   "cell_type": "code",
   "execution_count": 8,
   "id": "816cb54e",
   "metadata": {},
   "outputs": [
    {
     "name": "stdout",
     "output_type": "stream",
     "text": [
      "Requirement already satisfied: torch in c:\\users\\jolin\\anaconda3\\lib\\site-packages (1.10.2)\n",
      "Requirement already satisfied: typing-extensions in c:\\users\\jolin\\anaconda3\\lib\\site-packages (from torch) (3.7.4.3)\n"
     ]
    }
   ],
   "source": [
    "# Installing torch package\n",
    "!pip install torch"
   ]
  },
  {
   "cell_type": "code",
   "execution_count": 9,
   "id": "9b9dec5b",
   "metadata": {},
   "outputs": [
    {
     "name": "stdout",
     "output_type": "stream",
     "text": [
      "Tensor t1: \n",
      " tensor([ 78, 222, 103, 144])\n",
      "\n",
      "Tensor t2: \n",
      " tensor([[105,  27,  34, 234],\n",
      "        [ 56,  65,  79,  81],\n",
      "        [  7,  10,   1,   1]])\n",
      "\n",
      "Rank of t1:  1\n",
      "Rank of t2:  2\n",
      "\n",
      "Shape of t1:  torch.Size([4])\n",
      "Shape of t2:  torch.Size([3, 4])\n"
     ]
    }
   ],
   "source": [
    "# importing torch\n",
    "import torch\n",
    "# creating a tensors\n",
    "t1=torch.tensor([78, 222, 103, 144])\n",
    "t2=torch.tensor([[105, 27, 34, 234],\n",
    "                 [56, 65, 79, 81],\n",
    "                 [7, 10, 1, 1]])\n",
    "# printing the tensors:\n",
    "print(\"Tensor t1: \\n\", t1)\n",
    "print(\"\\nTensor t2: \\n\", t2)\n",
    "# rank of tensors\n",
    "print(\"\\nRank of t1: \", len(t1.shape))\n",
    "print(\"Rank of t2: \", len(t2.shape))\n",
    "# shape of tensors\n",
    "print(\"\\nShape of t1: \", t1.shape)\n",
    "print(\"Shape of t2: \", t2.shape)"
   ]
  },
  {
   "cell_type": "markdown",
   "id": "1f7f6ef7",
   "metadata": {},
   "source": [
    "# Keras"
   ]
  },
  {
   "cell_type": "markdown",
   "id": "f10e5374",
   "metadata": {},
   "source": [
    "# About the library\n",
    " - Keras is an open-source software library that provides a Python interface for artificial neural networks.\n",
    " - Keras acts as an interface for the TensorFlow library.\n",
    " - Keras supported multiple backends, including TensorFlow, Microsoft Cognitive Toolkit, Theano, and PlaidML."
   ]
  },
  {
   "cell_type": "code",
   "execution_count": 21,
   "id": "c0c63928",
   "metadata": {},
   "outputs": [
    {
     "name": "stdout",
     "output_type": "stream",
     "text": [
      "Requirement already satisfied: keras in c:\\users\\jolin\\anaconda3\\lib\\site-packages (2.8.0)\n"
     ]
    }
   ],
   "source": [
    "# Installing keras library\n",
    "!pip install keras"
   ]
  },
  {
   "cell_type": "code",
   "execution_count": 27,
   "id": "c23c6533",
   "metadata": {},
   "outputs": [],
   "source": [
    "import keras # Importing keras\n",
    "from keras.models import Sequential\n",
    "from keras.layers import Dense, Flatten"
   ]
  },
  {
   "cell_type": "code",
   "execution_count": 28,
   "id": "aed4531d",
   "metadata": {},
   "outputs": [],
   "source": [
    "# Import `Sequential` from `keras.models`\n",
    "from keras.models import Sequential\n",
    "\n",
    "# Import `Dense` from `keras.layers`\n",
    "from keras.layers import Dense\n",
    "\n",
    "# Initialize the constructor\n",
    "model = Sequential()\n",
    "\n",
    "# Add an input layer \n",
    "model.add(Dense(12, activation='relu', input_shape=(11,)))\n",
    "\n",
    "# Add one hidden layer \n",
    "model.add(Dense(8, activation='relu'))\n",
    "\n",
    "# Add an output layer \n",
    "model.add(Dense(1, activation='sigmoid'))"
   ]
  },
  {
   "cell_type": "code",
   "execution_count": 29,
   "id": "3b2a7bd8",
   "metadata": {},
   "outputs": [
    {
     "name": "stdout",
     "output_type": "stream",
     "text": [
      "Model: \"sequential\"\n",
      "_________________________________________________________________\n",
      " Layer (type)                Output Shape              Param #   \n",
      "=================================================================\n",
      " dense (Dense)               (None, 12)                144       \n",
      "                                                                 \n",
      " dense_1 (Dense)             (None, 8)                 104       \n",
      "                                                                 \n",
      " dense_2 (Dense)             (None, 1)                 9         \n",
      "                                                                 \n",
      "=================================================================\n",
      "Total params: 257\n",
      "Trainable params: 257\n",
      "Non-trainable params: 0\n",
      "_________________________________________________________________\n"
     ]
    },
    {
     "data": {
      "text/plain": [
       "[array([[ 0.3250572 ,  0.41856492, -0.21145776,  0.4891929 , -0.25952834,\n",
       "         -0.4517258 ,  0.39101446, -0.5081742 ,  0.10337973,  0.11058199,\n",
       "          0.11275589,  0.36706114],\n",
       "        [ 0.2470423 , -0.22986001, -0.19702992,  0.14003313, -0.37315395,\n",
       "         -0.49637324, -0.26376507,  0.20663428, -0.33160445, -0.01446581,\n",
       "          0.17061657,  0.38109064],\n",
       "        [-0.3749181 , -0.35186607, -0.00720483, -0.14777595, -0.2763121 ,\n",
       "          0.05599922,  0.33066767,  0.31304342, -0.47707352, -0.45595562,\n",
       "          0.23446304, -0.46676335],\n",
       "        [ 0.29385048, -0.08445984, -0.41964978,  0.4433437 ,  0.1775294 ,\n",
       "          0.22363955,  0.4112249 ,  0.20470542,  0.41997176, -0.4729208 ,\n",
       "          0.42095834,  0.4146757 ],\n",
       "        [-0.43440807, -0.3300907 ,  0.23429632, -0.0009408 , -0.03763512,\n",
       "          0.21242112,  0.05974972, -0.20961058, -0.40393433, -0.3965717 ,\n",
       "         -0.14184839,  0.45279437],\n",
       "        [ 0.02412951,  0.19170707, -0.21105626, -0.38787246,  0.39109325,\n",
       "          0.018071  , -0.1982148 , -0.24996927,  0.09435111,  0.2460708 ,\n",
       "          0.34621543,  0.15289235],\n",
       "        [ 0.40358073,  0.00395924, -0.29366758,  0.01998186, -0.30935404,\n",
       "         -0.23154667, -0.31661367,  0.14527982,  0.3101262 , -0.04582778,\n",
       "          0.10638535, -0.3753634 ],\n",
       "        [ 0.47559446,  0.01186961, -0.38138047,  0.36541378, -0.39962113,\n",
       "          0.40846092, -0.44901893,  0.12721854, -0.29318255, -0.3632387 ,\n",
       "         -0.20802703,  0.06268263],\n",
       "        [-0.44103414,  0.08473575, -0.46397853, -0.29563203, -0.05684897,\n",
       "         -0.11186978, -0.29591346, -0.31223607, -0.34336227,  0.3666541 ,\n",
       "         -0.49690053, -0.23576659],\n",
       "        [ 0.05646151,  0.47223866, -0.25205767,  0.4464457 ,  0.40516305,\n",
       "          0.44127303, -0.5042483 , -0.06882805, -0.46376127,  0.16048545,\n",
       "          0.21538043,  0.17347437],\n",
       "        [-0.12814015,  0.07372689, -0.3742224 ,  0.15359867, -0.39425117,\n",
       "         -0.24286208, -0.08031565,  0.17413157,  0.09491199,  0.30327803,\n",
       "          0.47686493,  0.32199693]], dtype=float32),\n",
       " array([0., 0., 0., 0., 0., 0., 0., 0., 0., 0., 0., 0.], dtype=float32),\n",
       " array([[ 0.08186477, -0.1630981 ,  0.2687587 , -0.0825634 , -0.17121398,\n",
       "          0.27587312, -0.08376428,  0.26518792],\n",
       "        [-0.42357016,  0.38154745, -0.19550398, -0.28587884,  0.05118525,\n",
       "         -0.26081994, -0.34369072, -0.31689852],\n",
       "        [ 0.07486123, -0.14385098,  0.45177686,  0.48869765,  0.48593307,\n",
       "          0.41943723,  0.46324325,  0.53001654],\n",
       "        [-0.3542056 , -0.07612726,  0.19272524, -0.09922868, -0.46399605,\n",
       "         -0.08588043, -0.04827744, -0.48934513],\n",
       "        [ 0.34792632,  0.02686352, -0.18675476, -0.32008618, -0.18428746,\n",
       "          0.15659511,  0.11376601, -0.11966977],\n",
       "        [ 0.39600998, -0.13083339,  0.07615483, -0.3842997 , -0.06087899,\n",
       "         -0.15985262,  0.25857908, -0.5004657 ],\n",
       "        [ 0.40400702,  0.41160077, -0.48814946, -0.02121478, -0.08797729,\n",
       "         -0.2209484 ,  0.17709655,  0.11929756],\n",
       "        [-0.07389998, -0.18915406,  0.04602849,  0.31403774, -0.24664888,\n",
       "         -0.40410066,  0.2116788 ,  0.13470232],\n",
       "        [ 0.41039312, -0.5207211 ,  0.34602982, -0.16496107, -0.28344366,\n",
       "          0.30420387,  0.4143532 , -0.31033522],\n",
       "        [-0.10578299, -0.08113712, -0.31499183, -0.46641243,  0.06172705,\n",
       "         -0.30523956,  0.13245046,  0.03563374],\n",
       "        [ 0.06587446,  0.5368322 ,  0.54470897,  0.2965995 , -0.20441252,\n",
       "          0.44370425,  0.12082636,  0.00225079],\n",
       "        [-0.46413994,  0.3149302 ,  0.3461579 ,  0.21281826, -0.45797232,\n",
       "         -0.04534161,  0.5282645 , -0.02059585]], dtype=float32),\n",
       " array([0., 0., 0., 0., 0., 0., 0., 0.], dtype=float32),\n",
       " array([[ 0.3567208 ],\n",
       "        [-0.11590552],\n",
       "        [-0.11580741],\n",
       "        [ 0.13577777],\n",
       "        [-0.6021944 ],\n",
       "        [-0.6431253 ],\n",
       "        [-0.29434592],\n",
       "        [-0.40066034]], dtype=float32),\n",
       " array([0.], dtype=float32)]"
      ]
     },
     "execution_count": 29,
     "metadata": {},
     "output_type": "execute_result"
    }
   ],
   "source": [
    "# Model output shape\n",
    "model.output_shape\n",
    "\n",
    "# Model summary\n",
    "model.summary()\n",
    "\n",
    "# Model config\n",
    "model.get_config()\n",
    "\n",
    "# List all weight tensors \n",
    "model.get_weights()"
   ]
  },
  {
   "cell_type": "markdown",
   "id": "3bfc9f4b",
   "metadata": {},
   "source": [
    "# Tensorflow"
   ]
  },
  {
   "cell_type": "markdown",
   "id": "c07f79f2",
   "metadata": {},
   "source": [
    "## About the library\n",
    " - TensorFlow is a Python library for fast numerical computing created and released by Google.\n",
    " - It is a foundation library that can be used to create Deep Learning models directly or by using wrapper libraries that simplify the process built on top of TensorFlow.\n",
    " - It is an open source artificial intelligence library, using data flow graphs to build models. \n",
    " - It allows developers to create large-scale neural networks with many layers. \n",
    " - It is mainly used for Classification, Perception, Understanding, Discovering, Prediction and Creation."
   ]
  },
  {
   "cell_type": "code",
   "execution_count": 25,
   "id": "8bb3cd31",
   "metadata": {},
   "outputs": [
    {
     "name": "stdout",
     "output_type": "stream",
     "text": [
      "Collecting tensorflow\n",
      "  Using cached tensorflow-2.8.0-cp38-cp38-win_amd64.whl (438.0 MB)\n",
      "Collecting astunparse>=1.6.0\n",
      "  Downloading astunparse-1.6.3-py2.py3-none-any.whl (12 kB)\n",
      "Collecting tf-estimator-nightly==2.8.0.dev2021122109\n",
      "  Downloading tf_estimator_nightly-2.8.0.dev2021122109-py2.py3-none-any.whl (462 kB)\n",
      "Collecting tensorflow-io-gcs-filesystem>=0.23.1\n",
      "  Downloading tensorflow_io_gcs_filesystem-0.24.0-cp38-cp38-win_amd64.whl (1.5 MB)\n",
      "Collecting grpcio<2.0,>=1.24.3\n",
      "  Downloading grpcio-1.44.0-cp38-cp38-win_amd64.whl (3.4 MB)\n",
      "Collecting tensorboard<2.9,>=2.8\n",
      "  Using cached tensorboard-2.8.0-py3-none-any.whl (5.8 MB)\n",
      "Requirement already satisfied: wrapt>=1.11.0 in c:\\users\\jolin\\anaconda3\\lib\\site-packages (from tensorflow) (1.12.1)\n",
      "Collecting libclang>=9.0.1\n",
      "  Downloading libclang-13.0.0-py2.py3-none-win_amd64.whl (13.9 MB)\n",
      "Collecting opt-einsum>=2.3.2\n",
      "  Using cached opt_einsum-3.3.0-py3-none-any.whl (65 kB)\n",
      "Collecting termcolor>=1.1.0\n",
      "  Using cached termcolor-1.1.0.tar.gz (3.9 kB)\n",
      "Requirement already satisfied: typing-extensions>=3.6.6 in c:\\users\\jolin\\anaconda3\\lib\\site-packages (from tensorflow) (3.7.4.3)\n",
      "Collecting protobuf>=3.9.2\n",
      "  Using cached protobuf-3.19.4-cp38-cp38-win_amd64.whl (895 kB)\n",
      "Collecting keras-preprocessing>=1.1.1\n",
      "  Downloading Keras_Preprocessing-1.1.2-py2.py3-none-any.whl (42 kB)\n",
      "Requirement already satisfied: keras<2.9,>=2.8.0rc0 in c:\\users\\jolin\\anaconda3\\lib\\site-packages (from tensorflow) (2.8.0)\n",
      "Collecting gast>=0.2.1\n",
      "  Using cached gast-0.5.3-py3-none-any.whl (19 kB)\n",
      "Requirement already satisfied: setuptools in c:\\users\\jolin\\anaconda3\\lib\\site-packages (from tensorflow) (52.0.0.post20210125)\n",
      "Collecting google-pasta>=0.1.1\n",
      "  Using cached google_pasta-0.2.0-py3-none-any.whl (57 kB)\n",
      "Requirement already satisfied: numpy>=1.20 in c:\\users\\jolin\\anaconda3\\lib\\site-packages (from tensorflow) (1.20.1)\n",
      "Collecting absl-py>=0.4.0\n",
      "  Downloading absl_py-1.0.0-py3-none-any.whl (126 kB)\n",
      "Requirement already satisfied: six>=1.12.0 in c:\\users\\jolin\\anaconda3\\lib\\site-packages (from tensorflow) (1.15.0)\n",
      "Collecting flatbuffers>=1.12\n",
      "  Using cached flatbuffers-2.0-py2.py3-none-any.whl (26 kB)\n",
      "Requirement already satisfied: h5py>=2.9.0 in c:\\users\\jolin\\anaconda3\\lib\\site-packages (from tensorflow) (2.10.0)\n",
      "Requirement already satisfied: wheel<1.0,>=0.23.0 in c:\\users\\jolin\\anaconda3\\lib\\site-packages (from astunparse>=1.6.0->tensorflow) (0.36.2)\n",
      "Collecting markdown>=2.6.8\n",
      "  Downloading Markdown-3.3.6-py3-none-any.whl (97 kB)\n",
      "Collecting tensorboard-data-server<0.7.0,>=0.6.0\n",
      "  Downloading tensorboard_data_server-0.6.1-py3-none-any.whl (2.4 kB)\n",
      "Collecting google-auth<3,>=1.6.3\n",
      "  Downloading google_auth-2.6.0-py2.py3-none-any.whl (156 kB)\n",
      "Requirement already satisfied: werkzeug>=0.11.15 in c:\\users\\jolin\\anaconda3\\lib\\site-packages (from tensorboard<2.9,>=2.8->tensorflow) (1.0.1)\n",
      "Requirement already satisfied: requests<3,>=2.21.0 in c:\\users\\jolin\\anaconda3\\lib\\site-packages (from tensorboard<2.9,>=2.8->tensorflow) (2.25.1)\n",
      "Collecting google-auth-oauthlib<0.5,>=0.4.1\n",
      "  Downloading google_auth_oauthlib-0.4.6-py2.py3-none-any.whl (18 kB)\n",
      "Collecting tensorboard-plugin-wit>=1.6.0\n",
      "  Downloading tensorboard_plugin_wit-1.8.1-py3-none-any.whl (781 kB)\n",
      "Collecting pyasn1-modules>=0.2.1\n",
      "  Downloading pyasn1_modules-0.2.8-py2.py3-none-any.whl (155 kB)\n",
      "Collecting cachetools<6.0,>=2.0.0\n",
      "  Downloading cachetools-5.0.0-py3-none-any.whl (9.1 kB)\n",
      "Collecting rsa<5,>=3.1.4\n",
      "  Downloading rsa-4.8-py3-none-any.whl (39 kB)\n",
      "Collecting requests-oauthlib>=0.7.0\n",
      "  Downloading requests_oauthlib-1.3.1-py2.py3-none-any.whl (23 kB)\n",
      "Collecting importlib-metadata>=4.4\n",
      "  Downloading importlib_metadata-4.11.1-py3-none-any.whl (17 kB)\n",
      "Requirement already satisfied: zipp>=0.5 in c:\\users\\jolin\\anaconda3\\lib\\site-packages (from importlib-metadata>=4.4->markdown>=2.6.8->tensorboard<2.9,>=2.8->tensorflow) (3.4.1)\n",
      "Collecting pyasn1<0.5.0,>=0.4.6\n",
      "  Downloading pyasn1-0.4.8-py2.py3-none-any.whl (77 kB)\n",
      "Requirement already satisfied: idna<3,>=2.5 in c:\\users\\jolin\\anaconda3\\lib\\site-packages (from requests<3,>=2.21.0->tensorboard<2.9,>=2.8->tensorflow) (2.10)\n",
      "Requirement already satisfied: chardet<5,>=3.0.2 in c:\\users\\jolin\\anaconda3\\lib\\site-packages (from requests<3,>=2.21.0->tensorboard<2.9,>=2.8->tensorflow) (4.0.0)\n",
      "Requirement already satisfied: urllib3<1.27,>=1.21.1 in c:\\users\\jolin\\anaconda3\\lib\\site-packages (from requests<3,>=2.21.0->tensorboard<2.9,>=2.8->tensorflow) (1.26.4)\n",
      "Requirement already satisfied: certifi>=2017.4.17 in c:\\users\\jolin\\anaconda3\\lib\\site-packages (from requests<3,>=2.21.0->tensorboard<2.9,>=2.8->tensorflow) (2020.12.5)\n",
      "Collecting oauthlib>=3.0.0\n",
      "  Downloading oauthlib-3.2.0-py3-none-any.whl (151 kB)\n",
      "Building wheels for collected packages: termcolor\n",
      "  Building wheel for termcolor (setup.py): started\n",
      "  Building wheel for termcolor (setup.py): finished with status 'done'\n",
      "  Created wheel for termcolor: filename=termcolor-1.1.0-py3-none-any.whl size=4829 sha256=886fe8195db622bd0bbe7fb9f8c884275b2890d31d8edaea8f1f226b67596787\n",
      "  Stored in directory: c:\\users\\jolin\\appdata\\local\\pip\\cache\\wheels\\a0\\16\\9c\\5473df82468f958445479c59e784896fa24f4a5fc024b0f501\n",
      "Successfully built termcolor\n",
      "Installing collected packages: pyasn1, rsa, pyasn1-modules, oauthlib, cachetools, requests-oauthlib, importlib-metadata, google-auth, tensorboard-plugin-wit, tensorboard-data-server, protobuf, markdown, grpcio, google-auth-oauthlib, absl-py, tf-estimator-nightly, termcolor, tensorflow-io-gcs-filesystem, tensorboard, opt-einsum, libclang, keras-preprocessing, google-pasta, gast, flatbuffers, astunparse, tensorflow\n",
      "  Attempting uninstall: importlib-metadata\n",
      "    Found existing installation: importlib-metadata 3.10.0\n",
      "    Uninstalling importlib-metadata-3.10.0:\n",
      "      Successfully uninstalled importlib-metadata-3.10.0\n",
      "Successfully installed absl-py-1.0.0 astunparse-1.6.3 cachetools-5.0.0 flatbuffers-2.0 gast-0.5.3 google-auth-2.6.0 google-auth-oauthlib-0.4.6 google-pasta-0.2.0 grpcio-1.44.0 importlib-metadata-4.11.1 keras-preprocessing-1.1.2 libclang-13.0.0 markdown-3.3.6 oauthlib-3.2.0 opt-einsum-3.3.0 protobuf-3.19.4 pyasn1-0.4.8 pyasn1-modules-0.2.8 requests-oauthlib-1.3.1 rsa-4.8 tensorboard-2.8.0 tensorboard-data-server-0.6.1 tensorboard-plugin-wit-1.8.1 tensorflow-2.8.0 tensorflow-io-gcs-filesystem-0.24.0 termcolor-1.1.0 tf-estimator-nightly-2.8.0.dev2021122109\n",
      "Collecting tensorflow\n",
      "  Using cached tensorflow-2.8.0-cp38-cp38-win_amd64.whl (438.0 MB)\n",
      "Requirement already satisfied: libclang>=9.0.1 in c:\\users\\jolin\\anaconda3\\lib\\site-packages (from tensorflow) (13.0.0)\n",
      "Requirement already satisfied: h5py>=2.9.0 in c:\\users\\jolin\\anaconda3\\lib\\site-packages (from tensorflow) (2.10.0)\n",
      "Requirement already satisfied: opt-einsum>=2.3.2 in c:\\users\\jolin\\anaconda3\\lib\\site-packages (from tensorflow) (3.3.0)\n",
      "Requirement already satisfied: keras-preprocessing>=1.1.1 in c:\\users\\jolin\\anaconda3\\lib\\site-packages (from tensorflow) (1.1.2)\n",
      "Requirement already satisfied: google-pasta>=0.1.1 in c:\\users\\jolin\\anaconda3\\lib\\site-packages (from tensorflow) (0.2.0)\n",
      "Requirement already satisfied: astunparse>=1.6.0 in c:\\users\\jolin\\anaconda3\\lib\\site-packages (from tensorflow) (1.6.3)\n",
      "Requirement already satisfied: protobuf>=3.9.2 in c:\\users\\jolin\\anaconda3\\lib\\site-packages (from tensorflow) (3.19.4)\n",
      "Requirement already satisfied: six>=1.12.0 in c:\\users\\jolin\\anaconda3\\lib\\site-packages (from tensorflow) (1.15.0)\n",
      "Requirement already satisfied: termcolor>=1.1.0 in c:\\users\\jolin\\anaconda3\\lib\\site-packages (from tensorflow) (1.1.0)\n",
      "Requirement already satisfied: typing-extensions>=3.6.6 in c:\\users\\jolin\\anaconda3\\lib\\site-packages (from tensorflow) (3.7.4.3)\n",
      "Requirement already satisfied: absl-py>=0.4.0 in c:\\users\\jolin\\anaconda3\\lib\\site-packages (from tensorflow) (1.0.0)\n",
      "Requirement already satisfied: gast>=0.2.1 in c:\\users\\jolin\\anaconda3\\lib\\site-packages (from tensorflow) (0.5.3)\n",
      "Requirement already satisfied: flatbuffers>=1.12 in c:\\users\\jolin\\anaconda3\\lib\\site-packages (from tensorflow) (2.0)\n",
      "Requirement already satisfied: keras<2.9,>=2.8.0rc0 in c:\\users\\jolin\\anaconda3\\lib\\site-packages (from tensorflow) (2.8.0)\n",
      "Requirement already satisfied: tensorflow-io-gcs-filesystem>=0.23.1 in c:\\users\\jolin\\anaconda3\\lib\\site-packages (from tensorflow) (0.24.0)\n",
      "Requirement already satisfied: setuptools in c:\\users\\jolin\\anaconda3\\lib\\site-packages (from tensorflow) (52.0.0.post20210125)\n",
      "Requirement already satisfied: tf-estimator-nightly==2.8.0.dev2021122109 in c:\\users\\jolin\\anaconda3\\lib\\site-packages (from tensorflow) (2.8.0.dev2021122109)\n",
      "Requirement already satisfied: wrapt>=1.11.0 in c:\\users\\jolin\\anaconda3\\lib\\site-packages (from tensorflow) (1.12.1)\n",
      "Requirement already satisfied: grpcio<2.0,>=1.24.3 in c:\\users\\jolin\\anaconda3\\lib\\site-packages (from tensorflow) (1.44.0)\n",
      "Requirement already satisfied: tensorboard<2.9,>=2.8 in c:\\users\\jolin\\anaconda3\\lib\\site-packages (from tensorflow) (2.8.0)\n",
      "Requirement already satisfied: numpy>=1.20 in c:\\users\\jolin\\anaconda3\\lib\\site-packages (from tensorflow) (1.20.1)\n",
      "Requirement already satisfied: wheel<1.0,>=0.23.0 in c:\\users\\jolin\\anaconda3\\lib\\site-packages (from astunparse>=1.6.0->tensorflow) (0.36.2)\n",
      "Requirement already satisfied: google-auth-oauthlib<0.5,>=0.4.1 in c:\\users\\jolin\\anaconda3\\lib\\site-packages (from tensorboard<2.9,>=2.8->tensorflow) (0.4.6)\n",
      "Requirement already satisfied: werkzeug>=0.11.15 in c:\\users\\jolin\\anaconda3\\lib\\site-packages (from tensorboard<2.9,>=2.8->tensorflow) (1.0.1)\n",
      "Requirement already satisfied: google-auth<3,>=1.6.3 in c:\\users\\jolin\\anaconda3\\lib\\site-packages (from tensorboard<2.9,>=2.8->tensorflow) (2.6.0)\n",
      "Requirement already satisfied: tensorboard-data-server<0.7.0,>=0.6.0 in c:\\users\\jolin\\anaconda3\\lib\\site-packages (from tensorboard<2.9,>=2.8->tensorflow) (0.6.1)\n",
      "Requirement already satisfied: requests<3,>=2.21.0 in c:\\users\\jolin\\anaconda3\\lib\\site-packages (from tensorboard<2.9,>=2.8->tensorflow) (2.25.1)\n",
      "Requirement already satisfied: markdown>=2.6.8 in c:\\users\\jolin\\anaconda3\\lib\\site-packages (from tensorboard<2.9,>=2.8->tensorflow) (3.3.6)\n",
      "Requirement already satisfied: tensorboard-plugin-wit>=1.6.0 in c:\\users\\jolin\\anaconda3\\lib\\site-packages (from tensorboard<2.9,>=2.8->tensorflow) (1.8.1)\n",
      "Requirement already satisfied: rsa<5,>=3.1.4 in c:\\users\\jolin\\anaconda3\\lib\\site-packages (from google-auth<3,>=1.6.3->tensorboard<2.9,>=2.8->tensorflow) (4.8)\n",
      "Requirement already satisfied: cachetools<6.0,>=2.0.0 in c:\\users\\jolin\\anaconda3\\lib\\site-packages (from google-auth<3,>=1.6.3->tensorboard<2.9,>=2.8->tensorflow) (5.0.0)\n",
      "Requirement already satisfied: pyasn1-modules>=0.2.1 in c:\\users\\jolin\\anaconda3\\lib\\site-packages (from google-auth<3,>=1.6.3->tensorboard<2.9,>=2.8->tensorflow) (0.2.8)\n",
      "Requirement already satisfied: requests-oauthlib>=0.7.0 in c:\\users\\jolin\\anaconda3\\lib\\site-packages (from google-auth-oauthlib<0.5,>=0.4.1->tensorboard<2.9,>=2.8->tensorflow) (1.3.1)\n",
      "Requirement already satisfied: importlib-metadata>=4.4 in c:\\users\\jolin\\anaconda3\\lib\\site-packages (from markdown>=2.6.8->tensorboard<2.9,>=2.8->tensorflow) (4.11.1)\n",
      "Requirement already satisfied: zipp>=0.5 in c:\\users\\jolin\\anaconda3\\lib\\site-packages (from importlib-metadata>=4.4->markdown>=2.6.8->tensorboard<2.9,>=2.8->tensorflow) (3.4.1)\n",
      "Requirement already satisfied: pyasn1<0.5.0,>=0.4.6 in c:\\users\\jolin\\anaconda3\\lib\\site-packages (from pyasn1-modules>=0.2.1->google-auth<3,>=1.6.3->tensorboard<2.9,>=2.8->tensorflow) (0.4.8)\n",
      "Requirement already satisfied: chardet<5,>=3.0.2 in c:\\users\\jolin\\anaconda3\\lib\\site-packages (from requests<3,>=2.21.0->tensorboard<2.9,>=2.8->tensorflow) (4.0.0)\n",
      "Requirement already satisfied: urllib3<1.27,>=1.21.1 in c:\\users\\jolin\\anaconda3\\lib\\site-packages (from requests<3,>=2.21.0->tensorboard<2.9,>=2.8->tensorflow) (1.26.4)\n",
      "Requirement already satisfied: idna<3,>=2.5 in c:\\users\\jolin\\anaconda3\\lib\\site-packages (from requests<3,>=2.21.0->tensorboard<2.9,>=2.8->tensorflow) (2.10)\n",
      "Requirement already satisfied: certifi>=2017.4.17 in c:\\users\\jolin\\anaconda3\\lib\\site-packages (from requests<3,>=2.21.0->tensorboard<2.9,>=2.8->tensorflow) (2020.12.5)\n",
      "Requirement already satisfied: oauthlib>=3.0.0 in c:\\users\\jolin\\anaconda3\\lib\\site-packages (from requests-oauthlib>=0.7.0->google-auth-oauthlib<0.5,>=0.4.1->tensorboard<2.9,>=2.8->tensorflow) (3.2.0)\n",
      "Installing collected packages: tensorflow\n",
      "Successfully installed tensorflow-2.8.0\n"
     ]
    }
   ],
   "source": [
    "# Installing tensorflow library\n",
    "!pip install tensorflow"
   ]
  },
  {
   "cell_type": "code",
   "execution_count": 26,
   "id": "4a8ebe8e",
   "metadata": {},
   "outputs": [],
   "source": [
    "import tensorflow as tf # Importing tensorflow"
   ]
  },
  {
   "cell_type": "code",
   "execution_count": 33,
   "id": "2f25e4f3",
   "metadata": {},
   "outputs": [
    {
     "name": "stdout",
     "output_type": "stream",
     "text": [
      "Downloading data from https://storage.googleapis.com/tensorflow/tf-keras-datasets/mnist.npz\n",
      "11493376/11490434 [==============================] - 50s 4us/step\n",
      "11501568/11490434 [==============================] - 50s 4us/step\n"
     ]
    }
   ],
   "source": [
    "# Load and prepare the MNIST dataset. Convert the sample data from integers to floating-point numbers\n",
    "mnist = tf.keras.datasets.mnist\n",
    "\n",
    "(x_train, y_train), (x_test, y_test) = mnist.load_data()\n",
    "x_train, x_test = x_train / 255.0, x_test / 255.0"
   ]
  },
  {
   "cell_type": "code",
   "execution_count": 34,
   "id": "7cb16736",
   "metadata": {},
   "outputs": [],
   "source": [
    "# Build a tf.keras.Sequential model by stacking layers\n",
    "model = tf.keras.models.Sequential([\n",
    "  tf.keras.layers.Flatten(input_shape=(28, 28)),\n",
    "  tf.keras.layers.Dense(128, activation='relu'),\n",
    "  tf.keras.layers.Dropout(0.2),\n",
    "  tf.keras.layers.Dense(10)\n",
    "])"
   ]
  },
  {
   "cell_type": "code",
   "execution_count": 35,
   "id": "8d9629f3",
   "metadata": {},
   "outputs": [
    {
     "data": {
      "text/plain": [
       "array([[-0.13553882,  0.13636765,  0.16325796, -0.09384993, -0.56842715,\n",
       "        -0.6034273 , -0.01139483,  0.2887578 , -0.15938684,  0.54229873]],\n",
       "      dtype=float32)"
      ]
     },
     "execution_count": 35,
     "metadata": {},
     "output_type": "execute_result"
    }
   ],
   "source": [
    "# the model returns a vector of logits or log-odds scores, one for each class\n",
    "predictions = model(x_train[:1]).numpy()\n",
    "predictions"
   ]
  },
  {
   "cell_type": "markdown",
   "id": "d3916e34",
   "metadata": {},
   "source": [
    "# References\n",
    " - geeksforgeeks.org\n",
    " - https://www.tensorflow.org/tutorials/quickstart/beginner\n",
    " - https://www.datacamp.com/community/tutorials/deep-learning-python\n",
    " - https://www.geeksforgeeks.org/best-python-libraries-for-machine-learning/\n",
    " - https://towardsdatascience.com/best-python-libraries-for-machine-learning-and-deep-learning-b0bd40c7e8c\n",
    " - https://www.upgrad.com/blog/top-python-libraries-for-machine-learning/\n",
    " - https://www.datacamp.com/community/tutorials/markdown-in-jupyter-notebook"
   ]
  }
 ],
 "metadata": {
  "kernelspec": {
   "display_name": "Python 3",
   "language": "python",
   "name": "python3"
  },
  "language_info": {
   "codemirror_mode": {
    "name": "ipython",
    "version": 3
   },
   "file_extension": ".py",
   "mimetype": "text/x-python",
   "name": "python",
   "nbconvert_exporter": "python",
   "pygments_lexer": "ipython3",
   "version": "3.8.8"
  }
 },
 "nbformat": 4,
 "nbformat_minor": 5
}
